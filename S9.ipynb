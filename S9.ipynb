{
  "nbformat": 4,
  "nbformat_minor": 0,
  "metadata": {
    "colab": {
      "name": "Copy of S9.ipynb",
      "provenance": [],
      "collapsed_sections": [],
      "authorship_tag": "ABX9TyM9o+sKrLMGUXs61ZZeDV87",
      "include_colab_link": true
    },
    "kernelspec": {
      "name": "python3",
      "display_name": "Python 3"
    },
    "accelerator": "GPU"
  },
  "cells": [
    {
      "cell_type": "markdown",
      "metadata": {
        "id": "view-in-github",
        "colab_type": "text"
      },
      "source": [
        "<a href=\"https://colab.research.google.com/github/gmrammohan15/EVA4/blob/master/S9.ipynb\" target=\"_parent\"><img src=\"https://colab.research.google.com/assets/colab-badge.svg\" alt=\"Open In Colab\"/></a>"
      ]
    },
    {
      "cell_type": "code",
      "metadata": {
        "id": "DmEPfH3dLM-b",
        "colab_type": "code",
        "outputId": "ec1c0347-d874-4d98-f1b3-3e4653dc6d3f",
        "colab": {
          "base_uri": "https://localhost:8080/",
          "height": 34
        }
      },
      "source": [
        "\n",
        "from google.colab import drive\n",
        "drive.mount('/content/gdrive')"
      ],
      "execution_count": 6,
      "outputs": [
        {
          "output_type": "stream",
          "text": [
            "Drive already mounted at /content/gdrive; to attempt to forcibly remount, call drive.mount(\"/content/gdrive\", force_remount=True).\n"
          ],
          "name": "stdout"
        }
      ]
    },
    {
      "cell_type": "code",
      "metadata": {
        "id": "x0Ueod6HLcH-",
        "colab_type": "code",
        "outputId": "7cc3bb7d-c470-45e2-878c-3dd6bc0e1191",
        "colab": {
          "base_uri": "https://localhost:8080/",
          "height": 102
        }
      },
      "source": [
        "import sys\n",
        "sys.path.append('/content/gdrive/My Drive/S9-Assignment/')\n",
        "!ls /content/gdrive/My\\ Drive/S9-Assignment"
      ],
      "execution_count": 7,
      "outputs": [
        {
          "output_type": "stream",
          "text": [
            "data\t\t    __init__.py       resnet.py\n",
            "dataloader.py\t    misclassified.py  S8_Assignment.ipynb\n",
            "data_transforms.py  Models\t      Transforms_Albumentations\n",
            "eval.py\t\t    __pycache__\n",
            "grad_cam.py\t    README.md\n"
          ],
          "name": "stdout"
        }
      ]
    },
    {
      "cell_type": "code",
      "metadata": {
        "id": "hGcHWlCmLw3S",
        "colab_type": "code",
        "outputId": "5321e786-4052-4995-8ed5-74420085f0e2",
        "colab": {
          "base_uri": "https://localhost:8080/",
          "height": 34
        }
      },
      "source": [
        "%cd /content/gdrive/My Drive/S9-Assignment/"
      ],
      "execution_count": 8,
      "outputs": [
        {
          "output_type": "stream",
          "text": [
            "/content/gdrive/My Drive/S9-Assignment\n"
          ],
          "name": "stdout"
        }
      ]
    },
    {
      "cell_type": "code",
      "metadata": {
        "id": "t_WnlcSoMASe",
        "colab_type": "code",
        "outputId": "e0ab6c5a-92c8-4745-d959-dded0a63c434",
        "colab": {
          "base_uri": "https://localhost:8080/",
          "height": 68
        }
      },
      "source": [
        "!ls"
      ],
      "execution_count": 4,
      "outputs": [
        {
          "output_type": "stream",
          "text": [
            "data\t\t    eval.py\t      Models\t   resnet.py\n",
            "dataloader.py\t    __init__.py       __pycache__  S8_Assignment.ipynb\n",
            "data_transforms.py  misclassified.py  README.md    Transforms_Albumentations\n"
          ],
          "name": "stdout"
        }
      ]
    },
    {
      "cell_type": "code",
      "metadata": {
        "id": "MhGoCro8MEt2",
        "colab_type": "code",
        "outputId": "0d057b56-bb0d-4415-93b8-99b8a8f4caa6",
        "colab": {
          "base_uri": "https://localhost:8080/",
          "height": 547
        }
      },
      "source": [
        "%matplotlib inline\n",
        "import torch\n",
        "import torchvision\n",
        "import torchvision.transforms as transforms\n",
        "import matplotlib.pyplot as plt\n",
        "import numpy as np\n",
        "!pip install albumentations"
      ],
      "execution_count": 9,
      "outputs": [
        {
          "output_type": "stream",
          "text": [
            "Requirement already satisfied: albumentations in /usr/local/lib/python3.6/dist-packages (0.1.12)\n",
            "Collecting imgaug<0.2.7,>=0.2.5\n",
            "\u001b[?25l  Downloading https://files.pythonhosted.org/packages/ad/2e/748dbb7bb52ec8667098bae9b585f448569ae520031932687761165419a2/imgaug-0.2.6.tar.gz (631kB)\n",
            "\r\u001b[K     |▌                               | 10kB 19.7MB/s eta 0:00:01\r\u001b[K     |█                               | 20kB 3.1MB/s eta 0:00:01\r\u001b[K     |█▋                              | 30kB 4.5MB/s eta 0:00:01\r\u001b[K     |██                              | 40kB 2.9MB/s eta 0:00:01\r\u001b[K     |██▋                             | 51kB 3.6MB/s eta 0:00:01\r\u001b[K     |███▏                            | 61kB 4.2MB/s eta 0:00:01\r\u001b[K     |███▋                            | 71kB 4.9MB/s eta 0:00:01\r\u001b[K     |████▏                           | 81kB 5.5MB/s eta 0:00:01\r\u001b[K     |████▊                           | 92kB 6.1MB/s eta 0:00:01\r\u001b[K     |█████▏                          | 102kB 4.8MB/s eta 0:00:01\r\u001b[K     |█████▊                          | 112kB 4.8MB/s eta 0:00:01\r\u001b[K     |██████▎                         | 122kB 4.8MB/s eta 0:00:01\r\u001b[K     |██████▊                         | 133kB 4.8MB/s eta 0:00:01\r\u001b[K     |███████▎                        | 143kB 4.8MB/s eta 0:00:01\r\u001b[K     |███████▉                        | 153kB 4.8MB/s eta 0:00:01\r\u001b[K     |████████▎                       | 163kB 4.8MB/s eta 0:00:01\r\u001b[K     |████████▉                       | 174kB 4.8MB/s eta 0:00:01\r\u001b[K     |█████████▍                      | 184kB 4.8MB/s eta 0:00:01\r\u001b[K     |█████████▉                      | 194kB 4.8MB/s eta 0:00:01\r\u001b[K     |██████████▍                     | 204kB 4.8MB/s eta 0:00:01\r\u001b[K     |███████████                     | 215kB 4.8MB/s eta 0:00:01\r\u001b[K     |███████████▍                    | 225kB 4.8MB/s eta 0:00:01\r\u001b[K     |████████████                    | 235kB 4.8MB/s eta 0:00:01\r\u001b[K     |████████████▌                   | 245kB 4.8MB/s eta 0:00:01\r\u001b[K     |█████████████                   | 256kB 4.8MB/s eta 0:00:01\r\u001b[K     |█████████████▌                  | 266kB 4.8MB/s eta 0:00:01\r\u001b[K     |██████████████                  | 276kB 4.8MB/s eta 0:00:01\r\u001b[K     |██████████████▌                 | 286kB 4.8MB/s eta 0:00:01\r\u001b[K     |███████████████                 | 296kB 4.8MB/s eta 0:00:01\r\u001b[K     |███████████████▋                | 307kB 4.8MB/s eta 0:00:01\r\u001b[K     |████████████████                | 317kB 4.8MB/s eta 0:00:01\r\u001b[K     |████████████████▋               | 327kB 4.8MB/s eta 0:00:01\r\u001b[K     |█████████████████▏              | 337kB 4.8MB/s eta 0:00:01\r\u001b[K     |█████████████████▋              | 348kB 4.8MB/s eta 0:00:01\r\u001b[K     |██████████████████▏             | 358kB 4.8MB/s eta 0:00:01\r\u001b[K     |██████████████████▊             | 368kB 4.8MB/s eta 0:00:01\r\u001b[K     |███████████████████▏            | 378kB 4.8MB/s eta 0:00:01\r\u001b[K     |███████████████████▊            | 389kB 4.8MB/s eta 0:00:01\r\u001b[K     |████████████████████▎           | 399kB 4.8MB/s eta 0:00:01\r\u001b[K     |████████████████████▊           | 409kB 4.8MB/s eta 0:00:01\r\u001b[K     |█████████████████████▎          | 419kB 4.8MB/s eta 0:00:01\r\u001b[K     |█████████████████████▉          | 430kB 4.8MB/s eta 0:00:01\r\u001b[K     |██████████████████████▎         | 440kB 4.8MB/s eta 0:00:01\r\u001b[K     |██████████████████████▉         | 450kB 4.8MB/s eta 0:00:01\r\u001b[K     |███████████████████████▍        | 460kB 4.8MB/s eta 0:00:01\r\u001b[K     |███████████████████████▉        | 471kB 4.8MB/s eta 0:00:01\r\u001b[K     |████████████████████████▍       | 481kB 4.8MB/s eta 0:00:01\r\u001b[K     |█████████████████████████       | 491kB 4.8MB/s eta 0:00:01\r\u001b[K     |█████████████████████████▍      | 501kB 4.8MB/s eta 0:00:01\r\u001b[K     |██████████████████████████      | 512kB 4.8MB/s eta 0:00:01\r\u001b[K     |██████████████████████████▌     | 522kB 4.8MB/s eta 0:00:01\r\u001b[K     |███████████████████████████     | 532kB 4.8MB/s eta 0:00:01\r\u001b[K     |███████████████████████████▌    | 542kB 4.8MB/s eta 0:00:01\r\u001b[K     |████████████████████████████    | 552kB 4.8MB/s eta 0:00:01\r\u001b[K     |████████████████████████████▌   | 563kB 4.8MB/s eta 0:00:01\r\u001b[K     |█████████████████████████████   | 573kB 4.8MB/s eta 0:00:01\r\u001b[K     |█████████████████████████████▋  | 583kB 4.8MB/s eta 0:00:01\r\u001b[K     |██████████████████████████████  | 593kB 4.8MB/s eta 0:00:01\r\u001b[K     |██████████████████████████████▋ | 604kB 4.8MB/s eta 0:00:01\r\u001b[K     |███████████████████████████████▏| 614kB 4.8MB/s eta 0:00:01\r\u001b[K     |███████████████████████████████▋| 624kB 4.8MB/s eta 0:00:01\r\u001b[K     |████████████████████████████████| 634kB 4.8MB/s \n",
            "\u001b[?25hRequirement already satisfied: numpy>=1.11.1 in /usr/local/lib/python3.6/dist-packages (from albumentations) (1.18.2)\n",
            "Requirement already satisfied: scipy in /usr/local/lib/python3.6/dist-packages (from albumentations) (1.4.1)\n",
            "Requirement already satisfied: opencv-python in /usr/local/lib/python3.6/dist-packages (from albumentations) (4.1.2.30)\n",
            "Requirement already satisfied: scikit-image>=0.11.0 in /usr/local/lib/python3.6/dist-packages (from imgaug<0.2.7,>=0.2.5->albumentations) (0.16.2)\n",
            "Requirement already satisfied: six in /usr/local/lib/python3.6/dist-packages (from imgaug<0.2.7,>=0.2.5->albumentations) (1.12.0)\n",
            "Requirement already satisfied: pillow>=4.3.0 in /usr/local/lib/python3.6/dist-packages (from scikit-image>=0.11.0->imgaug<0.2.7,>=0.2.5->albumentations) (7.0.0)\n",
            "Requirement already satisfied: matplotlib!=3.0.0,>=2.0.0 in /usr/local/lib/python3.6/dist-packages (from scikit-image>=0.11.0->imgaug<0.2.7,>=0.2.5->albumentations) (3.2.0)\n",
            "Requirement already satisfied: imageio>=2.3.0 in /usr/local/lib/python3.6/dist-packages (from scikit-image>=0.11.0->imgaug<0.2.7,>=0.2.5->albumentations) (2.4.1)\n",
            "Requirement already satisfied: PyWavelets>=0.4.0 in /usr/local/lib/python3.6/dist-packages (from scikit-image>=0.11.0->imgaug<0.2.7,>=0.2.5->albumentations) (1.1.1)\n",
            "Requirement already satisfied: networkx>=2.0 in /usr/local/lib/python3.6/dist-packages (from scikit-image>=0.11.0->imgaug<0.2.7,>=0.2.5->albumentations) (2.4)\n",
            "Requirement already satisfied: kiwisolver>=1.0.1 in /usr/local/lib/python3.6/dist-packages (from matplotlib!=3.0.0,>=2.0.0->scikit-image>=0.11.0->imgaug<0.2.7,>=0.2.5->albumentations) (1.1.0)\n",
            "Requirement already satisfied: cycler>=0.10 in /usr/local/lib/python3.6/dist-packages (from matplotlib!=3.0.0,>=2.0.0->scikit-image>=0.11.0->imgaug<0.2.7,>=0.2.5->albumentations) (0.10.0)\n",
            "Requirement already satisfied: python-dateutil>=2.1 in /usr/local/lib/python3.6/dist-packages (from matplotlib!=3.0.0,>=2.0.0->scikit-image>=0.11.0->imgaug<0.2.7,>=0.2.5->albumentations) (2.8.1)\n",
            "Requirement already satisfied: pyparsing!=2.0.4,!=2.1.2,!=2.1.6,>=2.0.1 in /usr/local/lib/python3.6/dist-packages (from matplotlib!=3.0.0,>=2.0.0->scikit-image>=0.11.0->imgaug<0.2.7,>=0.2.5->albumentations) (2.4.6)\n",
            "Requirement already satisfied: decorator>=4.3.0 in /usr/local/lib/python3.6/dist-packages (from networkx>=2.0->scikit-image>=0.11.0->imgaug<0.2.7,>=0.2.5->albumentations) (4.4.2)\n",
            "Requirement already satisfied: setuptools in /usr/local/lib/python3.6/dist-packages (from kiwisolver>=1.0.1->matplotlib!=3.0.0,>=2.0.0->scikit-image>=0.11.0->imgaug<0.2.7,>=0.2.5->albumentations) (46.0.0)\n",
            "Building wheels for collected packages: imgaug\n",
            "  Building wheel for imgaug (setup.py) ... \u001b[?25l\u001b[?25hdone\n",
            "  Created wheel for imgaug: filename=imgaug-0.2.6-cp36-none-any.whl size=654020 sha256=74462ef4c8434aab095551da7824e2b1659761a37071ef6e82dbf4f81d6603c4\n",
            "  Stored in directory: /root/.cache/pip/wheels/97/ec/48/0d25896c417b715af6236dbcef8f0bed136a1a5e52972fc6d0\n",
            "Successfully built imgaug\n",
            "Installing collected packages: imgaug\n",
            "  Found existing installation: imgaug 0.2.9\n",
            "    Uninstalling imgaug-0.2.9:\n",
            "      Successfully uninstalled imgaug-0.2.9\n",
            "Successfully installed imgaug-0.2.6\n"
          ],
          "name": "stdout"
        }
      ]
    },
    {
      "cell_type": "code",
      "metadata": {
        "id": "EMBOcL2yMTJY",
        "colab_type": "code",
        "outputId": "2664c544-5e18-4a78-f05a-3a43fdf82b46",
        "colab": {
          "base_uri": "https://localhost:8080/",
          "height": 51
        }
      },
      "source": [
        "from Transforms_Albumentations import transform\n",
        "\n",
        "import importlib\n",
        "importlib.reload(transform)\n",
        "\n",
        "#from transform  import Data\n",
        "data = transform.Data()\n",
        "\n",
        "trainset = data.getTrainDataSet(train=True)\n",
        "testset =  data.getTrainDataSet(train=False)\n",
        "trainloader = data.getDataLoader(trainset, 128)\n",
        "show_trainloader = data.getDataLoader(trainset, 4)\n",
        "testloader = data.getDataLoader(testset, 128)\n",
        "show_testloader = data.getDataLoader(testset, 4)\n",
        "\n",
        "classes = ('plane', 'car', 'bird', 'cat',\n",
        "           'deer', 'dog', 'frog', 'horse', 'ship', 'truck')"
      ],
      "execution_count": 10,
      "outputs": [
        {
          "output_type": "stream",
          "text": [
            "Files already downloaded and verified\n",
            "Files already downloaded and verified\n"
          ],
          "name": "stdout"
        }
      ]
    },
    {
      "cell_type": "code",
      "metadata": {
        "id": "dOz0koGaRnP8",
        "colab_type": "code",
        "outputId": "30d6c0ce-8a09-43ad-cdbd-ace60f306471",
        "colab": {
          "base_uri": "https://localhost:8080/",
          "height": 172
        }
      },
      "source": [
        "# functions to show an image\n",
        "\n",
        "def imshow(img):\n",
        "    img = img / 2 + 0.5     # unnormalize\n",
        "    npimg = img.numpy()\n",
        "    plt.imshow(np.transpose(npimg, (1, 2, 0)))\n",
        "\n",
        "# get some random training images\n",
        "dataiter = iter(show_trainloader)\n",
        "pics, labels = dataiter.next()\n",
        "\n",
        "# show images\n",
        "imshow(torchvision.utils.make_grid(pics))\n",
        "# print labels\n",
        "print(' '.join('%5s' % classes[labels[j]] for j in range(4)))"
      ],
      "execution_count": 11,
      "outputs": [
        {
          "output_type": "stream",
          "text": [
            "Clipping input data to the valid range for imshow with RGB data ([0..1] for floats or [0..255] for integers).\n"
          ],
          "name": "stderr"
        },
        {
          "output_type": "stream",
          "text": [
            "plane   dog  deer  deer\n"
          ],
          "name": "stdout"
        },
        {
          "output_type": "display_data",
          "data": {
            "image/png": "[encoded data removed]",
            "text/plain": [
              "<Figure size 432x288 with 1 Axes>"
            ]
          },
          "metadata": {
            "tags": []
          }
        }
      ]
    },
    {
      "cell_type": "code",
      "metadata": {
        "id": "Fye3R8tKR7F9",
        "colab_type": "code",
        "outputId": "60f0e6af-01ba-4a85-8791-c89fecb0f127",
        "colab": {
          "base_uri": "https://localhost:8080/",
          "height": 1000
        }
      },
      "source": [
        "#from models import resnet\n",
        "from Models import resnet\n",
        "\n",
        "import torch\n",
        "\n",
        "import importlib\n",
        "importlib.reload(resnet)\n",
        "#importlib.reload(eval)\n",
        "\n",
        "\n",
        "model = resnet.ResNet18()\n",
        "use_cuda = torch.cuda.is_available()\n",
        "model.device = torch.device(\"cuda\" if use_cuda else \"cpu\")\n",
        "print(model.device)\n",
        "model = model.to(model.device)\n",
        "model.summary((3,32,32))"
      ],
      "execution_count": 12,
      "outputs": [
        {
          "output_type": "stream",
          "text": [
            "cuda\n",
            "----------------------------------------------------------------\n",
            "        Layer (type)               Output Shape         Param #\n",
            "================================================================\n",
            "            Conv2d-1           [-1, 64, 32, 32]           1,728\n",
            "       BatchNorm2d-2           [-1, 64, 32, 32]             128\n",
            "            Conv2d-3           [-1, 64, 32, 32]          36,864\n",
            "       BatchNorm2d-4           [-1, 64, 32, 32]             128\n",
            "            Conv2d-5           [-1, 64, 32, 32]          36,864\n",
            "       BatchNorm2d-6           [-1, 64, 32, 32]             128\n",
            "        BasicBlock-7           [-1, 64, 32, 32]               0\n",
            "            Conv2d-8           [-1, 64, 32, 32]          36,864\n",
            "       BatchNorm2d-9           [-1, 64, 32, 32]             128\n",
            "           Conv2d-10           [-1, 64, 32, 32]          36,864\n",
            "      BatchNorm2d-11           [-1, 64, 32, 32]             128\n",
            "       BasicBlock-12           [-1, 64, 32, 32]               0\n",
            "           Conv2d-13          [-1, 128, 16, 16]          73,728\n",
            "      BatchNorm2d-14          [-1, 128, 16, 16]             256\n",
            "           Conv2d-15          [-1, 128, 16, 16]         147,456\n",
            "      BatchNorm2d-16          [-1, 128, 16, 16]             256\n",
            "           Conv2d-17          [-1, 128, 16, 16]           8,192\n",
            "      BatchNorm2d-18          [-1, 128, 16, 16]             256\n",
            "       BasicBlock-19          [-1, 128, 16, 16]               0\n",
            "           Conv2d-20          [-1, 128, 16, 16]         147,456\n",
            "      BatchNorm2d-21          [-1, 128, 16, 16]             256\n",
            "           Conv2d-22          [-1, 128, 16, 16]         147,456\n",
            "      BatchNorm2d-23          [-1, 128, 16, 16]             256\n",
            "       BasicBlock-24          [-1, 128, 16, 16]               0\n",
            "           Conv2d-25            [-1, 256, 8, 8]         294,912\n",
            "      BatchNorm2d-26            [-1, 256, 8, 8]             512\n",
            "           Conv2d-27            [-1, 256, 8, 8]         589,824\n",
            "      BatchNorm2d-28            [-1, 256, 8, 8]             512\n",
            "           Conv2d-29            [-1, 256, 8, 8]          32,768\n",
            "      BatchNorm2d-30            [-1, 256, 8, 8]             512\n",
            "       BasicBlock-31            [-1, 256, 8, 8]               0\n",
            "           Conv2d-32            [-1, 256, 8, 8]         589,824\n",
            "      BatchNorm2d-33            [-1, 256, 8, 8]             512\n",
            "           Conv2d-34            [-1, 256, 8, 8]         589,824\n",
            "      BatchNorm2d-35            [-1, 256, 8, 8]             512\n",
            "       BasicBlock-36            [-1, 256, 8, 8]               0\n",
            "           Conv2d-37            [-1, 512, 4, 4]       1,179,648\n",
            "      BatchNorm2d-38            [-1, 512, 4, 4]           1,024\n",
            "           Conv2d-39            [-1, 512, 4, 4]       2,359,296\n",
            "      BatchNorm2d-40            [-1, 512, 4, 4]           1,024\n",
            "           Conv2d-41            [-1, 512, 4, 4]         131,072\n",
            "      BatchNorm2d-42            [-1, 512, 4, 4]           1,024\n",
            "       BasicBlock-43            [-1, 512, 4, 4]               0\n",
            "           Conv2d-44            [-1, 512, 4, 4]       2,359,296\n",
            "      BatchNorm2d-45            [-1, 512, 4, 4]           1,024\n",
            "           Conv2d-46            [-1, 512, 4, 4]       2,359,296\n",
            "      BatchNorm2d-47            [-1, 512, 4, 4]           1,024\n",
            "       BasicBlock-48            [-1, 512, 4, 4]               0\n",
            "           Linear-49                   [-1, 10]           5,130\n",
            "================================================================\n",
            "Total params: 11,173,962\n",
            "Trainable params: 11,173,962\n",
            "Non-trainable params: 0\n",
            "----------------------------------------------------------------\n",
            "Input size (MB): 0.01\n",
            "Forward/backward pass size (MB): 11.25\n",
            "Params size (MB): 42.63\n",
            "Estimated Total Size (MB): 53.89\n",
            "----------------------------------------------------------------\n"
          ],
          "name": "stdout"
        }
      ]
    },
    {
      "cell_type": "code",
      "metadata": {
        "id": "oOunbi6AS_3u",
        "colab_type": "code",
        "outputId": "74c544d6-2f78-48b7-965e-13d9318d5a17",
        "colab": {
          "base_uri": "https://localhost:8080/",
          "height": 1000
        }
      },
      "source": [
        "\n",
        "import torch.optim as optim\n",
        "import torch.nn as nn\n",
        "from torch.optim.lr_scheduler import OneCycleLR\n",
        "from torch.optim.lr_scheduler import StepLR\n",
        "\n",
        "\n",
        "EPOCHS = 30\n",
        "l2_loss = 0.0001\n",
        "l1_lambda = 0\n",
        "criterion = nn.CrossEntropyLoss()\n",
        "\n",
        "optimizer = optim.SGD(model.parameters(), lr=0.001, momentum=0.9, weight_decay=l2_loss)\n",
        "\n",
        "schedular = torch.optim.lr_scheduler.OneCycleLR(optimizer, max_lr=0.5, steps_per_epoch=len(trainloader), epochs=EPOCHS)\n",
        "\n",
        "\n",
        "model.evaluate(optimizer, trainloader, testloader, EPOCHS, criterion, schedular, True, l1_lambda)"
      ],
      "execution_count": 10,
      "outputs": [
        {
          "output_type": "stream",
          "text": [
            "Epoch= 0 Loss=1.2506529092788696 Batch_id=390 Accuracy=53.75: 100%|██████████| 391/391 [00:38<00:00, 10.03it/s]\n",
            "100%|██████████| 79/79 [00:03<00:00, 24.50it/s]\n",
            "  0%|          | 0/391 [00:00<?, ?it/s]"
          ],
          "name": "stderr"
        },
        {
          "output_type": "stream",
          "text": [
            "Epoch 0, Train Accuracy: 53.75 , Test Accuracy: 54.21\n"
          ],
          "name": "stdout"
        },
        {
          "output_type": "stream",
          "text": [
            "Epoch= 1 Loss=1.1106116771697998 Batch_id=390 Accuracy=66.25: 100%|██████████| 391/391 [00:39<00:00, 10.01it/s]\n",
            "100%|██████████| 79/79 [00:03<00:00, 24.47it/s]\n",
            "  0%|          | 0/391 [00:00<?, ?it/s]"
          ],
          "name": "stderr"
        },
        {
          "output_type": "stream",
          "text": [
            "Epoch 1, Train Accuracy: 66.25 , Test Accuracy: 65.93\n"
          ],
          "name": "stdout"
        },
        {
          "output_type": "stream",
          "text": [
            "Epoch= 2 Loss=0.6345151662826538 Batch_id=390 Accuracy=80.00: 100%|██████████| 391/391 [00:38<00:00, 10.04it/s]\n",
            "100%|██████████| 79/79 [00:03<00:00, 24.33it/s]\n",
            "  0%|          | 0/391 [00:00<?, ?it/s]"
          ],
          "name": "stderr"
        },
        {
          "output_type": "stream",
          "text": [
            "Epoch 2, Train Accuracy: 80.0 , Test Accuracy: 74.76\n"
          ],
          "name": "stdout"
        },
        {
          "output_type": "stream",
          "text": [
            "Epoch= 3 Loss=0.4921247363090515 Batch_id=390 Accuracy=88.75: 100%|██████████| 391/391 [00:38<00:00, 10.04it/s]\n",
            "100%|██████████| 79/79 [00:03<00:00, 24.61it/s]\n",
            "  0%|          | 0/391 [00:00<?, ?it/s]"
          ],
          "name": "stderr"
        },
        {
          "output_type": "stream",
          "text": [
            "Epoch 3, Train Accuracy: 88.75 , Test Accuracy: 76.87\n"
          ],
          "name": "stdout"
        },
        {
          "output_type": "stream",
          "text": [
            "Epoch= 4 Loss=0.5441305637359619 Batch_id=390 Accuracy=83.75: 100%|██████████| 391/391 [00:38<00:00, 10.14it/s]\n",
            "100%|██████████| 79/79 [00:03<00:00, 24.66it/s]\n",
            "  0%|          | 0/391 [00:00<?, ?it/s]"
          ],
          "name": "stderr"
        },
        {
          "output_type": "stream",
          "text": [
            "Epoch 4, Train Accuracy: 83.75 , Test Accuracy: 78.89\n"
          ],
          "name": "stdout"
        },
        {
          "output_type": "stream",
          "text": [
            "Epoch= 5 Loss=0.39891043305397034 Batch_id=390 Accuracy=87.50: 100%|██████████| 391/391 [00:38<00:00, 10.04it/s]\n",
            "100%|██████████| 79/79 [00:03<00:00, 24.62it/s]\n",
            "  0%|          | 0/391 [00:00<?, ?it/s]"
          ],
          "name": "stderr"
        },
        {
          "output_type": "stream",
          "text": [
            "Epoch 5, Train Accuracy: 87.5 , Test Accuracy: 79.7\n"
          ],
          "name": "stdout"
        },
        {
          "output_type": "stream",
          "text": [
            "Epoch= 6 Loss=0.5441186428070068 Batch_id=390 Accuracy=86.25: 100%|██████████| 391/391 [00:38<00:00, 10.05it/s]\n",
            "100%|██████████| 79/79 [00:03<00:00, 24.88it/s]\n",
            "  0%|          | 0/391 [00:00<?, ?it/s]"
          ],
          "name": "stderr"
        },
        {
          "output_type": "stream",
          "text": [
            "Epoch 6, Train Accuracy: 86.25 , Test Accuracy: 82.46\n"
          ],
          "name": "stdout"
        },
        {
          "output_type": "stream",
          "text": [
            "Epoch= 7 Loss=0.3622872233390808 Batch_id=390 Accuracy=91.25: 100%|██████████| 391/391 [00:38<00:00, 10.13it/s]\n",
            "100%|██████████| 79/79 [00:03<00:00, 24.52it/s]\n",
            "  0%|          | 0/391 [00:00<?, ?it/s]"
          ],
          "name": "stderr"
        },
        {
          "output_type": "stream",
          "text": [
            "Epoch 7, Train Accuracy: 91.25 , Test Accuracy: 82.55\n"
          ],
          "name": "stdout"
        },
        {
          "output_type": "stream",
          "text": [
            "Epoch= 8 Loss=0.4236452579498291 Batch_id=390 Accuracy=86.25: 100%|██████████| 391/391 [00:38<00:00, 10.10it/s]\n",
            "100%|██████████| 79/79 [00:03<00:00, 24.40it/s]\n",
            "  0%|          | 0/391 [00:00<?, ?it/s]"
          ],
          "name": "stderr"
        },
        {
          "output_type": "stream",
          "text": [
            "Epoch 8, Train Accuracy: 86.25 , Test Accuracy: 83.09\n"
          ],
          "name": "stdout"
        },
        {
          "output_type": "stream",
          "text": [
            "Epoch= 9 Loss=0.3306741714477539 Batch_id=390 Accuracy=91.25: 100%|██████████| 391/391 [00:39<00:00, 10.02it/s]\n",
            "100%|██████████| 79/79 [00:03<00:00, 24.33it/s]\n",
            "  0%|          | 0/391 [00:00<?, ?it/s]"
          ],
          "name": "stderr"
        },
        {
          "output_type": "stream",
          "text": [
            "Epoch 9, Train Accuracy: 91.25 , Test Accuracy: 83.8\n"
          ],
          "name": "stdout"
        },
        {
          "output_type": "stream",
          "text": [
            "Epoch= 10 Loss=0.18927574157714844 Batch_id=390 Accuracy=95.00: 100%|██████████| 391/391 [00:39<00:00,  9.99it/s]\n",
            "100%|██████████| 79/79 [00:03<00:00, 24.16it/s]\n",
            "  0%|          | 0/391 [00:00<?, ?it/s]"
          ],
          "name": "stderr"
        },
        {
          "output_type": "stream",
          "text": [
            "Epoch 10, Train Accuracy: 95.0 , Test Accuracy: 84.14\n"
          ],
          "name": "stdout"
        },
        {
          "output_type": "stream",
          "text": [
            "Epoch= 11 Loss=0.29921334981918335 Batch_id=390 Accuracy=90.00: 100%|██████████| 391/391 [00:38<00:00, 10.08it/s]\n",
            "100%|██████████| 79/79 [00:03<00:00, 24.58it/s]\n",
            "  0%|          | 0/391 [00:00<?, ?it/s]"
          ],
          "name": "stderr"
        },
        {
          "output_type": "stream",
          "text": [
            "Epoch 11, Train Accuracy: 90.0 , Test Accuracy: 84.63\n"
          ],
          "name": "stdout"
        },
        {
          "output_type": "stream",
          "text": [
            "Epoch= 12 Loss=0.3560425043106079 Batch_id=390 Accuracy=93.75: 100%|██████████| 391/391 [00:39<00:00,  9.97it/s]\n",
            "100%|██████████| 79/79 [00:03<00:00, 24.83it/s]\n",
            "  0%|          | 0/391 [00:00<?, ?it/s]"
          ],
          "name": "stderr"
        },
        {
          "output_type": "stream",
          "text": [
            "Epoch 12, Train Accuracy: 93.75 , Test Accuracy: 83.38\n"
          ],
          "name": "stdout"
        },
        {
          "output_type": "stream",
          "text": [
            "Epoch= 13 Loss=0.1829463243484497 Batch_id=390 Accuracy=96.25: 100%|██████████| 391/391 [00:39<00:00,  9.95it/s]\n",
            "100%|██████████| 79/79 [00:03<00:00, 24.80it/s]\n",
            "  0%|          | 0/391 [00:00<?, ?it/s]"
          ],
          "name": "stderr"
        },
        {
          "output_type": "stream",
          "text": [
            "Epoch 13, Train Accuracy: 96.25 , Test Accuracy: 84.68\n"
          ],
          "name": "stdout"
        },
        {
          "output_type": "stream",
          "text": [
            "Epoch= 14 Loss=0.093035988509655 Batch_id=390 Accuracy=98.75: 100%|██████████| 391/391 [00:38<00:00, 10.12it/s]\n",
            "100%|██████████| 79/79 [00:03<00:00, 24.88it/s]\n",
            "  0%|          | 0/391 [00:00<?, ?it/s]"
          ],
          "name": "stderr"
        },
        {
          "output_type": "stream",
          "text": [
            "Epoch 14, Train Accuracy: 98.75 , Test Accuracy: 85.28\n"
          ],
          "name": "stdout"
        },
        {
          "output_type": "stream",
          "text": [
            "Epoch= 15 Loss=0.10424153506755829 Batch_id=390 Accuracy=100.00: 100%|██████████| 391/391 [00:38<00:00, 10.09it/s]\n",
            "100%|██████████| 79/79 [00:03<00:00, 24.95it/s]\n",
            "  0%|          | 0/391 [00:00<?, ?it/s]"
          ],
          "name": "stderr"
        },
        {
          "output_type": "stream",
          "text": [
            "Epoch 15, Train Accuracy: 100.0 , Test Accuracy: 84.99\n"
          ],
          "name": "stdout"
        },
        {
          "output_type": "stream",
          "text": [
            "Epoch= 16 Loss=0.14324267208576202 Batch_id=390 Accuracy=98.75: 100%|██████████| 391/391 [00:39<00:00,  9.99it/s]\n",
            "100%|██████████| 79/79 [00:03<00:00, 25.01it/s]\n",
            "  0%|          | 0/391 [00:00<?, ?it/s]"
          ],
          "name": "stderr"
        },
        {
          "output_type": "stream",
          "text": [
            "Epoch 16, Train Accuracy: 98.75 , Test Accuracy: 85.18\n"
          ],
          "name": "stdout"
        },
        {
          "output_type": "stream",
          "text": [
            "Epoch= 17 Loss=0.20604407787322998 Batch_id=390 Accuracy=96.25: 100%|██████████| 391/391 [00:38<00:00, 10.07it/s]\n",
            "100%|██████████| 79/79 [00:03<00:00, 24.86it/s]\n",
            "  0%|          | 0/391 [00:00<?, ?it/s]"
          ],
          "name": "stderr"
        },
        {
          "output_type": "stream",
          "text": [
            "Epoch 17, Train Accuracy: 96.25 , Test Accuracy: 85.64\n"
          ],
          "name": "stdout"
        },
        {
          "output_type": "stream",
          "text": [
            "Epoch= 18 Loss=0.14375993609428406 Batch_id=390 Accuracy=98.75: 100%|██████████| 391/391 [00:39<00:00,  9.95it/s]\n",
            "100%|██████████| 79/79 [00:03<00:00, 24.54it/s]\n",
            "  0%|          | 0/391 [00:00<?, ?it/s]"
          ],
          "name": "stderr"
        },
        {
          "output_type": "stream",
          "text": [
            "Epoch 18, Train Accuracy: 98.75 , Test Accuracy: 84.7\n"
          ],
          "name": "stdout"
        },
        {
          "output_type": "stream",
          "text": [
            "Epoch= 19 Loss=0.16330473124980927 Batch_id=390 Accuracy=100.00: 100%|██████████| 391/391 [00:38<00:00, 10.11it/s]\n",
            "100%|██████████| 79/79 [00:03<00:00, 24.74it/s]\n",
            "  0%|          | 0/391 [00:00<?, ?it/s]"
          ],
          "name": "stderr"
        },
        {
          "output_type": "stream",
          "text": [
            "Epoch 19, Train Accuracy: 100.0 , Test Accuracy: 84.43\n"
          ],
          "name": "stdout"
        },
        {
          "output_type": "stream",
          "text": [
            "Epoch= 20 Loss=0.03118065558373928 Batch_id=390 Accuracy=100.00: 100%|██████████| 391/391 [00:39<00:00,  9.94it/s]\n",
            "100%|██████████| 79/79 [00:03<00:00, 24.98it/s]\n",
            "  0%|          | 0/391 [00:00<?, ?it/s]"
          ],
          "name": "stderr"
        },
        {
          "output_type": "stream",
          "text": [
            "Epoch 20, Train Accuracy: 100.0 , Test Accuracy: 85.46\n"
          ],
          "name": "stdout"
        },
        {
          "output_type": "stream",
          "text": [
            "Epoch= 21 Loss=0.11157917976379395 Batch_id=390 Accuracy=98.75: 100%|██████████| 391/391 [00:39<00:00,  9.97it/s]\n",
            "100%|██████████| 79/79 [00:03<00:00, 24.83it/s]\n",
            "  0%|          | 0/391 [00:00<?, ?it/s]"
          ],
          "name": "stderr"
        },
        {
          "output_type": "stream",
          "text": [
            "Epoch 21, Train Accuracy: 98.75 , Test Accuracy: 85.68\n"
          ],
          "name": "stdout"
        },
        {
          "output_type": "stream",
          "text": [
            "Epoch= 22 Loss=0.0748937651515007 Batch_id=390 Accuracy=100.00: 100%|██████████| 391/391 [00:39<00:00,  9.96it/s]\n",
            "100%|██████████| 79/79 [00:03<00:00, 24.58it/s]\n",
            "  0%|          | 0/391 [00:00<?, ?it/s]"
          ],
          "name": "stderr"
        },
        {
          "output_type": "stream",
          "text": [
            "Epoch 22, Train Accuracy: 100.0 , Test Accuracy: 86.2\n"
          ],
          "name": "stdout"
        },
        {
          "output_type": "stream",
          "text": [
            "Epoch= 23 Loss=0.1011984571814537 Batch_id=390 Accuracy=100.00: 100%|██████████| 391/391 [00:39<00:00,  9.98it/s]\n",
            "100%|██████████| 79/79 [00:03<00:00, 25.31it/s]\n",
            "  0%|          | 0/391 [00:00<?, ?it/s]"
          ],
          "name": "stderr"
        },
        {
          "output_type": "stream",
          "text": [
            "Epoch 23, Train Accuracy: 100.0 , Test Accuracy: 85.37\n"
          ],
          "name": "stdout"
        },
        {
          "output_type": "stream",
          "text": [
            "Epoch= 24 Loss=0.21466414630413055 Batch_id=390 Accuracy=97.50: 100%|██████████| 391/391 [00:38<00:00, 10.06it/s]\n",
            "100%|██████████| 79/79 [00:03<00:00, 24.87it/s]\n",
            "  0%|          | 0/391 [00:00<?, ?it/s]"
          ],
          "name": "stderr"
        },
        {
          "output_type": "stream",
          "text": [
            "Epoch 24, Train Accuracy: 97.5 , Test Accuracy: 85.65\n"
          ],
          "name": "stdout"
        },
        {
          "output_type": "stream",
          "text": [
            "Epoch= 25 Loss=0.09616396576166153 Batch_id=390 Accuracy=98.75: 100%|██████████| 391/391 [00:38<00:00, 10.04it/s]\n",
            "100%|██████████| 79/79 [00:03<00:00, 24.81it/s]\n",
            "  0%|          | 0/391 [00:00<?, ?it/s]"
          ],
          "name": "stderr"
        },
        {
          "output_type": "stream",
          "text": [
            "Epoch 25, Train Accuracy: 98.75 , Test Accuracy: 86.26\n"
          ],
          "name": "stdout"
        },
        {
          "output_type": "stream",
          "text": [
            "Epoch= 26 Loss=0.11441981792449951 Batch_id=390 Accuracy=98.75: 100%|██████████| 391/391 [00:39<00:00,  9.95it/s]\n",
            "100%|██████████| 79/79 [00:03<00:00, 24.57it/s]\n",
            "  0%|          | 0/391 [00:00<?, ?it/s]"
          ],
          "name": "stderr"
        },
        {
          "output_type": "stream",
          "text": [
            "Epoch 26, Train Accuracy: 98.75 , Test Accuracy: 85.55\n"
          ],
          "name": "stdout"
        },
        {
          "output_type": "stream",
          "text": [
            "Epoch= 27 Loss=0.03965497761964798 Batch_id=390 Accuracy=100.00: 100%|██████████| 391/391 [00:39<00:00,  9.98it/s]\n",
            "100%|██████████| 79/79 [00:03<00:00, 24.47it/s]\n",
            "  0%|          | 0/391 [00:00<?, ?it/s]"
          ],
          "name": "stderr"
        },
        {
          "output_type": "stream",
          "text": [
            "Epoch 27, Train Accuracy: 100.0 , Test Accuracy: 85.96\n"
          ],
          "name": "stdout"
        },
        {
          "output_type": "stream",
          "text": [
            "Epoch= 28 Loss=0.062064819037914276 Batch_id=390 Accuracy=100.00: 100%|██████████| 391/391 [00:39<00:00,  9.93it/s]\n",
            "100%|██████████| 79/79 [00:03<00:00, 24.46it/s]\n",
            "  0%|          | 0/391 [00:00<?, ?it/s]"
          ],
          "name": "stderr"
        },
        {
          "output_type": "stream",
          "text": [
            "Epoch 28, Train Accuracy: 100.0 , Test Accuracy: 86.68\n"
          ],
          "name": "stdout"
        },
        {
          "output_type": "stream",
          "text": [
            "Epoch= 29 Loss=0.11026914417743683 Batch_id=390 Accuracy=100.00: 100%|██████████| 391/391 [00:39<00:00,  9.96it/s]\n",
            "100%|██████████| 79/79 [00:03<00:00, 24.14it/s]"
          ],
          "name": "stderr"
        },
        {
          "output_type": "stream",
          "text": [
            "Epoch 29, Train Accuracy: 100.0 , Test Accuracy: 86.56\n"
          ],
          "name": "stdout"
        },
        {
          "output_type": "stream",
          "text": [
            "\n"
          ],
          "name": "stderr"
        }
      ]
    },
    {
      "cell_type": "code",
      "metadata": {
        "id": "x0cgyLdOskdY",
        "colab_type": "code",
        "colab": {
          "base_uri": "https://localhost:8080/",
          "height": 385
        },
        "outputId": "127cacd6-92d7-45dd-b124-cbaf6a67099f"
      },
      "source": [
        "import cv2\n",
        "import numpy as np\n",
        "import torch\n",
        "from torchvision.utils import make_grid\n",
        "import torch.nn.functional as F\n",
        "\n",
        "def visualize_cam(mask, img):\n",
        "    heatmap = cv2.applyColorMap(np.uint8(255 * mask.squeeze()), cv2.COLORMAP_JET)\n",
        "    heatmap = torch.from_numpy(heatmap).permute(2, 0, 1).float().div(255)\n",
        "    b, g, r = heatmap.split(1)\n",
        "    heatmap = torch.cat([r, g, b])\n",
        "    print(type(heatmap))\n",
        "    result = heatmap+img\n",
        "    result = result.div(result.max()).squeeze()\n",
        "    \n",
        "    return heatmap, result\n",
        "\n",
        "testset =  data.getTrainDataSet(train=False)\n",
        "testloader2 = data.getGradCamDataLoader(testset)\n",
        "\n",
        "dataiter = iter(testloader2)\n",
        "pic, labels = dataiter.next()\n",
        "#print(model.layer4)\n",
        "from grad_cam import GradCAM\n",
        "\n",
        "resnet_dict = dict(type='resnet', arch=model, target_layer=model.layer3, input_size=(32, 32))\n",
        "gradcam = GradCAM(resnet_dict, True)\n",
        "\n",
        "mask, _ = gradcam(pic.to(model.device))\n",
        "mask = mask.cpu()\n",
        "print(type(mask.numpy()))\n",
        "\n",
        "pic = torchvision.utils.make_grid(pic)\n",
        "heatmap, result = visualize_cam(mask.numpy(), pic.numpy())\n",
        "plt.imshow(np.transpose(heatmap, (1, 2, 0)))\n"
      ],
      "execution_count": 67,
      "outputs": [
        {
          "output_type": "stream",
          "text": [
            "Files already downloaded and verified\n",
            "saliency_map size : torch.Size([8, 8])\n",
            "<class 'numpy.ndarray'>\n",
            "<class 'torch.Tensor'>\n"
          ],
          "name": "stdout"
        },
        {
          "output_type": "stream",
          "text": [
            "/usr/local/lib/python3.6/dist-packages/torch/nn/functional.py:2416: UserWarning: nn.functional.upsample is deprecated. Use nn.functional.interpolate instead.\n",
            "  warnings.warn(\"nn.functional.upsample is deprecated. Use nn.functional.interpolate instead.\")\n"
          ],
          "name": "stderr"
        },
        {
          "output_type": "execute_result",
          "data": {
            "text/plain": [
              "<matplotlib.image.AxesImage at 0x7f7bea2c3a20>"
            ]
          },
          "metadata": {
            "tags": []
          },
          "execution_count": 67
        },
        {
          "output_type": "display_data",
          "data": {
            "image/png": "[encoded data removed]",
            "text/plain": [
              "<Figure size 432x288 with 1 Axes>"
            ]
          },
          "metadata": {
            "tags": []
          }
        }
      ]
    },
    {
      "cell_type": "code",
      "metadata": {
        "id": "yvdeWAtLKNuZ",
        "colab_type": "code",
        "colab": {
          "base_uri": "https://localhost:8080/",
          "height": 300
        },
        "outputId": "b766e0c4-2e3e-4ad7-bccd-5d67d2d210aa"
      },
      "source": [
        "plt.imshow(np.transpose(pic, (1, 2, 0)))"
      ],
      "execution_count": 66,
      "outputs": [
        {
          "output_type": "stream",
          "text": [
            "Clipping input data to the valid range for imshow with RGB data ([0..1] for floats or [0..255] for integers).\n"
          ],
          "name": "stderr"
        },
        {
          "output_type": "execute_result",
          "data": {
            "text/plain": [
              "<matplotlib.image.AxesImage at 0x7f7bea35fb70>"
            ]
          },
          "metadata": {
            "tags": []
          },
          "execution_count": 66
        },
        {
          "output_type": "display_data",
          "data": {
            "image/png": "[encoded data removed]",
            "text/plain": [
              "<Figure size 432x288 with 1 Axes>"
            ]
          },
          "metadata": {
            "tags": []
          }
        }
      ]
    },
    {
      "cell_type": "code",
      "metadata": {
        "id": "EI-9EStYKURS",
        "colab_type": "code",
        "colab": {
          "base_uri": "https://localhost:8080/",
          "height": 368
        },
        "outputId": "36082019-89d0-4d74-9978-256e1716e270"
      },
      "source": [
        "pic, labels = dataiter.next()\n",
        "\n",
        "#print(model.layer4)\n",
        "from grad_cam import GradCAM\n",
        "\n",
        "resnet_dict = dict(type='resnet', arch=model, target_layer=model.layer3, input_size=(32, 32))\n",
        "gradcam = GradCAM(resnet_dict, True)\n",
        "\n",
        "mask, _ = gradcam(pic.to(model.device))\n",
        "mask = mask.cpu()\n",
        "print(type(mask.numpy()))\n",
        "\n",
        "pic = torchvision.utils.make_grid(pic)\n",
        "heatmap, result = visualize_cam(mask.numpy(), pic.numpy())\n",
        "plt.imshow(np.transpose(heatmap, (1, 2, 0)))\n"
      ],
      "execution_count": 68,
      "outputs": [
        {
          "output_type": "stream",
          "text": [
            "saliency_map size : torch.Size([8, 8])\n",
            "<class 'numpy.ndarray'>\n",
            "<class 'torch.Tensor'>\n"
          ],
          "name": "stdout"
        },
        {
          "output_type": "stream",
          "text": [
            "/usr/local/lib/python3.6/dist-packages/torch/nn/functional.py:2416: UserWarning: nn.functional.upsample is deprecated. Use nn.functional.interpolate instead.\n",
            "  warnings.warn(\"nn.functional.upsample is deprecated. Use nn.functional.interpolate instead.\")\n"
          ],
          "name": "stderr"
        },
        {
          "output_type": "execute_result",
          "data": {
            "text/plain": [
              "<matplotlib.image.AxesImage at 0x7f7bea2b15c0>"
            ]
          },
          "metadata": {
            "tags": []
          },
          "execution_count": 68
        },
        {
          "output_type": "display_data",
          "data": {
            "image/png": "[encoded data removed]",
            "text/plain": [
              "<Figure size 432x288 with 1 Axes>"
            ]
          },
          "metadata": {
            "tags": []
          }
        }
      ]
    },
    {
      "cell_type": "code",
      "metadata": {
        "id": "CFsWZ52UKc24",
        "colab_type": "code",
        "colab": {
          "base_uri": "https://localhost:8080/",
          "height": 300
        },
        "outputId": "f8a0613c-d7f0-4c70-95a6-e37a1b4ce52e"
      },
      "source": [
        "plt.imshow(np.transpose(pic, (1, 2, 0)))"
      ],
      "execution_count": 69,
      "outputs": [
        {
          "output_type": "stream",
          "text": [
            "Clipping input data to the valid range for imshow with RGB data ([0..1] for floats or [0..255] for integers).\n"
          ],
          "name": "stderr"
        },
        {
          "output_type": "execute_result",
          "data": {
            "text/plain": [
              "<matplotlib.image.AxesImage at 0x7f7bea1c67b8>"
            ]
          },
          "metadata": {
            "tags": []
          },
          "execution_count": 69
        },
        {
          "output_type": "display_data",
          "data": {
            "image/png": "[encoded data removed]",
            "text/plain": [
              "<Figure size 432x288 with 1 Axes>"
            ]
          },
          "metadata": {
            "tags": []
          }
        }
      ]
    },
    {
      "cell_type": "code",
      "metadata": {
        "id": "3y16PlwMLDrp",
        "colab_type": "code",
        "colab": {
          "base_uri": "https://localhost:8080/",
          "height": 334
        },
        "outputId": "ff6fc88a-4481-4741-ad8f-a47c836551cc"
      },
      "source": [
        "pic, labels = dataiter.next()\n",
        "\n",
        "mask, _ = gradcam(pic.to(model.device))\n",
        "mask = mask.cpu()\n",
        "\n",
        "pic = torchvision.utils.make_grid(pic)\n",
        "heatmap, result = visualize_cam(mask.numpy(), pic.numpy())\n",
        "plt.imshow(np.transpose(heatmap, (1, 2, 0)))"
      ],
      "execution_count": 72,
      "outputs": [
        {
          "output_type": "stream",
          "text": [
            "<class 'torch.Tensor'>\n"
          ],
          "name": "stdout"
        },
        {
          "output_type": "stream",
          "text": [
            "/usr/local/lib/python3.6/dist-packages/torch/nn/functional.py:2416: UserWarning: nn.functional.upsample is deprecated. Use nn.functional.interpolate instead.\n",
            "  warnings.warn(\"nn.functional.upsample is deprecated. Use nn.functional.interpolate instead.\")\n"
          ],
          "name": "stderr"
        },
        {
          "output_type": "execute_result",
          "data": {
            "text/plain": [
              "<matplotlib.image.AxesImage at 0x7f7bea0ebc88>"
            ]
          },
          "metadata": {
            "tags": []
          },
          "execution_count": 72
        },
        {
          "output_type": "display_data",
          "data": {
            "image/png": "[encoded data removed]",
            "text/plain": [
              "<Figure size 432x288 with 1 Axes>"
            ]
          },
          "metadata": {
            "tags": []
          }
        }
      ]
    },
    {
      "cell_type": "code",
      "metadata": {
        "id": "WddYpnnGLM-N",
        "colab_type": "code",
        "colab": {
          "base_uri": "https://localhost:8080/",
          "height": 300
        },
        "outputId": "14e0b680-b8dc-4828-d04c-af523abc394b"
      },
      "source": [
        "plt.imshow(np.transpose(pic, (1, 2, 0)))"
      ],
      "execution_count": 73,
      "outputs": [
        {
          "output_type": "stream",
          "text": [
            "Clipping input data to the valid range for imshow with RGB data ([0..1] for floats or [0..255] for integers).\n"
          ],
          "name": "stderr"
        },
        {
          "output_type": "execute_result",
          "data": {
            "text/plain": [
              "<matplotlib.image.AxesImage at 0x7f7bea04f208>"
            ]
          },
          "metadata": {
            "tags": []
          },
          "execution_count": 73
        },
        {
          "output_type": "display_data",
          "data": {
            "image/png": "[encoded data removed]",
            "text/plain": [
              "<Figure size 432x288 with 1 Axes>"
            ]
          },
          "metadata": {
            "tags": []
          }
        }
      ]
    },
    {
      "cell_type": "markdown",
      "metadata": {
        "id": "44o1yBdzLXhH",
        "colab_type": "text"
      },
      "source": [
        "Trying for layer4 of resnet"
      ]
    },
    {
      "cell_type": "code",
      "metadata": {
        "id": "VLi4wETsLawh",
        "colab_type": "code",
        "colab": {
          "base_uri": "https://localhost:8080/",
          "height": 351
        },
        "outputId": "8dacd51c-26c0-4ebd-bd18-6120ef953408"
      },
      "source": [
        "pic, labels = dataiter.next()\n",
        "\n",
        "\n",
        "resnet_dict = dict(type='resnet', arch=model, target_layer=model.layer4, input_size=(32, 32))\n",
        "gradcam = GradCAM(resnet_dict, True)\n",
        "\n",
        "mask, _ = gradcam(pic.to(model.device))\n",
        "mask = mask.cpu()\n",
        "\n",
        "pic = torchvision.utils.make_grid(pic)\n",
        "heatmap, result = visualize_cam(mask.numpy(), pic.numpy())\n",
        "plt.imshow(np.transpose(heatmap, (1, 2, 0)))"
      ],
      "execution_count": 74,
      "outputs": [
        {
          "output_type": "stream",
          "text": [
            "saliency_map size : torch.Size([4, 4])\n",
            "<class 'torch.Tensor'>\n"
          ],
          "name": "stdout"
        },
        {
          "output_type": "stream",
          "text": [
            "/usr/local/lib/python3.6/dist-packages/torch/nn/functional.py:2416: UserWarning: nn.functional.upsample is deprecated. Use nn.functional.interpolate instead.\n",
            "  warnings.warn(\"nn.functional.upsample is deprecated. Use nn.functional.interpolate instead.\")\n"
          ],
          "name": "stderr"
        },
        {
          "output_type": "execute_result",
          "data": {
            "text/plain": [
              "<matplotlib.image.AxesImage at 0x7f7bea3ee9e8>"
            ]
          },
          "metadata": {
            "tags": []
          },
          "execution_count": 74
        },
        {
          "output_type": "display_data",
          "data": {
            "image/png": "[encoded data removed]",
            "text/plain": [
              "<Figure size 432x288 with 1 Axes>"
            ]
          },
          "metadata": {
            "tags": []
          }
        }
      ]
    },
    {
      "cell_type": "code",
      "metadata": {
        "id": "1o1Px9OfLdzn",
        "colab_type": "code",
        "colab": {
          "base_uri": "https://localhost:8080/",
          "height": 300
        },
        "outputId": "3369c910-8389-4772-97da-9474ce2d7908"
      },
      "source": [
        "plt.imshow(np.transpose(pic, (1, 2, 0)))"
      ],
      "execution_count": 75,
      "outputs": [
        {
          "output_type": "stream",
          "text": [
            "Clipping input data to the valid range for imshow with RGB data ([0..1] for floats or [0..255] for integers).\n"
          ],
          "name": "stderr"
        },
        {
          "output_type": "execute_result",
          "data": {
            "text/plain": [
              "<matplotlib.image.AxesImage at 0x7f7be9250780>"
            ]
          },
          "metadata": {
            "tags": []
          },
          "execution_count": 75
        },
        {
          "output_type": "display_data",
          "data": {
            "image/png": "[encoded data removed]",
            "text/plain": [
              "<Figure size 432x288 with 1 Axes>"
            ]
          },
          "metadata": {
            "tags": []
          }
        }
      ]
    },
    {
      "cell_type": "code",
      "metadata": {
        "id": "ukS57UecMHSD",
        "colab_type": "code",
        "colab": {
          "base_uri": "https://localhost:8080/",
          "height": 334
        },
        "outputId": "30f5206a-1f35-49b7-fac9-6004c1fb744a"
      },
      "source": [
        "pic, labels = dataiter.next()\n",
        "\n",
        "\n",
        "# resnet_dict = dict(type='resnet', arch=model, target_layer=model.layer4, input_size=(32, 32))\n",
        "# gradcam = GradCAM(resnet_dict, True)\n",
        "\n",
        "mask, _ = gradcam(pic.to(model.device))\n",
        "mask = mask.cpu()\n",
        "\n",
        "pic = torchvision.utils.make_grid(pic)\n",
        "heatmap, result = visualize_cam(mask.numpy(), pic.numpy())\n",
        "plt.imshow(np.transpose(heatmap, (1, 2, 0)))"
      ],
      "execution_count": 76,
      "outputs": [
        {
          "output_type": "stream",
          "text": [
            "<class 'torch.Tensor'>\n"
          ],
          "name": "stdout"
        },
        {
          "output_type": "stream",
          "text": [
            "/usr/local/lib/python3.6/dist-packages/torch/nn/functional.py:2416: UserWarning: nn.functional.upsample is deprecated. Use nn.functional.interpolate instead.\n",
            "  warnings.warn(\"nn.functional.upsample is deprecated. Use nn.functional.interpolate instead.\")\n"
          ],
          "name": "stderr"
        },
        {
          "output_type": "execute_result",
          "data": {
            "text/plain": [
              "<matplotlib.image.AxesImage at 0x7f7be61750f0>"
            ]
          },
          "metadata": {
            "tags": []
          },
          "execution_count": 76
        },
        {
          "output_type": "display_data",
          "data": {
            "image/png": "[encoded data removed]",
            "text/plain": [
              "<Figure size 432x288 with 1 Axes>"
            ]
          },
          "metadata": {
            "tags": []
          }
        }
      ]
    },
    {
      "cell_type": "code",
      "metadata": {
        "id": "T8LrRXRnMONk",
        "colab_type": "code",
        "colab": {
          "base_uri": "https://localhost:8080/",
          "height": 300
        },
        "outputId": "51e642e2-acb1-4f87-fb43-b183508c8eae"
      },
      "source": [
        "plt.imshow(np.transpose(pic, (1, 2, 0)))"
      ],
      "execution_count": 77,
      "outputs": [
        {
          "output_type": "stream",
          "text": [
            "Clipping input data to the valid range for imshow with RGB data ([0..1] for floats or [0..255] for integers).\n"
          ],
          "name": "stderr"
        },
        {
          "output_type": "execute_result",
          "data": {
            "text/plain": [
              "<matplotlib.image.AxesImage at 0x7f7be9f07198>"
            ]
          },
          "metadata": {
            "tags": []
          },
          "execution_count": 77
        },
        {
          "output_type": "display_data",
          "data": {
            "image/png": "[encoded data removed]",
            "text/plain": [
              "<Figure size 432x288 with 1 Axes>"
            ]
          },
          "metadata": {
            "tags": []
          }
        }
      ]
    },
    {
      "cell_type": "code",
      "metadata": {
        "id": "AYFTCF9xMSWS",
        "colab_type": "code",
        "colab": {
          "base_uri": "https://localhost:8080/",
          "height": 334
        },
        "outputId": "2e153f60-50f1-422f-d8ae-6f56d64fa34f"
      },
      "source": [
        "pic, labels = dataiter.next()\n",
        "\n",
        "\n",
        "# resnet_dict = dict(type='resnet', arch=model, target_layer=model.layer4, input_size=(32, 32))\n",
        "# gradcam = GradCAM(resnet_dict, True)\n",
        "\n",
        "mask, _ = gradcam(pic.to(model.device))\n",
        "mask = mask.cpu()\n",
        "\n",
        "pic = torchvision.utils.make_grid(pic)\n",
        "heatmap, result = visualize_cam(mask.numpy(), pic.numpy())\n",
        "plt.imshow(np.transpose(heatmap, (1, 2, 0)))"
      ],
      "execution_count": 78,
      "outputs": [
        {
          "output_type": "stream",
          "text": [
            "<class 'torch.Tensor'>\n"
          ],
          "name": "stdout"
        },
        {
          "output_type": "stream",
          "text": [
            "/usr/local/lib/python3.6/dist-packages/torch/nn/functional.py:2416: UserWarning: nn.functional.upsample is deprecated. Use nn.functional.interpolate instead.\n",
            "  warnings.warn(\"nn.functional.upsample is deprecated. Use nn.functional.interpolate instead.\")\n"
          ],
          "name": "stderr"
        },
        {
          "output_type": "execute_result",
          "data": {
            "text/plain": [
              "<matplotlib.image.AxesImage at 0x7f7be9ee6da0>"
            ]
          },
          "metadata": {
            "tags": []
          },
          "execution_count": 78
        },
        {
          "output_type": "display_data",
          "data": {
            "image/png": "[encoded data removed]",
            "text/plain": [
              "<Figure size 432x288 with 1 Axes>"
            ]
          },
          "metadata": {
            "tags": []
          }
        }
      ]
    },
    {
      "cell_type": "code",
      "metadata": {
        "id": "9_awxLMQMW0b",
        "colab_type": "code",
        "colab": {
          "base_uri": "https://localhost:8080/",
          "height": 300
        },
        "outputId": "0beda7ac-66a5-4932-8ba0-bbf90befcd90"
      },
      "source": [
        "plt.imshow(np.transpose(pic, (1, 2, 0)))"
      ],
      "execution_count": 79,
      "outputs": [
        {
          "output_type": "stream",
          "text": [
            "Clipping input data to the valid range for imshow with RGB data ([0..1] for floats or [0..255] for integers).\n"
          ],
          "name": "stderr"
        },
        {
          "output_type": "execute_result",
          "data": {
            "text/plain": [
              "<matplotlib.image.AxesImage at 0x7f7be9e4c6d8>"
            ]
          },
          "metadata": {
            "tags": []
          },
          "execution_count": 79
        },
        {
          "output_type": "display_data",
          "data": {
            "image/png": "[encoded data removed]",
            "text/plain": [
              "<Figure size 432x288 with 1 Axes>"
            ]
          },
          "metadata": {
            "tags": []
          }
        }
      ]
    }
  ]
}