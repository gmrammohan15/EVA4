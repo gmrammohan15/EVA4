{
  "nbformat": 4,
  "nbformat_minor": 0,
  "metadata": {
    "colab": {
      "name": "QuizDNN.ipynb",
      "provenance": [],
      "collapsed_sections": [],
      "authorship_tag": "ABX9TyOSVjcDqD1sZ3QttgGsNXQx",
      "include_colab_link": true
    },
    "kernelspec": {
      "name": "python3",
      "display_name": "Python 3"
    },
    "accelerator": "GPU"
  },
  "cells": [
    {
      "cell_type": "markdown",
      "metadata": {
        "id": "view-in-github",
        "colab_type": "text"
      },
      "source": [
        "<a href=\"https://colab.research.google.com/github/gmrammohan15/EVA4/blob/master/S9-Assignment/QuizDNN.ipynb\" target=\"_parent\"><img src=\"https://colab.research.google.com/assets/colab-badge.svg\" alt=\"Open In Colab\"/></a>"
      ]
    },
    {
      "cell_type": "code",
      "metadata": {
        "id": "lGxBr0RiWixA",
        "colab_type": "code",
        "colab": {
          "base_uri": "https://localhost:8080/",
          "height": 34
        },
        "outputId": "db15c5cb-e292-4527-c8ba-7ea3760fffa2"
      },
      "source": [
        "import datetime\n",
        "datetime.datetime.now()"
      ],
      "execution_count": 1,
      "outputs": [
        {
          "output_type": "execute_result",
          "data": {
            "text/plain": [
              "datetime.datetime(2020, 3, 21, 20, 3, 13, 578208)"
            ]
          },
          "metadata": {
            "tags": []
          },
          "execution_count": 1
        }
      ]
    },
    {
      "cell_type": "code",
      "metadata": {
        "id": "sbL6S-YYW3Pj",
        "colab_type": "code",
        "colab": {
          "base_uri": "https://localhost:8080/",
          "height": 34
        },
        "outputId": "72342186-0d5d-4001-cf55-b63eee7e6d92"
      },
      "source": [
        "from google.colab import drive\n",
        "drive.mount('/content/gdrive')"
      ],
      "execution_count": 2,
      "outputs": [
        {
          "output_type": "stream",
          "text": [
            "Drive already mounted at /content/gdrive; to attempt to forcibly remount, call drive.mount(\"/content/gdrive\", force_remount=True).\n"
          ],
          "name": "stdout"
        }
      ]
    },
    {
      "cell_type": "code",
      "metadata": {
        "id": "Fu3jwAXieCol",
        "colab_type": "code",
        "colab": {
          "base_uri": "https://localhost:8080/",
          "height": 102
        },
        "outputId": "8144df96-57eb-41b2-cc87-78317d95f639"
      },
      "source": [
        "import sys\n",
        "sys.path.append('/content/gdrive/My Drive/S9-Assignment/')\n",
        "!ls /content/gdrive/My\\ Drive/S9-Assignment"
      ],
      "execution_count": 3,
      "outputs": [
        {
          "output_type": "stream",
          "text": [
            "data\t\t    __init__.py       resnet.py\n",
            "dataloader.py\t    misclassified.py  S8_Assignment.ipynb\n",
            "data_transforms.py  Models\t      Transforms_Albumentations\n",
            "eval.py\t\t    __pycache__\n",
            "grad_cam.py\t    README.md\n"
          ],
          "name": "stdout"
        }
      ]
    },
    {
      "cell_type": "code",
      "metadata": {
        "id": "nou0RJsceG_R",
        "colab_type": "code",
        "colab": {}
      },
      "source": [
        "\n",
        "import numpy as np\n",
        "import data_transforms\n",
        "from torchvision import transforms\n",
        "\n",
        "import importlib\n",
        "importlib.reload(data_transforms)\n",
        "\n",
        "transformer = data_transforms.Transforms(normalize=True, mean=(0.4914, 0.4822, 0.4465), stdev=(0.247, 0.243, 0.261))\n",
        "\n",
        "#Train transformations\n",
        "train_transforms = transformer.train_transforms([\n",
        "    transforms.RandomHorizontalFlip(),\n",
        "    transforms.RandomCrop(32,padding=4),\n",
        "])\n",
        "\n",
        "# Test  transformations\n",
        "test_transforms = transformer.test_transforms()"
      ],
      "execution_count": 0,
      "outputs": []
    },
    {
      "cell_type": "code",
      "metadata": {
        "id": "dHMlTZYHeMAo",
        "colab_type": "code",
        "colab": {
          "base_uri": "https://localhost:8080/",
          "height": 51
        },
        "outputId": "93623f72-4ecb-414c-dba2-da28313fdb74"
      },
      "source": [
        "from torchvision import datasets\n",
        "train_data = datasets.CIFAR10('./data', train=True, download=True, transform=train_transforms)\n",
        "test_data = datasets.CIFAR10('./data', train=False, download=True, transform=test_transforms)"
      ],
      "execution_count": 5,
      "outputs": [
        {
          "output_type": "stream",
          "text": [
            "Files already downloaded and verified\n",
            "Files already downloaded and verified\n"
          ],
          "name": "stdout"
        }
      ]
    },
    {
      "cell_type": "code",
      "metadata": {
        "id": "ChJCtdaceRYn",
        "colab_type": "code",
        "colab": {}
      },
      "source": [
        "import dataloader\n",
        "\n",
        "import importlib\n",
        "importlib.reload(dataloader)\n",
        "\n",
        "dl = dataloader.DataLoader(batch_size=128)\n",
        "\n",
        "# train dataloader\n",
        "train_loader = dl.load(train_data)\n",
        "\n",
        "# test dataloader\n",
        "test_loader = dl.load(test_data)"
      ],
      "execution_count": 0,
      "outputs": []
    },
    {
      "cell_type": "code",
      "metadata": {
        "id": "2F8y07ZseYAI",
        "colab_type": "code",
        "colab": {}
      },
      "source": [
        "import torch.nn as nn\n",
        "import torch.nn.functional as F\n",
        "\n",
        "class DNNNet(nn.Module):\n",
        "    def __init__(self):\n",
        "        super(DNNNet, self).__init__()\n",
        "\n",
        "        self.convInput = nn.Sequential(\n",
        "            nn.Conv2d(in_channels=3, out_channels=32, kernel_size=(1, 1), padding=0, bias=False),\n",
        "        ) # output_size = 32, RF 3\n",
        "\n",
        "        self.convblock1 = nn.Sequential(\n",
        "            nn.Conv2d(in_channels=3, out_channels=32, kernel_size=(3, 3), padding=1, bias=False),\n",
        "            nn.BatchNorm2d(32),\n",
        "            nn.ReLU(),\n",
        "            nn.Dropout(0.1),\n",
        "        ) \n",
        "\n",
        "        self.convblock2 = nn.Sequential(\n",
        "            nn.Conv2d(in_channels=32, out_channels=32, kernel_size=(3, 3), padding=1, bias=False),\n",
        "            nn.BatchNorm2d(32),\n",
        "            nn.ReLU(),\n",
        "            nn.Dropout(0.1),\n",
        "        ) \n",
        "\n",
        "        self.pool1 = nn.MaxPool2d(kernel_size=2, stride=2) \n",
        "\n",
        "        self.convblockx4 = nn.Sequential(\n",
        "            nn.Conv2d(in_channels=32, out_channels=64, kernel_size=(1, 1), bias=False),\n",
        "         ) \n",
        "    \n",
        "        self.convblock4 = nn.Sequential(\n",
        "            nn.Conv2d(in_channels=64, out_channels=64, kernel_size=(3, 3), padding=1, bias=False),\n",
        "            nn.BatchNorm2d(64),\n",
        "            nn.ReLU(),\n",
        "            nn.Dropout(0.1),\n",
        "        ) \n",
        "\n",
        "        self.convblock5 = nn.Sequential(\n",
        "            nn.Conv2d(in_channels=64, out_channels=64, kernel_size=(3, 3), padding=1, bias=False),\n",
        "            nn.BatchNorm2d(64),\n",
        "            nn.ReLU(),\n",
        "            nn.Dropout(0.1),\n",
        "        )\n",
        "\n",
        "        self.pool2 = nn.MaxPool2d(kernel_size=2, stride=2)\n",
        "\n",
        "        \n",
        "        self.convblockx8 = nn.Sequential(\n",
        "            nn.Conv2d(in_channels=64, out_channels=128, kernel_size=(1, 1), bias=False),\n",
        "        ) \n",
        "        \n",
        "        self.convblock6 = nn.Sequential(\n",
        "            nn.Conv2d(in_channels=128, out_channels=128, kernel_size=(3, 3), padding=1, bias=False),\n",
        "            nn.BatchNorm2d(128),\n",
        "            nn.ReLU(),\n",
        "            nn.Dropout(0.2),\n",
        "        ) \n",
        "\n",
        "        self.convblock7 = nn.Sequential(\n",
        "            nn.Conv2d(in_channels=128, out_channels=128, kernel_size=(3, 3), padding=1, bias=False),\n",
        "            nn.BatchNorm2d(128),\n",
        "            nn.ReLU(),\n",
        "            nn.Dropout(0.2),\n",
        "        ) \n",
        "\n",
        "        self.gap = nn.Sequential(\n",
        "            nn.AvgPool2d(kernel_size=8)\n",
        "        ) # output_size = 1\n",
        "        self.fc = nn.Linear(128, 10)\n",
        "        \n",
        "\n",
        "    def forward(self, x):\n",
        "\n",
        "        x1 = self.convInput(x) \n",
        "        x2 = self.convblock1(x) \n",
        "        x = x1 + x2\n",
        "\n",
        "        x3 = self.convblock2(x) \n",
        "\n",
        "        x = x + x3\n",
        "\n",
        "        x = self.pool1(x) \n",
        "\n",
        "\n",
        "        x5 = self.convblockx4(x) \n",
        "        x6 = self.convblock4(x5) \n",
        "        x = x5 + x6\n",
        "\n",
        "        x7 = self.convblock5(x) \n",
        "\n",
        "        x = x + x7\n",
        "\n",
        "        x = self.pool2(x) \n",
        "\n",
        "        x9 = self.convblockx8(x)\n",
        "        x10 = self.convblock6(x9)\n",
        "\n",
        "        x = x9 + x10\n",
        "\n",
        "        x11 = self.convblock7(x)\n",
        "\n",
        "        x = self.gap(x11)\n",
        "        x = x.view(-1, 128)\n",
        "        x = self.fc(x)\n",
        "\n",
        "        return x"
      ],
      "execution_count": 0,
      "outputs": []
    },
    {
      "cell_type": "code",
      "metadata": {
        "id": "QofSQjkfjMpm",
        "colab_type": "code",
        "colab": {
          "base_uri": "https://localhost:8080/",
          "height": 782
        },
        "outputId": "2efa99a1-d51c-4deb-e023-25c3d5e81ced"
      },
      "source": [
        "\n",
        "import torch\n",
        "!pip install torchsummary\n",
        "from torchsummary import summary\n",
        "\n",
        "model = DNNNet()\n",
        "use_cuda = torch.cuda.is_available()\n",
        "device = torch.device(\"cuda\" if use_cuda else \"cpu\")\n",
        "model = DNNNet().to(device)\n",
        "summary(model, input_size=(3, 32, 32))"
      ],
      "execution_count": 9,
      "outputs": [
        {
          "output_type": "stream",
          "text": [
            "Requirement already satisfied: torchsummary in /usr/local/lib/python3.6/dist-packages (1.5.1)\n",
            "----------------------------------------------------------------\n",
            "        Layer (type)               Output Shape         Param #\n",
            "================================================================\n",
            "            Conv2d-1           [-1, 32, 32, 32]              96\n",
            "            Conv2d-2           [-1, 32, 32, 32]             864\n",
            "       BatchNorm2d-3           [-1, 32, 32, 32]              64\n",
            "              ReLU-4           [-1, 32, 32, 32]               0\n",
            "           Dropout-5           [-1, 32, 32, 32]               0\n",
            "            Conv2d-6           [-1, 32, 32, 32]           9,216\n",
            "       BatchNorm2d-7           [-1, 32, 32, 32]              64\n",
            "              ReLU-8           [-1, 32, 32, 32]               0\n",
            "           Dropout-9           [-1, 32, 32, 32]               0\n",
            "        MaxPool2d-10           [-1, 32, 16, 16]               0\n",
            "           Conv2d-11           [-1, 64, 16, 16]           2,048\n",
            "           Conv2d-12           [-1, 64, 16, 16]          36,864\n",
            "      BatchNorm2d-13           [-1, 64, 16, 16]             128\n",
            "             ReLU-14           [-1, 64, 16, 16]               0\n",
            "          Dropout-15           [-1, 64, 16, 16]               0\n",
            "           Conv2d-16           [-1, 64, 16, 16]          36,864\n",
            "      BatchNorm2d-17           [-1, 64, 16, 16]             128\n",
            "             ReLU-18           [-1, 64, 16, 16]               0\n",
            "          Dropout-19           [-1, 64, 16, 16]               0\n",
            "        MaxPool2d-20             [-1, 64, 8, 8]               0\n",
            "           Conv2d-21            [-1, 128, 8, 8]           8,192\n",
            "           Conv2d-22            [-1, 128, 8, 8]         147,456\n",
            "      BatchNorm2d-23            [-1, 128, 8, 8]             256\n",
            "             ReLU-24            [-1, 128, 8, 8]               0\n",
            "          Dropout-25            [-1, 128, 8, 8]               0\n",
            "           Conv2d-26            [-1, 128, 8, 8]         147,456\n",
            "      BatchNorm2d-27            [-1, 128, 8, 8]             256\n",
            "             ReLU-28            [-1, 128, 8, 8]               0\n",
            "          Dropout-29            [-1, 128, 8, 8]               0\n",
            "        AvgPool2d-30            [-1, 128, 1, 1]               0\n",
            "           Linear-31                   [-1, 10]           1,290\n",
            "================================================================\n",
            "Total params: 391,242\n",
            "Trainable params: 391,242\n",
            "Non-trainable params: 0\n",
            "----------------------------------------------------------------\n",
            "Input size (MB): 0.01\n",
            "Forward/backward pass size (MB): 4.03\n",
            "Params size (MB): 1.49\n",
            "Estimated Total Size (MB): 5.54\n",
            "----------------------------------------------------------------\n"
          ],
          "name": "stdout"
        }
      ]
    },
    {
      "cell_type": "code",
      "metadata": {
        "id": "ogZb6qIGqU6V",
        "colab_type": "code",
        "colab": {}
      },
      "source": [
        "import torch\n",
        "from tqdm import tqdm\n",
        "from torch.autograd import Variable\n",
        "\n",
        "\n",
        "class Train:\n",
        "  def __init__(self, model, dataloader, optimizer, criterion, schedular=None, l1_lambda=0):\n",
        "    self.model = model\n",
        "    self.dataloader = dataloader\n",
        "    self.optimizer = optimizer\n",
        "    self.schedular = schedular\n",
        "    self.l1_lambda = l1_lambda\n",
        "    self.criterion = criterion\n",
        "\n",
        "\n",
        "  def run(self, epoch):\n",
        "    self.model.train()\n",
        "    train_acc = 0.0\n",
        "    train_loss = 0.0\n",
        "    pbar = tqdm(self.dataloader)\n",
        "    for i, (images, labels) in enumerate(pbar):\n",
        "        images, labels = images.to(self.model.device), labels.to(self.model.device)\n",
        "        correct = 0\n",
        "        processed = 0\n",
        "        # Clear all accumulated gradients\n",
        "        self.optimizer.zero_grad()\n",
        "        # Predict classes using images from the test set\n",
        "        outputs = self.model(images)\n",
        "        # Compute the loss based on the predictions and actual labels\n",
        "        loss = self.criterion(outputs, labels)\n",
        "\n",
        "        if self.l1_lambda > 0:\n",
        "            reg_loss = 0.0\n",
        "            for param in self.model.parameters():\n",
        "                reg_loss += torch.sum(param.abs())\n",
        "            loss += self.l1_lambda * reg_loss\n",
        "        # Backpropagate the loss\n",
        "        loss.backward()\n",
        "\n",
        "        # Adjust parameters according to the computed gradients\n",
        "        self.optimizer.step()\n",
        "\t\n",
        "        y_pred = self.model(images)\n",
        "        prediction = y_pred.argmax(dim=1, keepdim=True)  # get the index of the max log-probability\n",
        "        correct += prediction.eq(labels.view_as(prediction)).sum().item()\n",
        "        processed += len(images)\n",
        "\n",
        "        pbar.set_description(desc= f'Epoch= {epoch} Loss={loss.item()} Batch_id={i} Accuracy={100*correct/processed:0.2f}')\n",
        "        pbar.update(1)\n",
        "\n",
        "\n",
        "    train_acc = 100*correct/processed\n",
        "\n",
        "    return train_acc\n",
        "\n",
        "class Test:\n",
        "  def __init__(self, model, dataloader):\n",
        "    self.model = model\n",
        "    self.dataloader = dataloader\n",
        "\n",
        "  def run(self, epoch):\n",
        "    self.model.eval()\n",
        "    test_acc = 0.0\n",
        "    correct = 0\n",
        "    total  = 0\n",
        "    with torch.no_grad():\n",
        "        test_pbar = tqdm(self.dataloader)\n",
        "        for i, (images, labels) in enumerate(test_pbar):\n",
        "            images, labels = images.to(self.model.device), labels.to(self.model.device)\n",
        "\n",
        "            # Predict classes using images from the test set\n",
        "            outputs = self.model(images)\n",
        "            _, predicted = torch.max(outputs.data, 1)\n",
        "            total += labels.size(0)\n",
        "            correct += (predicted == labels).sum().item()\n",
        "\n",
        "        #Compute the average acc and loss over all 10000 test images\n",
        "    test_acc = (100 * correct / total) \n",
        "\n",
        "    return test_acc\n",
        "\n",
        "\n",
        "class ModelTrainer:\n",
        "  def __init__(self, model, optimizer, train_loader, test_loader, criterion, schedular=None, batch_schedular=False, l1_lambda = 0):\n",
        "    self.model = model\n",
        "    self.schedular = schedular\n",
        "    self.batch_schedular = batch_schedular\n",
        "    self.optimizer = optimizer\n",
        "    self.criterion = criterion\n",
        "    self.train = Train(model, train_loader, optimizer, self.criterion, self.schedular if self.schedular and self.batch_schedular else None, l1_lambda)\n",
        "    self.test = Test(model, test_loader)\n",
        "\n",
        "  def run(self, epochs=10):\n",
        "    for epoch in range(epochs):\n",
        "        train_acc = self.train.run(epoch)\n",
        "        test_acc = self.test.run(epoch)\n",
        "        if self.schedular and not self.batch_schedular:\n",
        "            self.schedular.step()\n",
        "        print(\"Epoch {}, Train Accuracy: {} , Test Accuracy: {}\".format(epoch, train_acc, test_acc))\n"
      ],
      "execution_count": 0,
      "outputs": []
    },
    {
      "cell_type": "code",
      "metadata": {
        "id": "9Y7wIOWiqaxV",
        "colab_type": "code",
        "colab": {
          "base_uri": "https://localhost:8080/",
          "height": 1000
        },
        "outputId": "07590b83-4cbd-4d1b-8786-91d8e240fd06"
      },
      "source": [
        "import torch.optim as optim\n",
        "import torch.nn as nn\n",
        "from torch.optim.lr_scheduler import OneCycleLR\n",
        "from torch.optim.lr_scheduler import StepLR\n",
        "\n",
        "\n",
        "EPOCHS = 30\n",
        "l2_loss = 0.0001\n",
        "l1_lambda = 0\n",
        "criterion = nn.CrossEntropyLoss()\n",
        "\n",
        "optimizer = optim.SGD(model.parameters(), lr=0.001, momentum=0.9, weight_decay=l2_loss)\n",
        "\n",
        "schedular = torch.optim.lr_scheduler.OneCycleLR(optimizer, max_lr=0.5, steps_per_epoch=len(train_loader), epochs=EPOCHS)\n",
        "use_cuda = torch.cuda.is_available()\n",
        "model.device = torch.device(\"cuda\" if use_cuda else \"cpu\")\n",
        "trainer = ModelTrainer(model, optimizer, train_loader, test_loader, criterion, schedular, True, l1_lambda)\n",
        "trainer.run(EPOCHS)\n"
      ],
      "execution_count": 11,
      "outputs": [
        {
          "output_type": "stream",
          "text": [
            "Epoch= 0 Loss=1.2927777767181396 Batch_id=390 Accuracy=50.00: 100%|██████████| 391/391 [00:15<00:00, 24.69it/s]\n",
            "100%|██████████| 79/79 [00:01<00:00, 39.56it/s]\n",
            "  0%|          | 0/391 [00:00<?, ?it/s]"
          ],
          "name": "stderr"
        },
        {
          "output_type": "stream",
          "text": [
            "Epoch 0, Train Accuracy: 50.0 , Test Accuracy: 44.2\n"
          ],
          "name": "stdout"
        },
        {
          "output_type": "stream",
          "text": [
            "Epoch= 1 Loss=1.1719348430633545 Batch_id=390 Accuracy=58.75: 100%|██████████| 391/391 [00:15<00:00, 24.66it/s]\n",
            "100%|██████████| 79/79 [00:01<00:00, 40.29it/s]\n",
            "  0%|          | 0/391 [00:00<?, ?it/s]"
          ],
          "name": "stderr"
        },
        {
          "output_type": "stream",
          "text": [
            "Epoch 1, Train Accuracy: 58.75 , Test Accuracy: 59.06\n"
          ],
          "name": "stdout"
        },
        {
          "output_type": "stream",
          "text": [
            "Epoch= 2 Loss=0.9754169583320618 Batch_id=390 Accuracy=66.25: 100%|██████████| 391/391 [00:15<00:00, 24.71it/s]\n",
            "100%|██████████| 79/79 [00:01<00:00, 40.48it/s]\n",
            "  0%|          | 0/391 [00:00<?, ?it/s]"
          ],
          "name": "stderr"
        },
        {
          "output_type": "stream",
          "text": [
            "Epoch 2, Train Accuracy: 66.25 , Test Accuracy: 60.73\n"
          ],
          "name": "stdout"
        },
        {
          "output_type": "stream",
          "text": [
            "Epoch= 3 Loss=0.9189176559448242 Batch_id=390 Accuracy=72.50: 100%|██████████| 391/391 [00:15<00:00, 24.48it/s]\n",
            "100%|██████████| 79/79 [00:02<00:00, 39.42it/s]\n",
            "  0%|          | 0/391 [00:00<?, ?it/s]"
          ],
          "name": "stderr"
        },
        {
          "output_type": "stream",
          "text": [
            "Epoch 3, Train Accuracy: 72.5 , Test Accuracy: 58.23\n"
          ],
          "name": "stdout"
        },
        {
          "output_type": "stream",
          "text": [
            "Epoch= 4 Loss=0.8608443140983582 Batch_id=390 Accuracy=73.75: 100%|██████████| 391/391 [00:16<00:00, 24.02it/s]\n",
            "100%|██████████| 79/79 [00:01<00:00, 42.29it/s]\n",
            "  0%|          | 0/391 [00:00<?, ?it/s]"
          ],
          "name": "stderr"
        },
        {
          "output_type": "stream",
          "text": [
            "Epoch 4, Train Accuracy: 73.75 , Test Accuracy: 72.99\n"
          ],
          "name": "stdout"
        },
        {
          "output_type": "stream",
          "text": [
            "Epoch= 5 Loss=0.8230892419815063 Batch_id=390 Accuracy=73.75: 100%|██████████| 391/391 [00:15<00:00, 24.52it/s]\n",
            "100%|██████████| 79/79 [00:01<00:00, 41.03it/s]\n",
            "  0%|          | 0/391 [00:00<?, ?it/s]"
          ],
          "name": "stderr"
        },
        {
          "output_type": "stream",
          "text": [
            "Epoch 5, Train Accuracy: 73.75 , Test Accuracy: 73.42\n"
          ],
          "name": "stdout"
        },
        {
          "output_type": "stream",
          "text": [
            "Epoch= 6 Loss=0.7321541905403137 Batch_id=390 Accuracy=78.75: 100%|██████████| 391/391 [00:16<00:00, 24.39it/s]\n",
            "100%|██████████| 79/79 [00:01<00:00, 41.37it/s]\n",
            "  0%|          | 0/391 [00:00<?, ?it/s]"
          ],
          "name": "stderr"
        },
        {
          "output_type": "stream",
          "text": [
            "Epoch 6, Train Accuracy: 78.75 , Test Accuracy: 75.01\n"
          ],
          "name": "stdout"
        },
        {
          "output_type": "stream",
          "text": [
            "Epoch= 7 Loss=0.5757834911346436 Batch_id=390 Accuracy=86.25: 100%|██████████| 391/391 [00:15<00:00, 24.69it/s]\n",
            "100%|██████████| 79/79 [00:01<00:00, 40.81it/s]\n",
            "  0%|          | 0/391 [00:00<?, ?it/s]"
          ],
          "name": "stderr"
        },
        {
          "output_type": "stream",
          "text": [
            "Epoch 7, Train Accuracy: 86.25 , Test Accuracy: 78.19\n"
          ],
          "name": "stdout"
        },
        {
          "output_type": "stream",
          "text": [
            "Epoch= 8 Loss=0.757489025592804 Batch_id=390 Accuracy=72.50: 100%|██████████| 391/391 [00:15<00:00, 24.58it/s]\n",
            "100%|██████████| 79/79 [00:01<00:00, 40.61it/s]\n",
            "  0%|          | 0/391 [00:00<?, ?it/s]"
          ],
          "name": "stderr"
        },
        {
          "output_type": "stream",
          "text": [
            "Epoch 8, Train Accuracy: 72.5 , Test Accuracy: 70.35\n"
          ],
          "name": "stdout"
        },
        {
          "output_type": "stream",
          "text": [
            "Epoch= 9 Loss=0.5275334119796753 Batch_id=390 Accuracy=85.00: 100%|██████████| 391/391 [00:16<00:00, 24.31it/s]\n",
            "100%|██████████| 79/79 [00:01<00:00, 40.76it/s]\n",
            "  0%|          | 0/391 [00:00<?, ?it/s]"
          ],
          "name": "stderr"
        },
        {
          "output_type": "stream",
          "text": [
            "Epoch 9, Train Accuracy: 85.0 , Test Accuracy: 78.8\n"
          ],
          "name": "stdout"
        },
        {
          "output_type": "stream",
          "text": [
            "Epoch= 10 Loss=0.7855138778686523 Batch_id=390 Accuracy=77.50: 100%|██████████| 391/391 [00:15<00:00, 24.54it/s]\n",
            "100%|██████████| 79/79 [00:01<00:00, 41.26it/s]\n",
            "  0%|          | 0/391 [00:00<?, ?it/s]"
          ],
          "name": "stderr"
        },
        {
          "output_type": "stream",
          "text": [
            "Epoch 10, Train Accuracy: 77.5 , Test Accuracy: 67.33\n"
          ],
          "name": "stdout"
        },
        {
          "output_type": "stream",
          "text": [
            "Epoch= 11 Loss=0.6230093836784363 Batch_id=390 Accuracy=85.00: 100%|██████████| 391/391 [00:15<00:00, 24.66it/s]\n",
            "100%|██████████| 79/79 [00:01<00:00, 40.79it/s]\n",
            "  0%|          | 0/391 [00:00<?, ?it/s]"
          ],
          "name": "stderr"
        },
        {
          "output_type": "stream",
          "text": [
            "Epoch 11, Train Accuracy: 85.0 , Test Accuracy: 76.41\n"
          ],
          "name": "stdout"
        },
        {
          "output_type": "stream",
          "text": [
            "Epoch= 12 Loss=0.6013635396957397 Batch_id=390 Accuracy=75.00: 100%|██████████| 391/391 [00:15<00:00, 24.68it/s]\n",
            "100%|██████████| 79/79 [00:01<00:00, 42.87it/s]\n",
            "  0%|          | 0/391 [00:00<?, ?it/s]"
          ],
          "name": "stderr"
        },
        {
          "output_type": "stream",
          "text": [
            "Epoch 12, Train Accuracy: 75.0 , Test Accuracy: 80.23\n"
          ],
          "name": "stdout"
        },
        {
          "output_type": "stream",
          "text": [
            "Epoch= 13 Loss=0.5716840028762817 Batch_id=390 Accuracy=83.75: 100%|██████████| 391/391 [00:16<00:00, 24.39it/s]\n",
            "100%|██████████| 79/79 [00:01<00:00, 41.36it/s]\n",
            "  0%|          | 0/391 [00:00<?, ?it/s]"
          ],
          "name": "stderr"
        },
        {
          "output_type": "stream",
          "text": [
            "Epoch 13, Train Accuracy: 83.75 , Test Accuracy: 76.94\n"
          ],
          "name": "stdout"
        },
        {
          "output_type": "stream",
          "text": [
            "Epoch= 14 Loss=0.5144893527030945 Batch_id=390 Accuracy=82.50: 100%|██████████| 391/391 [00:15<00:00, 24.61it/s]\n",
            "100%|██████████| 79/79 [00:01<00:00, 41.29it/s]\n",
            "  0%|          | 0/391 [00:00<?, ?it/s]"
          ],
          "name": "stderr"
        },
        {
          "output_type": "stream",
          "text": [
            "Epoch 14, Train Accuracy: 82.5 , Test Accuracy: 80.6\n"
          ],
          "name": "stdout"
        },
        {
          "output_type": "stream",
          "text": [
            "Epoch= 15 Loss=0.8600090742111206 Batch_id=390 Accuracy=76.25: 100%|██████████| 391/391 [00:15<00:00, 24.63it/s]\n",
            "100%|██████████| 79/79 [00:01<00:00, 41.54it/s]\n",
            "  0%|          | 0/391 [00:00<?, ?it/s]"
          ],
          "name": "stderr"
        },
        {
          "output_type": "stream",
          "text": [
            "Epoch 15, Train Accuracy: 76.25 , Test Accuracy: 81.13\n"
          ],
          "name": "stdout"
        },
        {
          "output_type": "stream",
          "text": [
            "Epoch= 16 Loss=0.5030661225318909 Batch_id=390 Accuracy=86.25: 100%|██████████| 391/391 [00:15<00:00, 24.59it/s]\n",
            "100%|██████████| 79/79 [00:01<00:00, 40.13it/s]\n",
            "  0%|          | 0/391 [00:00<?, ?it/s]"
          ],
          "name": "stderr"
        },
        {
          "output_type": "stream",
          "text": [
            "Epoch 16, Train Accuracy: 86.25 , Test Accuracy: 80.88\n"
          ],
          "name": "stdout"
        },
        {
          "output_type": "stream",
          "text": [
            "Epoch= 17 Loss=0.5122781991958618 Batch_id=390 Accuracy=77.50: 100%|██████████| 391/391 [00:16<00:00, 24.21it/s]\n",
            "100%|██████████| 79/79 [00:01<00:00, 41.31it/s]\n",
            "  0%|          | 0/391 [00:00<?, ?it/s]"
          ],
          "name": "stderr"
        },
        {
          "output_type": "stream",
          "text": [
            "Epoch 17, Train Accuracy: 77.5 , Test Accuracy: 81.42\n"
          ],
          "name": "stdout"
        },
        {
          "output_type": "stream",
          "text": [
            "Epoch= 18 Loss=0.401091992855072 Batch_id=390 Accuracy=92.50: 100%|██████████| 391/391 [00:15<00:00, 24.76it/s]\n",
            "100%|██████████| 79/79 [00:01<00:00, 40.29it/s]\n",
            "  0%|          | 0/391 [00:00<?, ?it/s]"
          ],
          "name": "stderr"
        },
        {
          "output_type": "stream",
          "text": [
            "Epoch 18, Train Accuracy: 92.5 , Test Accuracy: 80.2\n"
          ],
          "name": "stdout"
        },
        {
          "output_type": "stream",
          "text": [
            "Epoch= 19 Loss=0.48977476358413696 Batch_id=390 Accuracy=82.50: 100%|██████████| 391/391 [00:15<00:00, 24.77it/s]\n",
            "100%|██████████| 79/79 [00:01<00:00, 40.44it/s]\n",
            "  0%|          | 0/391 [00:00<?, ?it/s]"
          ],
          "name": "stderr"
        },
        {
          "output_type": "stream",
          "text": [
            "Epoch 19, Train Accuracy: 82.5 , Test Accuracy: 81.62\n"
          ],
          "name": "stdout"
        },
        {
          "output_type": "stream",
          "text": [
            "Epoch= 20 Loss=0.47134914994239807 Batch_id=390 Accuracy=86.25: 100%|██████████| 391/391 [00:15<00:00, 24.57it/s]\n",
            "100%|██████████| 79/79 [00:01<00:00, 43.03it/s]\n",
            "  0%|          | 0/391 [00:00<?, ?it/s]"
          ],
          "name": "stderr"
        },
        {
          "output_type": "stream",
          "text": [
            "Epoch 20, Train Accuracy: 86.25 , Test Accuracy: 82.28\n"
          ],
          "name": "stdout"
        },
        {
          "output_type": "stream",
          "text": [
            "Epoch= 21 Loss=0.48245301842689514 Batch_id=390 Accuracy=86.25: 100%|██████████| 391/391 [00:15<00:00, 24.44it/s]\n",
            "100%|██████████| 79/79 [00:02<00:00, 38.91it/s]\n",
            "  0%|          | 0/391 [00:00<?, ?it/s]"
          ],
          "name": "stderr"
        },
        {
          "output_type": "stream",
          "text": [
            "Epoch 21, Train Accuracy: 86.25 , Test Accuracy: 83.06\n"
          ],
          "name": "stdout"
        },
        {
          "output_type": "stream",
          "text": [
            "Epoch= 22 Loss=0.4048098623752594 Batch_id=390 Accuracy=82.50: 100%|██████████| 391/391 [00:15<00:00, 24.58it/s]\n",
            "100%|██████████| 79/79 [00:01<00:00, 41.66it/s]\n",
            "  0%|          | 0/391 [00:00<?, ?it/s]"
          ],
          "name": "stderr"
        },
        {
          "output_type": "stream",
          "text": [
            "Epoch 22, Train Accuracy: 82.5 , Test Accuracy: 83.95\n"
          ],
          "name": "stdout"
        },
        {
          "output_type": "stream",
          "text": [
            "Epoch= 23 Loss=0.6797294020652771 Batch_id=390 Accuracy=82.50: 100%|██████████| 391/391 [00:15<00:00, 24.69it/s]\n",
            "100%|██████████| 79/79 [00:02<00:00, 39.43it/s]\n",
            "  0%|          | 0/391 [00:00<?, ?it/s]"
          ],
          "name": "stderr"
        },
        {
          "output_type": "stream",
          "text": [
            "Epoch 23, Train Accuracy: 82.5 , Test Accuracy: 82.62\n"
          ],
          "name": "stdout"
        },
        {
          "output_type": "stream",
          "text": [
            "Epoch= 24 Loss=0.5394555926322937 Batch_id=390 Accuracy=85.00: 100%|██████████| 391/391 [00:15<00:00, 24.81it/s]\n",
            "100%|██████████| 79/79 [00:01<00:00, 40.28it/s]\n",
            "  0%|          | 0/391 [00:00<?, ?it/s]"
          ],
          "name": "stderr"
        },
        {
          "output_type": "stream",
          "text": [
            "Epoch 24, Train Accuracy: 85.0 , Test Accuracy: 80.41\n"
          ],
          "name": "stdout"
        },
        {
          "output_type": "stream",
          "text": [
            "Epoch= 25 Loss=0.4003310799598694 Batch_id=390 Accuracy=90.00: 100%|██████████| 391/391 [00:15<00:00, 24.45it/s]\n",
            "100%|██████████| 79/79 [00:01<00:00, 42.95it/s]\n",
            "  0%|          | 0/391 [00:00<?, ?it/s]"
          ],
          "name": "stderr"
        },
        {
          "output_type": "stream",
          "text": [
            "Epoch 25, Train Accuracy: 90.0 , Test Accuracy: 81.7\n"
          ],
          "name": "stdout"
        },
        {
          "output_type": "stream",
          "text": [
            "Epoch= 26 Loss=0.4041624069213867 Batch_id=390 Accuracy=90.00: 100%|██████████| 391/391 [00:15<00:00, 24.65it/s]\n",
            "100%|██████████| 79/79 [00:01<00:00, 42.32it/s]\n",
            "  0%|          | 0/391 [00:00<?, ?it/s]"
          ],
          "name": "stderr"
        },
        {
          "output_type": "stream",
          "text": [
            "Epoch 26, Train Accuracy: 90.0 , Test Accuracy: 84.22\n"
          ],
          "name": "stdout"
        },
        {
          "output_type": "stream",
          "text": [
            "Epoch= 27 Loss=0.31518107652664185 Batch_id=390 Accuracy=93.75: 100%|██████████| 391/391 [00:15<00:00, 24.54it/s]\n",
            "100%|██████████| 79/79 [00:01<00:00, 42.48it/s]\n",
            "  0%|          | 0/391 [00:00<?, ?it/s]"
          ],
          "name": "stderr"
        },
        {
          "output_type": "stream",
          "text": [
            "Epoch 27, Train Accuracy: 93.75 , Test Accuracy: 82.74\n"
          ],
          "name": "stdout"
        },
        {
          "output_type": "stream",
          "text": [
            "Epoch= 28 Loss=0.5007582902908325 Batch_id=390 Accuracy=85.00: 100%|██████████| 391/391 [00:15<00:00, 24.68it/s]\n",
            "100%|██████████| 79/79 [00:01<00:00, 40.63it/s]\n",
            "  0%|          | 0/391 [00:00<?, ?it/s]"
          ],
          "name": "stderr"
        },
        {
          "output_type": "stream",
          "text": [
            "Epoch 28, Train Accuracy: 85.0 , Test Accuracy: 84.79\n"
          ],
          "name": "stdout"
        },
        {
          "output_type": "stream",
          "text": [
            "Epoch= 29 Loss=0.3630760610103607 Batch_id=390 Accuracy=90.00: 100%|██████████| 391/391 [00:15<00:00, 25.08it/s]\n",
            "100%|██████████| 79/79 [00:01<00:00, 42.00it/s]"
          ],
          "name": "stderr"
        },
        {
          "output_type": "stream",
          "text": [
            "Epoch 29, Train Accuracy: 90.0 , Test Accuracy: 82.96\n"
          ],
          "name": "stdout"
        },
        {
          "output_type": "stream",
          "text": [
            "\n"
          ],
          "name": "stderr"
        }
      ]
    }
  ]
}