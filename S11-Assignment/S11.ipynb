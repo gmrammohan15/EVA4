{
  "nbformat": 4,
  "nbformat_minor": 0,
  "metadata": {
    "colab": {
      "name": "S11.ipynb",
      "provenance": [],
      "collapsed_sections": [],
      "authorship_tag": "ABX9TyPcdRSDDATwAZfHa0pHcT9q",
      "include_colab_link": true
    },
    "kernelspec": {
      "name": "python3",
      "display_name": "Python 3"
    },
    "accelerator": "GPU",
    "widgets": {
      "application/vnd.jupyter.widget-state+json": {
        "568f6e2c12b64d489fa7472518748960": {
          "model_module": "@jupyter-widgets/controls",
          "model_name": "HBoxModel",
          "state": {
            "_view_name": "HBoxView",
            "_dom_classes": [],
            "_model_name": "HBoxModel",
            "_view_module": "@jupyter-widgets/controls",
            "_model_module_version": "1.5.0",
            "_view_count": null,
            "_view_module_version": "1.5.0",
            "box_style": "",
            "layout": "IPY_MODEL_8e69f9a90bce4b85b37a7249ef5dbd83",
            "_model_module": "@jupyter-widgets/controls",
            "children": [
              "IPY_MODEL_131639db6bcc4920b3bd26df73d4a1b6",
              "IPY_MODEL_616eb607094d4fe2b8f6061b3d72eda8"
            ]
          }
        },
        "8e69f9a90bce4b85b37a7249ef5dbd83": {
          "model_module": "@jupyter-widgets/base",
          "model_name": "LayoutModel",
          "state": {
            "_view_name": "LayoutView",
            "grid_template_rows": null,
            "right": null,
            "justify_content": null,
            "_view_module": "@jupyter-widgets/base",
            "overflow": null,
            "_model_module_version": "1.2.0",
            "_view_count": null,
            "flex_flow": null,
            "width": null,
            "min_width": null,
            "border": null,
            "align_items": null,
            "bottom": null,
            "_model_module": "@jupyter-widgets/base",
            "top": null,
            "grid_column": null,
            "overflow_y": null,
            "overflow_x": null,
            "grid_auto_flow": null,
            "grid_area": null,
            "grid_template_columns": null,
            "flex": null,
            "_model_name": "LayoutModel",
            "justify_items": null,
            "grid_row": null,
            "max_height": null,
            "align_content": null,
            "visibility": null,
            "align_self": null,
            "height": null,
            "min_height": null,
            "padding": null,
            "grid_auto_rows": null,
            "grid_gap": null,
            "max_width": null,
            "order": null,
            "_view_module_version": "1.2.0",
            "grid_template_areas": null,
            "object_position": null,
            "object_fit": null,
            "grid_auto_columns": null,
            "margin": null,
            "display": null,
            "left": null
          }
        },
        "131639db6bcc4920b3bd26df73d4a1b6": {
          "model_module": "@jupyter-widgets/controls",
          "model_name": "IntProgressModel",
          "state": {
            "_view_name": "ProgressView",
            "style": "IPY_MODEL_30ea5541761746fdbb4c2e84e5916694",
            "_dom_classes": [],
            "description": "",
            "_model_name": "IntProgressModel",
            "bar_style": "info",
            "max": 1,
            "_view_module": "@jupyter-widgets/controls",
            "_model_module_version": "1.5.0",
            "value": 1,
            "_view_count": null,
            "_view_module_version": "1.5.0",
            "orientation": "horizontal",
            "min": 0,
            "description_tooltip": null,
            "_model_module": "@jupyter-widgets/controls",
            "layout": "IPY_MODEL_6d77f83dbdb14132815bdb5a0b2d29b8"
          }
        },
        "616eb607094d4fe2b8f6061b3d72eda8": {
          "model_module": "@jupyter-widgets/controls",
          "model_name": "HTMLModel",
          "state": {
            "_view_name": "HTMLView",
            "style": "IPY_MODEL_2ca82f78da70491d8418d4ba61cc01bd",
            "_dom_classes": [],
            "description": "",
            "_model_name": "HTMLModel",
            "placeholder": "​",
            "_view_module": "@jupyter-widgets/controls",
            "_model_module_version": "1.5.0",
            "value": " 170500096/? [00:30&lt;00:00, 15475760.75it/s]",
            "_view_count": null,
            "_view_module_version": "1.5.0",
            "description_tooltip": null,
            "_model_module": "@jupyter-widgets/controls",
            "layout": "IPY_MODEL_75c69de07b86440c8924ce79248677cd"
          }
        },
        "30ea5541761746fdbb4c2e84e5916694": {
          "model_module": "@jupyter-widgets/controls",
          "model_name": "ProgressStyleModel",
          "state": {
            "_view_name": "StyleView",
            "_model_name": "ProgressStyleModel",
            "description_width": "initial",
            "_view_module": "@jupyter-widgets/base",
            "_model_module_version": "1.5.0",
            "_view_count": null,
            "_view_module_version": "1.2.0",
            "bar_color": null,
            "_model_module": "@jupyter-widgets/controls"
          }
        },
        "6d77f83dbdb14132815bdb5a0b2d29b8": {
          "model_module": "@jupyter-widgets/base",
          "model_name": "LayoutModel",
          "state": {
            "_view_name": "LayoutView",
            "grid_template_rows": null,
            "right": null,
            "justify_content": null,
            "_view_module": "@jupyter-widgets/base",
            "overflow": null,
            "_model_module_version": "1.2.0",
            "_view_count": null,
            "flex_flow": null,
            "width": null,
            "min_width": null,
            "border": null,
            "align_items": null,
            "bottom": null,
            "_model_module": "@jupyter-widgets/base",
            "top": null,
            "grid_column": null,
            "overflow_y": null,
            "overflow_x": null,
            "grid_auto_flow": null,
            "grid_area": null,
            "grid_template_columns": null,
            "flex": null,
            "_model_name": "LayoutModel",
            "justify_items": null,
            "grid_row": null,
            "max_height": null,
            "align_content": null,
            "visibility": null,
            "align_self": null,
            "height": null,
            "min_height": null,
            "padding": null,
            "grid_auto_rows": null,
            "grid_gap": null,
            "max_width": null,
            "order": null,
            "_view_module_version": "1.2.0",
            "grid_template_areas": null,
            "object_position": null,
            "object_fit": null,
            "grid_auto_columns": null,
            "margin": null,
            "display": null,
            "left": null
          }
        },
        "2ca82f78da70491d8418d4ba61cc01bd": {
          "model_module": "@jupyter-widgets/controls",
          "model_name": "DescriptionStyleModel",
          "state": {
            "_view_name": "StyleView",
            "_model_name": "DescriptionStyleModel",
            "description_width": "",
            "_view_module": "@jupyter-widgets/base",
            "_model_module_version": "1.5.0",
            "_view_count": null,
            "_view_module_version": "1.2.0",
            "_model_module": "@jupyter-widgets/controls"
          }
        },
        "75c69de07b86440c8924ce79248677cd": {
          "model_module": "@jupyter-widgets/base",
          "model_name": "LayoutModel",
          "state": {
            "_view_name": "LayoutView",
            "grid_template_rows": null,
            "right": null,
            "justify_content": null,
            "_view_module": "@jupyter-widgets/base",
            "overflow": null,
            "_model_module_version": "1.2.0",
            "_view_count": null,
            "flex_flow": null,
            "width": null,
            "min_width": null,
            "border": null,
            "align_items": null,
            "bottom": null,
            "_model_module": "@jupyter-widgets/base",
            "top": null,
            "grid_column": null,
            "overflow_y": null,
            "overflow_x": null,
            "grid_auto_flow": null,
            "grid_area": null,
            "grid_template_columns": null,
            "flex": null,
            "_model_name": "LayoutModel",
            "justify_items": null,
            "grid_row": null,
            "max_height": null,
            "align_content": null,
            "visibility": null,
            "align_self": null,
            "height": null,
            "min_height": null,
            "padding": null,
            "grid_auto_rows": null,
            "grid_gap": null,
            "max_width": null,
            "order": null,
            "_view_module_version": "1.2.0",
            "grid_template_areas": null,
            "object_position": null,
            "object_fit": null,
            "grid_auto_columns": null,
            "margin": null,
            "display": null,
            "left": null
          }
        },
        "d9b6898e2f7e47188a908029752914b2": {
          "model_module": "@jupyter-widgets/controls",
          "model_name": "HBoxModel",
          "state": {
            "_view_name": "HBoxView",
            "_dom_classes": [],
            "_model_name": "HBoxModel",
            "_view_module": "@jupyter-widgets/controls",
            "_model_module_version": "1.5.0",
            "_view_count": null,
            "_view_module_version": "1.5.0",
            "box_style": "",
            "layout": "IPY_MODEL_1419c50aa13c48a793edf1254880a2a4",
            "_model_module": "@jupyter-widgets/controls",
            "children": [
              "IPY_MODEL_a13a765fda0b4a12a8635900f9418c3b",
              "IPY_MODEL_3a41914c970f4b898e2a6190f4b57bc6"
            ]
          }
        },
        "1419c50aa13c48a793edf1254880a2a4": {
          "model_module": "@jupyter-widgets/base",
          "model_name": "LayoutModel",
          "state": {
            "_view_name": "LayoutView",
            "grid_template_rows": null,
            "right": null,
            "justify_content": null,
            "_view_module": "@jupyter-widgets/base",
            "overflow": null,
            "_model_module_version": "1.2.0",
            "_view_count": null,
            "flex_flow": null,
            "width": null,
            "min_width": null,
            "border": null,
            "align_items": null,
            "bottom": null,
            "_model_module": "@jupyter-widgets/base",
            "top": null,
            "grid_column": null,
            "overflow_y": null,
            "overflow_x": null,
            "grid_auto_flow": null,
            "grid_area": null,
            "grid_template_columns": null,
            "flex": null,
            "_model_name": "LayoutModel",
            "justify_items": null,
            "grid_row": null,
            "max_height": null,
            "align_content": null,
            "visibility": null,
            "align_self": null,
            "height": null,
            "min_height": null,
            "padding": null,
            "grid_auto_rows": null,
            "grid_gap": null,
            "max_width": null,
            "order": null,
            "_view_module_version": "1.2.0",
            "grid_template_areas": null,
            "object_position": null,
            "object_fit": null,
            "grid_auto_columns": null,
            "margin": null,
            "display": null,
            "left": null
          }
        },
        "a13a765fda0b4a12a8635900f9418c3b": {
          "model_module": "@jupyter-widgets/controls",
          "model_name": "IntProgressModel",
          "state": {
            "_view_name": "ProgressView",
            "style": "IPY_MODEL_ceaa01f3a89d456ea5209024b6a5b0f9",
            "_dom_classes": [],
            "description": " 92%",
            "_model_name": "IntProgressModel",
            "bar_style": "danger",
            "max": 100,
            "_view_module": "@jupyter-widgets/controls",
            "_model_module_version": "1.5.0",
            "value": 92,
            "_view_count": null,
            "_view_module_version": "1.5.0",
            "orientation": "horizontal",
            "min": 0,
            "description_tooltip": null,
            "_model_module": "@jupyter-widgets/controls",
            "layout": "IPY_MODEL_0e74d7483df248c39f868f7739a2c63f"
          }
        },
        "3a41914c970f4b898e2a6190f4b57bc6": {
          "model_module": "@jupyter-widgets/controls",
          "model_name": "HTMLModel",
          "state": {
            "_view_name": "HTMLView",
            "style": "IPY_MODEL_488f88f0a0494fdca5ae14f8a42cd67f",
            "_dom_classes": [],
            "description": "",
            "_model_name": "HTMLModel",
            "placeholder": "​",
            "_view_module": "@jupyter-widgets/controls",
            "_model_module_version": "1.5.0",
            "value": " 92/100 [00:48&lt;00:03,  2.42it/s]",
            "_view_count": null,
            "_view_module_version": "1.5.0",
            "description_tooltip": null,
            "_model_module": "@jupyter-widgets/controls",
            "layout": "IPY_MODEL_7dd48c00507244b7889e34dbe5c07f13"
          }
        },
        "ceaa01f3a89d456ea5209024b6a5b0f9": {
          "model_module": "@jupyter-widgets/controls",
          "model_name": "ProgressStyleModel",
          "state": {
            "_view_name": "StyleView",
            "_model_name": "ProgressStyleModel",
            "description_width": "initial",
            "_view_module": "@jupyter-widgets/base",
            "_model_module_version": "1.5.0",
            "_view_count": null,
            "_view_module_version": "1.2.0",
            "bar_color": null,
            "_model_module": "@jupyter-widgets/controls"
          }
        },
        "0e74d7483df248c39f868f7739a2c63f": {
          "model_module": "@jupyter-widgets/base",
          "model_name": "LayoutModel",
          "state": {
            "_view_name": "LayoutView",
            "grid_template_rows": null,
            "right": null,
            "justify_content": null,
            "_view_module": "@jupyter-widgets/base",
            "overflow": null,
            "_model_module_version": "1.2.0",
            "_view_count": null,
            "flex_flow": null,
            "width": null,
            "min_width": null,
            "border": null,
            "align_items": null,
            "bottom": null,
            "_model_module": "@jupyter-widgets/base",
            "top": null,
            "grid_column": null,
            "overflow_y": null,
            "overflow_x": null,
            "grid_auto_flow": null,
            "grid_area": null,
            "grid_template_columns": null,
            "flex": null,
            "_model_name": "LayoutModel",
            "justify_items": null,
            "grid_row": null,
            "max_height": null,
            "align_content": null,
            "visibility": null,
            "align_self": null,
            "height": null,
            "min_height": null,
            "padding": null,
            "grid_auto_rows": null,
            "grid_gap": null,
            "max_width": null,
            "order": null,
            "_view_module_version": "1.2.0",
            "grid_template_areas": null,
            "object_position": null,
            "object_fit": null,
            "grid_auto_columns": null,
            "margin": null,
            "display": null,
            "left": null
          }
        },
        "488f88f0a0494fdca5ae14f8a42cd67f": {
          "model_module": "@jupyter-widgets/controls",
          "model_name": "DescriptionStyleModel",
          "state": {
            "_view_name": "StyleView",
            "_model_name": "DescriptionStyleModel",
            "description_width": "",
            "_view_module": "@jupyter-widgets/base",
            "_model_module_version": "1.5.0",
            "_view_count": null,
            "_view_module_version": "1.2.0",
            "_model_module": "@jupyter-widgets/controls"
          }
        },
        "7dd48c00507244b7889e34dbe5c07f13": {
          "model_module": "@jupyter-widgets/base",
          "model_name": "LayoutModel",
          "state": {
            "_view_name": "LayoutView",
            "grid_template_rows": null,
            "right": null,
            "justify_content": null,
            "_view_module": "@jupyter-widgets/base",
            "overflow": null,
            "_model_module_version": "1.2.0",
            "_view_count": null,
            "flex_flow": null,
            "width": null,
            "min_width": null,
            "border": null,
            "align_items": null,
            "bottom": null,
            "_model_module": "@jupyter-widgets/base",
            "top": null,
            "grid_column": null,
            "overflow_y": null,
            "overflow_x": null,
            "grid_auto_flow": null,
            "grid_area": null,
            "grid_template_columns": null,
            "flex": null,
            "_model_name": "LayoutModel",
            "justify_items": null,
            "grid_row": null,
            "max_height": null,
            "align_content": null,
            "visibility": null,
            "align_self": null,
            "height": null,
            "min_height": null,
            "padding": null,
            "grid_auto_rows": null,
            "grid_gap": null,
            "max_width": null,
            "order": null,
            "_view_module_version": "1.2.0",
            "grid_template_areas": null,
            "object_position": null,
            "object_fit": null,
            "grid_auto_columns": null,
            "margin": null,
            "display": null,
            "left": null
          }
        }
      }
    }
  },
  "cells": [
    {
      "cell_type": "markdown",
      "metadata": {
        "id": "view-in-github",
        "colab_type": "text"
      },
      "source": [
        "<a href=\"https://colab.research.google.com/github/gmrammohan15/EVA4/blob/master/S11-Assignment/S11.ipynb\" target=\"_parent\"><img src=\"https://colab.research.google.com/assets/colab-badge.svg\" alt=\"Open In Colab\"/></a>"
      ]
    },
    {
      "cell_type": "code",
      "metadata": {
        "id": "eu8wev5O8kmj",
        "colab_type": "code",
        "outputId": "97784f90-c01a-459a-d627-8dfe3789bffa",
        "colab": {
          "base_uri": "https://localhost:8080/",
          "height": 122
        }
      },
      "source": [
        "\n",
        "from google.colab import drive\n",
        "drive.mount('/content/gdrive')"
      ],
      "execution_count": 1,
      "outputs": [
        {
          "output_type": "stream",
          "text": [
            "Go to this URL in a browser: https://accounts.google.com/o/oauth2/auth?client_id=947318989803-6bn6qk8qdgf4n4g3pfee6491hc0brc4i.apps.googleusercontent.com&redirect_uri=urn%3aietf%3awg%3aoauth%3a2.0%3aoob&response_type=code&scope=email%20https%3a%2f%2fwww.googleapis.com%2fauth%2fdocs.test%20https%3a%2f%2fwww.googleapis.com%2fauth%2fdrive%20https%3a%2f%2fwww.googleapis.com%2fauth%2fdrive.photos.readonly%20https%3a%2f%2fwww.googleapis.com%2fauth%2fpeopleapi.readonly\n",
            "\n",
            "Enter your authorization code:\n",
            "··········\n",
            "Mounted at /content/gdrive\n"
          ],
          "name": "stdout"
        }
      ]
    },
    {
      "cell_type": "code",
      "metadata": {
        "id": "6U9EQgGU83VH",
        "colab_type": "code",
        "outputId": "35236031-a2ae-4ccf-f81f-71bdf3a442e3",
        "colab": {
          "base_uri": "https://localhost:8080/",
          "height": 85
        }
      },
      "source": [
        "import sys\n",
        "sys.path.append('/content/gdrive/My Drive/S11-Assignment/')\n",
        "!ls /content/gdrive/My\\ Drive/S11-Assignment"
      ],
      "execution_count": 2,
      "outputs": [
        {
          "output_type": "stream",
          "text": [
            "dataloader.py\t    grad_cam.py       Models\t       S10-graph.png\n",
            "Data_Transforms     __init__.py       one_cycle.py     S10.ipynb\n",
            "data_transforms.py  lr_finder.py      README.md        utils.py\n",
            "eval.py\t\t    misclassified.py  S10-GradCam.pdf\n"
          ],
          "name": "stdout"
        }
      ]
    },
    {
      "cell_type": "code",
      "metadata": {
        "id": "2UvqTqZX86Qb",
        "colab_type": "code",
        "outputId": "2df41c97-b691-42e9-d54b-8488b93ef572",
        "colab": {
          "base_uri": "https://localhost:8080/",
          "height": 34
        }
      },
      "source": [
        "%cd /content/gdrive/My Drive/S11-Assignment/"
      ],
      "execution_count": 3,
      "outputs": [
        {
          "output_type": "stream",
          "text": [
            "/content/gdrive/My Drive/S11-Assignment\n"
          ],
          "name": "stdout"
        }
      ]
    },
    {
      "cell_type": "code",
      "metadata": {
        "id": "0ciVGJ-G89vm",
        "colab_type": "code",
        "colab": {}
      },
      "source": [
        "import torch\n",
        "import torchvision\n",
        "import torchvision.transforms as transforms\n",
        "import matplotlib.pyplot as plt\n",
        "import numpy as np"
      ],
      "execution_count": 0,
      "outputs": []
    },
    {
      "cell_type": "code",
      "metadata": {
        "id": "4xW6sK1S9BCP",
        "colab_type": "code",
        "outputId": "e66cbc51-b5e4-464b-b761-cadcccf5f7fb",
        "colab": {
          "base_uri": "https://localhost:8080/",
          "height": 34
        }
      },
      "source": [
        "cd /content/gdrive/My Drive/S11-Assignment/"
      ],
      "execution_count": 5,
      "outputs": [
        {
          "output_type": "stream",
          "text": [
            "/content/gdrive/My Drive/S11-Assignment\n"
          ],
          "name": "stdout"
        }
      ]
    },
    {
      "cell_type": "markdown",
      "metadata": {
        "id": "fpsepo7PiKwM",
        "colab_type": "text"
      },
      "source": [
        "RandomCrop 32, 32 (after padding of 4) >> FlipLR >> Followed by CutOut(8, 8)"
      ]
    },
    {
      "cell_type": "code",
      "metadata": {
        "id": "mcE0uJx6n5wM",
        "colab_type": "code",
        "outputId": "8a73af65-1a90-4dad-bdc2-452e5dcf7ffa",
        "colab": {
          "base_uri": "https://localhost:8080/",
          "height": 100,
          "referenced_widgets": [
            "568f6e2c12b64d489fa7472518748960",
            "8e69f9a90bce4b85b37a7249ef5dbd83",
            "131639db6bcc4920b3bd26df73d4a1b6",
            "616eb607094d4fe2b8f6061b3d72eda8",
            "30ea5541761746fdbb4c2e84e5916694",
            "6d77f83dbdb14132815bdb5a0b2d29b8",
            "2ca82f78da70491d8418d4ba61cc01bd",
            "75c69de07b86440c8924ce79248677cd"
          ]
        }
      },
      "source": [
        "from Data_Transforms import transform\n",
        "\n",
        "import importlib\n",
        "importlib.reload(transform)\n",
        "\n",
        "#from transform  import Data\n",
        "data = transform.Data()\n",
        "\n",
        "trainset = data.getTrainDataSetTorchTransforms(train=True)\n",
        "testset =  data.getTestDataSetTorchTransforms(train=False)\n",
        "trainloader = data.getDataLoader(trainset, 512)\n",
        "testloader = data.getDataLoader(testset, 512)\n",
        "\n",
        "classes = ('plane', 'car', 'bird', 'cat',\n",
        "           'deer', 'dog', 'frog', 'horse', 'ship', 'truck')"
      ],
      "execution_count": 6,
      "outputs": [
        {
          "output_type": "stream",
          "text": [
            "Downloading https://www.cs.toronto.edu/~kriz/cifar-10-python.tar.gz to ./data/cifar-10-python.tar.gz\n"
          ],
          "name": "stdout"
        },
        {
          "output_type": "display_data",
          "data": {
            "application/vnd.jupyter.widget-view+json": {
              "model_id": "568f6e2c12b64d489fa7472518748960",
              "version_minor": 0,
              "version_major": 2
            },
            "text/plain": [
              "HBox(children=(IntProgress(value=1, bar_style='info', max=1), HTML(value='')))"
            ]
          },
          "metadata": {
            "tags": []
          }
        },
        {
          "output_type": "stream",
          "text": [
            "Extracting ./data/cifar-10-python.tar.gz to ./data\n",
            "Files already downloaded and verified\n"
          ],
          "name": "stdout"
        }
      ]
    },
    {
      "cell_type": "code",
      "metadata": {
        "id": "uKYdwJuUhpnF",
        "colab_type": "code",
        "outputId": "a4c03a1b-ceda-41b0-ff18-b3479f4e71bc",
        "colab": {
          "base_uri": "https://localhost:8080/",
          "height": 172
        }
      },
      "source": [
        "import torch\n",
        "import torchvision\n",
        "import torchvision.transforms as transforms\n",
        "import utils\n",
        "\n",
        "# get some random training images\n",
        "dataiter = iter(trainloader)\n",
        "images, labels = dataiter.next()\n",
        "# show images\n",
        "utils.imshow(torchvision.utils.make_grid(images[:4]))\n",
        "# print labels\n",
        "print(' '.join('%5s' % classes[labels[j]] for j in range(4)))"
      ],
      "execution_count": 7,
      "outputs": [
        {
          "output_type": "stream",
          "text": [
            "Clipping input data to the valid range for imshow with RGB data ([0..1] for floats or [0..255] for integers).\n"
          ],
          "name": "stderr"
        },
        {
          "output_type": "stream",
          "text": [
            "plane   dog  deer  deer\n"
          ],
          "name": "stdout"
        },
        {
          "output_type": "display_data",
          "data": {
            "image/png": "[encoded data removed]",
            "text/plain": [
              "<Figure size 432x288 with 1 Axes>"
            ]
          },
          "metadata": {
            "tags": [],
            "needs_background": "light"
          }
        }
      ]
    },
    {
      "cell_type": "code",
      "metadata": {
        "id": "N0tXBeqPGlID",
        "colab_type": "code",
        "outputId": "0d491b58-4ae6-4974-8c06-a33d0e4c7d8d",
        "colab": {
          "base_uri": "https://localhost:8080/",
          "height": 782
        }
      },
      "source": [
        "\n",
        "import torch\n",
        "from Models import customresnet\n",
        "!pip install torchsummary\n",
        "from torchsummary import summary\n",
        "\n",
        "model = customresnet.CustomResNet()\n",
        "use_cuda = torch.cuda.is_available()\n",
        "model.device = torch.device(\"cuda\" if use_cuda else \"cpu\")\n",
        "model = model.to(model.device)\n",
        "summary(model, input_size=(3, 32, 32))"
      ],
      "execution_count": 8,
      "outputs": [
        {
          "output_type": "stream",
          "text": [
            "Requirement already satisfied: torchsummary in /usr/local/lib/python3.6/dist-packages (1.5.1)\n",
            "----------------------------------------------------------------\n",
            "        Layer (type)               Output Shape         Param #\n",
            "================================================================\n",
            "            Conv2d-1           [-1, 64, 32, 32]           1,728\n",
            "       BatchNorm2d-2           [-1, 64, 32, 32]             128\n",
            "              ReLU-3           [-1, 64, 32, 32]               0\n",
            "            Conv2d-4          [-1, 128, 32, 32]          73,728\n",
            "         MaxPool2d-5          [-1, 128, 16, 16]               0\n",
            "       BatchNorm2d-6          [-1, 128, 16, 16]             256\n",
            "              ReLU-7          [-1, 128, 16, 16]               0\n",
            "            Conv2d-8          [-1, 128, 16, 16]         147,584\n",
            "       BatchNorm2d-9          [-1, 128, 16, 16]             256\n",
            "             ReLU-10          [-1, 128, 16, 16]               0\n",
            "           Conv2d-11          [-1, 128, 16, 16]         147,584\n",
            "      BatchNorm2d-12          [-1, 128, 16, 16]             256\n",
            "             ReLU-13          [-1, 128, 16, 16]               0\n",
            "       BasicBlock-14          [-1, 128, 16, 16]               0\n",
            "           Conv2d-15          [-1, 256, 16, 16]         294,912\n",
            "        MaxPool2d-16            [-1, 256, 8, 8]               0\n",
            "      BatchNorm2d-17            [-1, 256, 8, 8]             512\n",
            "             ReLU-18            [-1, 256, 8, 8]               0\n",
            "           Conv2d-19            [-1, 512, 8, 8]       1,179,648\n",
            "        MaxPool2d-20            [-1, 512, 4, 4]               0\n",
            "      BatchNorm2d-21            [-1, 512, 4, 4]           1,024\n",
            "             ReLU-22            [-1, 512, 4, 4]               0\n",
            "           Conv2d-23            [-1, 512, 4, 4]       2,359,808\n",
            "      BatchNorm2d-24            [-1, 512, 4, 4]           1,024\n",
            "             ReLU-25            [-1, 512, 4, 4]               0\n",
            "           Conv2d-26            [-1, 512, 4, 4]       2,359,808\n",
            "      BatchNorm2d-27            [-1, 512, 4, 4]           1,024\n",
            "             ReLU-28            [-1, 512, 4, 4]               0\n",
            "       BasicBlock-29            [-1, 512, 4, 4]               0\n",
            "        MaxPool2d-30            [-1, 512, 1, 1]               0\n",
            "           Linear-31                   [-1, 10]           5,130\n",
            "================================================================\n",
            "Total params: 6,574,410\n",
            "Trainable params: 6,574,410\n",
            "Non-trainable params: 0\n",
            "----------------------------------------------------------------\n",
            "Input size (MB): 0.01\n",
            "Forward/backward pass size (MB): 6.75\n",
            "Params size (MB): 25.08\n",
            "Estimated Total Size (MB): 31.85\n",
            "----------------------------------------------------------------\n"
          ],
          "name": "stdout"
        }
      ]
    },
    {
      "cell_type": "code",
      "metadata": {
        "id": "zUci5cFodm1X",
        "colab_type": "code",
        "outputId": "3bd49e13-a56d-4287-db12-c837fbd9a7f5",
        "colab": {
          "base_uri": "https://localhost:8080/",
          "height": 383,
          "referenced_widgets": [
            "d9b6898e2f7e47188a908029752914b2",
            "1419c50aa13c48a793edf1254880a2a4",
            "a13a765fda0b4a12a8635900f9418c3b",
            "3a41914c970f4b898e2a6190f4b57bc6",
            "ceaa01f3a89d456ea5209024b6a5b0f9",
            "0e74d7483df248c39f868f7739a2c63f",
            "488f88f0a0494fdca5ae14f8a42cd67f",
            "7dd48c00507244b7889e34dbe5c07f13"
          ]
        }
      },
      "source": [
        "from lr_finder import LRFinder\n",
        "\n",
        "import torch.optim as optim\n",
        "import torch.nn as nn\n",
        "from torch.optim.lr_scheduler import OneCycleLR\n",
        "from torch.optim.lr_scheduler import StepLR\n",
        "\n",
        "\n",
        "EPOCHS = 24\n",
        "l2_loss = 0.0001\n",
        "l1_lambda = 0\n",
        "criterion = nn.CrossEntropyLoss()\n",
        "\n",
        "#Optimizer\n",
        "optimizer = optim.SGD(model.parameters(), lr=1e-7, momentum=0.9, weight_decay=l2_loss)\n",
        "\n",
        "#LR Finder\n",
        "lr_finder = LRFinder(model, optimizer, criterion, device=model.device)\n",
        "lr_finder.range_test(trainloader, end_lr=100, num_iter=100)\n",
        "lr_finder.plot() # to inspect the loss-learning rate graph\n",
        "lr_finder.reset()"
      ],
      "execution_count": 9,
      "outputs": [
        {
          "output_type": "stream",
          "text": [
            "WARNING:lr_finder:To enable mixed precision training, please install `apex`. Or you can re-install this package by the following command:\n",
            "  pip install torch-lr-finder -v --global-option=\"amp\"\n"
          ],
          "name": "stderr"
        },
        {
          "output_type": "display_data",
          "data": {
            "application/vnd.jupyter.widget-view+json": {
              "model_id": "d9b6898e2f7e47188a908029752914b2",
              "version_minor": 0,
              "version_major": 2
            },
            "text/plain": [
              "HBox(children=(IntProgress(value=0), HTML(value='')))"
            ]
          },
          "metadata": {
            "tags": []
          }
        },
        {
          "output_type": "stream",
          "text": [
            "Stopping early, the loss has diverged\n",
            "Learning rate search finished. See the graph with {finder_name}.plot()\n"
          ],
          "name": "stdout"
        },
        {
          "output_type": "display_data",
          "data": {
            "image/png": "[encoded data removed]",
            "text/plain": [
              "<Figure size 432x288 with 1 Axes>"
            ]
          },
          "metadata": {
            "tags": [],
            "needs_background": "light"
          }
        }
      ]
    },
    {
      "cell_type": "markdown",
      "metadata": {
        "id": "_I_4ChuSGHfv",
        "colab_type": "text"
      },
      "source": [
        "We'll use method described in paper : https://arxiv.org/abs/1506.01186 to find out optimum learning rate.\n",
        "We'll increase the learning rate from lower value per iteration for some iterations till loss starts exploding.\n",
        "We'll plot loss vs learning rate plot.\n",
        "We'll then select learning rate that is one power higher than the one where loss is minimum\n",
        "This value can be used as maximum value in Cyclic Learning Rate policy and minimum learning rate\n",
        "can be set to 1/3, 1/4th of max value.\n",
        "\n"
      ]
    },
    {
      "cell_type": "code",
      "metadata": {
        "id": "MWgFDzOopNey",
        "colab_type": "code",
        "outputId": "5a19d7a9-e307-4631-8b2a-4b07434c6996",
        "colab": {
          "base_uri": "https://localhost:8080/",
          "height": 51
        }
      },
      "source": [
        "#Find the min loss from lr finder\n",
        "loss = lr_finder.history['loss']\n",
        "lr = lr_finder.history['lr']\n",
        "print(min(loss))\n",
        "print(lr[loss.index(min(loss))])\n"
      ],
      "execution_count": 11,
      "outputs": [
        {
          "output_type": "stream",
          "text": [
            "2.461919366115495\n",
            "0.008912509381337464\n"
          ],
          "name": "stdout"
        }
      ]
    },
    {
      "cell_type": "markdown",
      "metadata": {
        "id": "KTn006Q3hj8n",
        "colab_type": "text"
      },
      "source": [
        "LR MAX and MIN "
      ]
    },
    {
      "cell_type": "code",
      "metadata": {
        "id": "TO6BsdKppdDh",
        "colab_type": "code",
        "colab": {}
      },
      "source": [
        "LRMAX = 0.08\n",
        "LRMIN = 0.01"
      ],
      "execution_count": 0,
      "outputs": []
    },
    {
      "cell_type": "markdown",
      "metadata": {
        "id": "H3npe0XRhoIz",
        "colab_type": "text"
      },
      "source": [
        "Train using Once Cycle learning , max to be at 5th epoch, hence percent is set to 60 %"
      ]
    },
    {
      "cell_type": "code",
      "metadata": {
        "id": "bbqPGiekGthG",
        "colab_type": "code",
        "outputId": "dd5c2118-b5a2-4088-b908-ff23306556c4",
        "colab": {
          "base_uri": "https://localhost:8080/",
          "height": 1000
        }
      },
      "source": [
        "import one_cycle as OneCycle\n",
        "from torch.optim.lr_scheduler import ReduceLROnPlateau\n",
        "\n",
        "onecycle = OneCycle.OneCycle(int(len(trainset) * EPOCHS / 512), LRMAX, prcnt=60, momentum_vals=(0.95, 0.8))\n",
        "\n",
        "optimizer = optim.SGD(model.parameters(), lr=1e-5, momentum=0.9, weight_decay=l2_loss)\n",
        "\n",
        "schedular = None\n",
        "model.evaluate(optimizer, trainloader, testloader, EPOCHS, criterion, onecycle, schedular, False, l1_lambda)"
      ],
      "execution_count": 13,
      "outputs": [
        {
          "output_type": "stream",
          "text": [
            "Epoch= 0 Loss=2.0661842823028564 Batch_id=97 Accuracy=27.08: 100%|██████████| 98/98 [00:52<00:00,  1.87it/s]\n",
            "100%|██████████| 20/20 [00:02<00:00,  8.78it/s]\n",
            "  0%|          | 0/98 [00:00<?, ?it/s]"
          ],
          "name": "stderr"
        },
        {
          "output_type": "stream",
          "text": [
            "Epoch 0, Train Accuracy: 27.083333333333332 , Test Accuracy: 28.96\n"
          ],
          "name": "stdout"
        },
        {
          "output_type": "stream",
          "text": [
            "Epoch= 1 Loss=1.6797422170639038 Batch_id=97 Accuracy=42.56: 100%|██████████| 98/98 [00:51<00:00,  1.91it/s]\n",
            "100%|██████████| 20/20 [00:02<00:00,  8.87it/s]\n",
            "  0%|          | 0/98 [00:00<?, ?it/s]"
          ],
          "name": "stderr"
        },
        {
          "output_type": "stream",
          "text": [
            "Epoch 1, Train Accuracy: 42.55952380952381 , Test Accuracy: 33.72\n"
          ],
          "name": "stdout"
        },
        {
          "output_type": "stream",
          "text": [
            "Epoch= 2 Loss=1.5118776559829712 Batch_id=97 Accuracy=52.68: 100%|██████████| 98/98 [00:51<00:00,  1.91it/s]\n",
            "100%|██████████| 20/20 [00:02<00:00,  8.90it/s]\n",
            "  0%|          | 0/98 [00:00<?, ?it/s]"
          ],
          "name": "stderr"
        },
        {
          "output_type": "stream",
          "text": [
            "Epoch 2, Train Accuracy: 52.67857142857143 , Test Accuracy: 50.94\n"
          ],
          "name": "stdout"
        },
        {
          "output_type": "stream",
          "text": [
            "Epoch= 3 Loss=1.412589430809021 Batch_id=97 Accuracy=58.93: 100%|██████████| 98/98 [00:51<00:00,  1.91it/s]\n",
            "100%|██████████| 20/20 [00:02<00:00,  8.63it/s]\n",
            "  0%|          | 0/98 [00:00<?, ?it/s]"
          ],
          "name": "stderr"
        },
        {
          "output_type": "stream",
          "text": [
            "Epoch 3, Train Accuracy: 58.92857142857143 , Test Accuracy: 51.71\n"
          ],
          "name": "stdout"
        },
        {
          "output_type": "stream",
          "text": [
            "Epoch= 4 Loss=1.2600691318511963 Batch_id=97 Accuracy=63.99: 100%|██████████| 98/98 [00:51<00:00,  1.90it/s]\n",
            "100%|██████████| 20/20 [00:02<00:00,  8.60it/s]\n",
            "  0%|          | 0/98 [00:00<?, ?it/s]"
          ],
          "name": "stderr"
        },
        {
          "output_type": "stream",
          "text": [
            "Epoch 4, Train Accuracy: 63.98809523809524 , Test Accuracy: 58.62\n"
          ],
          "name": "stdout"
        },
        {
          "output_type": "stream",
          "text": [
            "Epoch= 5 Loss=1.1394124031066895 Batch_id=97 Accuracy=68.45: 100%|██████████| 98/98 [00:51<00:00,  1.90it/s]\n",
            "100%|██████████| 20/20 [00:02<00:00,  8.79it/s]\n",
            "  0%|          | 0/98 [00:00<?, ?it/s]"
          ],
          "name": "stderr"
        },
        {
          "output_type": "stream",
          "text": [
            "Epoch 5, Train Accuracy: 68.45238095238095 , Test Accuracy: 64.92\n"
          ],
          "name": "stdout"
        },
        {
          "output_type": "stream",
          "text": [
            "Epoch= 6 Loss=1.0459935665130615 Batch_id=97 Accuracy=71.43: 100%|██████████| 98/98 [00:51<00:00,  1.90it/s]\n",
            "100%|██████████| 20/20 [00:02<00:00,  9.17it/s]\n",
            "  0%|          | 0/98 [00:00<?, ?it/s]"
          ],
          "name": "stderr"
        },
        {
          "output_type": "stream",
          "text": [
            "Epoch 6, Train Accuracy: 71.42857142857143 , Test Accuracy: 69.18\n"
          ],
          "name": "stdout"
        },
        {
          "output_type": "stream",
          "text": [
            "Epoch= 7 Loss=0.9267125725746155 Batch_id=97 Accuracy=72.32: 100%|██████████| 98/98 [00:51<00:00,  1.90it/s]\n",
            "100%|██████████| 20/20 [00:02<00:00,  8.64it/s]\n",
            "  0%|          | 0/98 [00:00<?, ?it/s]"
          ],
          "name": "stderr"
        },
        {
          "output_type": "stream",
          "text": [
            "Epoch 7, Train Accuracy: 72.32142857142857 , Test Accuracy: 72.19\n"
          ],
          "name": "stdout"
        },
        {
          "output_type": "stream",
          "text": [
            "Epoch= 8 Loss=0.9266047477722168 Batch_id=97 Accuracy=73.21: 100%|██████████| 98/98 [00:51<00:00,  1.90it/s]\n",
            "100%|██████████| 20/20 [00:02<00:00,  8.76it/s]\n",
            "  0%|          | 0/98 [00:00<?, ?it/s]"
          ],
          "name": "stderr"
        },
        {
          "output_type": "stream",
          "text": [
            "Epoch 8, Train Accuracy: 73.21428571428571 , Test Accuracy: 73.15\n"
          ],
          "name": "stdout"
        },
        {
          "output_type": "stream",
          "text": [
            "Epoch= 9 Loss=0.9841095805168152 Batch_id=97 Accuracy=69.94: 100%|██████████| 98/98 [00:51<00:00,  1.91it/s]\n",
            "100%|██████████| 20/20 [00:02<00:00,  8.73it/s]\n",
            "  0%|          | 0/98 [00:00<?, ?it/s]"
          ],
          "name": "stderr"
        },
        {
          "output_type": "stream",
          "text": [
            "Epoch 9, Train Accuracy: 69.94047619047619 , Test Accuracy: 72.88\n"
          ],
          "name": "stdout"
        },
        {
          "output_type": "stream",
          "text": [
            "Epoch= 10 Loss=0.8443700075149536 Batch_id=97 Accuracy=71.13: 100%|██████████| 98/98 [00:51<00:00,  1.91it/s]\n",
            "100%|██████████| 20/20 [00:02<00:00,  8.86it/s]\n",
            "  0%|          | 0/98 [00:00<?, ?it/s]"
          ],
          "name": "stderr"
        },
        {
          "output_type": "stream",
          "text": [
            "Epoch 10, Train Accuracy: 71.13095238095238 , Test Accuracy: 76.72\n"
          ],
          "name": "stdout"
        },
        {
          "output_type": "stream",
          "text": [
            "Epoch= 11 Loss=0.7908453941345215 Batch_id=97 Accuracy=76.49: 100%|██████████| 98/98 [00:52<00:00,  1.88it/s]\n",
            "100%|██████████| 20/20 [00:02<00:00,  9.02it/s]\n",
            "  0%|          | 0/98 [00:00<?, ?it/s]"
          ],
          "name": "stderr"
        },
        {
          "output_type": "stream",
          "text": [
            "Epoch 11, Train Accuracy: 76.48809523809524 , Test Accuracy: 78.87\n"
          ],
          "name": "stdout"
        },
        {
          "output_type": "stream",
          "text": [
            "Epoch= 12 Loss=0.6290776133537292 Batch_id=97 Accuracy=79.17: 100%|██████████| 98/98 [00:52<00:00,  1.88it/s]\n",
            "100%|██████████| 20/20 [00:02<00:00,  8.91it/s]\n",
            "  0%|          | 0/98 [00:00<?, ?it/s]"
          ],
          "name": "stderr"
        },
        {
          "output_type": "stream",
          "text": [
            "Epoch 12, Train Accuracy: 79.16666666666667 , Test Accuracy: 80.57\n"
          ],
          "name": "stdout"
        },
        {
          "output_type": "stream",
          "text": [
            "Epoch= 13 Loss=0.8472787141799927 Batch_id=97 Accuracy=75.00: 100%|██████████| 98/98 [00:51<00:00,  1.88it/s]\n",
            "100%|██████████| 20/20 [00:02<00:00,  8.33it/s]\n",
            "  0%|          | 0/98 [00:00<?, ?it/s]"
          ],
          "name": "stderr"
        },
        {
          "output_type": "stream",
          "text": [
            "Epoch 13, Train Accuracy: 75.0 , Test Accuracy: 81.05\n"
          ],
          "name": "stdout"
        },
        {
          "output_type": "stream",
          "text": [
            "Epoch= 14 Loss=0.6222550272941589 Batch_id=97 Accuracy=80.65: 100%|██████████| 98/98 [00:54<00:00,  1.81it/s]\n",
            "100%|██████████| 20/20 [00:02<00:00,  8.32it/s]\n",
            "  0%|          | 0/98 [00:00<?, ?it/s]"
          ],
          "name": "stderr"
        },
        {
          "output_type": "stream",
          "text": [
            "Epoch 14, Train Accuracy: 80.6547619047619 , Test Accuracy: 82.14\n"
          ],
          "name": "stdout"
        },
        {
          "output_type": "stream",
          "text": [
            "Epoch= 15 Loss=0.6071344017982483 Batch_id=97 Accuracy=81.25: 100%|██████████| 98/98 [00:53<00:00,  1.83it/s]\n",
            "100%|██████████| 20/20 [00:02<00:00,  8.47it/s]\n",
            "  0%|          | 0/98 [00:00<?, ?it/s]"
          ],
          "name": "stderr"
        },
        {
          "output_type": "stream",
          "text": [
            "Epoch 15, Train Accuracy: 81.25 , Test Accuracy: 84.51\n"
          ],
          "name": "stdout"
        },
        {
          "output_type": "stream",
          "text": [
            "Epoch= 16 Loss=0.6282655596733093 Batch_id=97 Accuracy=78.57: 100%|██████████| 98/98 [00:53<00:00,  1.83it/s]\n",
            "100%|██████████| 20/20 [00:02<00:00,  8.50it/s]\n",
            "  0%|          | 0/98 [00:00<?, ?it/s]"
          ],
          "name": "stderr"
        },
        {
          "output_type": "stream",
          "text": [
            "Epoch 16, Train Accuracy: 78.57142857142857 , Test Accuracy: 85.04\n"
          ],
          "name": "stdout"
        },
        {
          "output_type": "stream",
          "text": [
            "Epoch= 17 Loss=0.5891295075416565 Batch_id=97 Accuracy=83.04: 100%|██████████| 98/98 [00:53<00:00,  1.83it/s]\n",
            "100%|██████████| 20/20 [00:02<00:00,  8.65it/s]\n",
            "  0%|          | 0/98 [00:00<?, ?it/s]"
          ],
          "name": "stderr"
        },
        {
          "output_type": "stream",
          "text": [
            "Epoch 17, Train Accuracy: 83.03571428571429 , Test Accuracy: 85.09\n"
          ],
          "name": "stdout"
        },
        {
          "output_type": "stream",
          "text": [
            "Epoch= 18 Loss=0.6115382313728333 Batch_id=97 Accuracy=78.57: 100%|██████████| 98/98 [00:53<00:00,  1.83it/s]\n",
            "100%|██████████| 20/20 [00:02<00:00,  8.46it/s]\n",
            "  0%|          | 0/98 [00:00<?, ?it/s]"
          ],
          "name": "stderr"
        },
        {
          "output_type": "stream",
          "text": [
            "Epoch 18, Train Accuracy: 78.57142857142857 , Test Accuracy: 86.05\n"
          ],
          "name": "stdout"
        },
        {
          "output_type": "stream",
          "text": [
            "Epoch= 19 Loss=0.5400260090827942 Batch_id=97 Accuracy=82.74: 100%|██████████| 98/98 [00:53<00:00,  1.84it/s]\n",
            "100%|██████████| 20/20 [00:02<00:00,  8.46it/s]\n",
            "  0%|          | 0/98 [00:00<?, ?it/s]"
          ],
          "name": "stderr"
        },
        {
          "output_type": "stream",
          "text": [
            "Epoch 19, Train Accuracy: 82.73809523809524 , Test Accuracy: 87.03\n"
          ],
          "name": "stdout"
        },
        {
          "output_type": "stream",
          "text": [
            "Epoch= 20 Loss=0.5609620213508606 Batch_id=97 Accuracy=80.65: 100%|██████████| 98/98 [00:51<00:00,  1.89it/s]\n",
            "100%|██████████| 20/20 [00:02<00:00,  8.93it/s]\n",
            "  0%|          | 0/98 [00:00<?, ?it/s]"
          ],
          "name": "stderr"
        },
        {
          "output_type": "stream",
          "text": [
            "Epoch 20, Train Accuracy: 80.6547619047619 , Test Accuracy: 87.14\n"
          ],
          "name": "stdout"
        },
        {
          "output_type": "stream",
          "text": [
            "Epoch= 21 Loss=0.4697414040565491 Batch_id=97 Accuracy=85.12: 100%|██████████| 98/98 [00:51<00:00,  1.90it/s]\n",
            "100%|██████████| 20/20 [00:02<00:00,  8.83it/s]\n",
            "  0%|          | 0/98 [00:00<?, ?it/s]"
          ],
          "name": "stderr"
        },
        {
          "output_type": "stream",
          "text": [
            "Epoch 21, Train Accuracy: 85.11904761904762 , Test Accuracy: 87.28\n"
          ],
          "name": "stdout"
        },
        {
          "output_type": "stream",
          "text": [
            "Epoch= 22 Loss=0.44548267126083374 Batch_id=97 Accuracy=86.61: 100%|██████████| 98/98 [00:53<00:00,  1.83it/s]\n",
            "100%|██████████| 20/20 [00:02<00:00,  8.21it/s]\n",
            "  0%|          | 0/98 [00:00<?, ?it/s]"
          ],
          "name": "stderr"
        },
        {
          "output_type": "stream",
          "text": [
            "Epoch 22, Train Accuracy: 86.60714285714286 , Test Accuracy: 88.45\n"
          ],
          "name": "stdout"
        },
        {
          "output_type": "stream",
          "text": [
            "Epoch= 23 Loss=0.3417850136756897 Batch_id=97 Accuracy=89.58: 100%|██████████| 98/98 [00:53<00:00,  1.82it/s]\n",
            "100%|██████████| 20/20 [00:02<00:00,  8.21it/s]"
          ],
          "name": "stderr"
        },
        {
          "output_type": "stream",
          "text": [
            "Epoch 23, Train Accuracy: 89.58333333333333 , Test Accuracy: 88.83\n"
          ],
          "name": "stdout"
        },
        {
          "output_type": "stream",
          "text": [
            "\n"
          ],
          "name": "stderr"
        }
      ]
    },
    {
      "cell_type": "markdown",
      "metadata": {
        "id": "OPuPrQiyhVXF",
        "colab_type": "text"
      },
      "source": [
        "Total number of iterations"
      ]
    },
    {
      "cell_type": "code",
      "metadata": {
        "id": "UmFg7OrUd_u5",
        "colab_type": "code",
        "outputId": "077aea68-0ecd-4894-9e39-1d30ffb46adc",
        "colab": {
          "base_uri": "https://localhost:8080/",
          "height": 34
        }
      },
      "source": [
        "print(int(len(trainset) * EPOCHS / 512))"
      ],
      "execution_count": 14,
      "outputs": [
        {
          "output_type": "stream",
          "text": [
            "2343\n"
          ],
          "name": "stdout"
        }
      ]
    },
    {
      "cell_type": "markdown",
      "metadata": {
        "id": "cKWXPYtnhZ-9",
        "colab_type": "text"
      },
      "source": [
        "Plot the traingle for one cycle "
      ]
    },
    {
      "cell_type": "code",
      "metadata": {
        "id": "qbSRHh_CdtE2",
        "colab_type": "code",
        "outputId": "37dea615-281b-4d52-f0a8-bf2d27596dfb",
        "colab": {
          "base_uri": "https://localhost:8080/",
          "height": 304
        }
      },
      "source": [
        "plt.xkcd()\n",
        "plt.xlabel(\"Iterations\")\n",
        "plt.ylabel(\"Learning Rate\")\n",
        "plt.xticks(np.arange(0, len(onecycle.lrs), step=500), rotation=90)\n",
        "plt.plot(onecycle.lrs[:2343])\n",
        "plt.savefig('onecycle_lr.jpg')"
      ],
      "execution_count": 15,
      "outputs": [
        {
          "output_type": "display_data",
          "data": {
            "image/png": "[encoded data removed]",
            "text/plain": [
              "<Figure size 432x288 with 1 Axes>"
            ]
          },
          "metadata": {
            "tags": []
          }
        }
      ]
    },
    {
      "cell_type": "code",
      "metadata": {
        "id": "R5Dw1J-HfvpM",
        "colab_type": "code",
        "colab": {
          "base_uri": "https://localhost:8080/",
          "height": 629
        },
        "outputId": "a5c5e680-c8c7-466d-d342-77478ad788c5"
      },
      "source": [
        "#Plot the graph\n",
        "model.trainer.plot_graph()"
      ],
      "execution_count": 16,
      "outputs": [
        {
          "output_type": "display_data",
          "data": {
            "image/png": "[encoded data removed]",
            "text/plain": [
              "<Figure size 720x720 with 4 Axes>"
            ]
          },
          "metadata": {
            "tags": []
          }
        }
      ]
    }
  ]
}