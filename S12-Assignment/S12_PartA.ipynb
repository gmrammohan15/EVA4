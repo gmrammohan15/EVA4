{
  "nbformat": 4,
  "nbformat_minor": 0,
  "metadata": {
    "colab": {
      "name": "S12-1.ipynb",
      "provenance": [],
      "collapsed_sections": [],
      "authorship_tag": "ABX9TyMj6/ILMgrv90V2RDIx2lfB",
      "include_colab_link": true
    },
    "kernelspec": {
      "name": "python3",
      "display_name": "Python 3"
    },
    "accelerator": "GPU",
    "widgets": {
      "application/vnd.jupyter.widget-state+json": {
        "d19a1fea147347b48e70bfb5f0c13610": {
          "model_module": "@jupyter-widgets/controls",
          "model_name": "HBoxModel",
          "state": {
            "_view_name": "HBoxView",
            "_dom_classes": [],
            "_model_name": "HBoxModel",
            "_view_module": "@jupyter-widgets/controls",
            "_model_module_version": "1.5.0",
            "_view_count": null,
            "_view_module_version": "1.5.0",
            "box_style": "",
            "layout": "IPY_MODEL_eab129f86ddc4c3fa33230dbd61ba647",
            "_model_module": "@jupyter-widgets/controls",
            "children": [
              "IPY_MODEL_3810d69dc9c842c795f4d0032bafeb86",
              "IPY_MODEL_f70844f8fb6c4808aa07477b57da594f"
            ]
          }
        },
        "eab129f86ddc4c3fa33230dbd61ba647": {
          "model_module": "@jupyter-widgets/base",
          "model_name": "LayoutModel",
          "state": {
            "_view_name": "LayoutView",
            "grid_template_rows": null,
            "right": null,
            "justify_content": null,
            "_view_module": "@jupyter-widgets/base",
            "overflow": null,
            "_model_module_version": "1.2.0",
            "_view_count": null,
            "flex_flow": null,
            "width": null,
            "min_width": null,
            "border": null,
            "align_items": null,
            "bottom": null,
            "_model_module": "@jupyter-widgets/base",
            "top": null,
            "grid_column": null,
            "overflow_y": null,
            "overflow_x": null,
            "grid_auto_flow": null,
            "grid_area": null,
            "grid_template_columns": null,
            "flex": null,
            "_model_name": "LayoutModel",
            "justify_items": null,
            "grid_row": null,
            "max_height": null,
            "align_content": null,
            "visibility": null,
            "align_self": null,
            "height": null,
            "min_height": null,
            "padding": null,
            "grid_auto_rows": null,
            "grid_gap": null,
            "max_width": null,
            "order": null,
            "_view_module_version": "1.2.0",
            "grid_template_areas": null,
            "object_position": null,
            "object_fit": null,
            "grid_auto_columns": null,
            "margin": null,
            "display": null,
            "left": null
          }
        },
        "3810d69dc9c842c795f4d0032bafeb86": {
          "model_module": "@jupyter-widgets/controls",
          "model_name": "IntProgressModel",
          "state": {
            "_view_name": "ProgressView",
            "style": "IPY_MODEL_df3c136da78942b18b74627c26bb898d",
            "_dom_classes": [],
            "description": "100%",
            "_model_name": "IntProgressModel",
            "bar_style": "success",
            "max": 100,
            "_view_module": "@jupyter-widgets/controls",
            "_model_module_version": "1.5.0",
            "value": 100,
            "_view_count": null,
            "_view_module_version": "1.5.0",
            "orientation": "horizontal",
            "min": 0,
            "description_tooltip": null,
            "_model_module": "@jupyter-widgets/controls",
            "layout": "IPY_MODEL_7717c96fd26c43ba83d9ff3e8acdae5b"
          }
        },
        "f70844f8fb6c4808aa07477b57da594f": {
          "model_module": "@jupyter-widgets/controls",
          "model_name": "HTMLModel",
          "state": {
            "_view_name": "HTMLView",
            "style": "IPY_MODEL_adcffa29718041b3b7027e6ec6497372",
            "_dom_classes": [],
            "description": "",
            "_model_name": "HTMLModel",
            "placeholder": "​",
            "_view_module": "@jupyter-widgets/controls",
            "_model_module_version": "1.5.0",
            "value": " 100/100 [01:31&lt;00:00,  1.09it/s]",
            "_view_count": null,
            "_view_module_version": "1.5.0",
            "description_tooltip": null,
            "_model_module": "@jupyter-widgets/controls",
            "layout": "IPY_MODEL_57505b92177445f89c7b8be359b73211"
          }
        },
        "df3c136da78942b18b74627c26bb898d": {
          "model_module": "@jupyter-widgets/controls",
          "model_name": "ProgressStyleModel",
          "state": {
            "_view_name": "StyleView",
            "_model_name": "ProgressStyleModel",
            "description_width": "initial",
            "_view_module": "@jupyter-widgets/base",
            "_model_module_version": "1.5.0",
            "_view_count": null,
            "_view_module_version": "1.2.0",
            "bar_color": null,
            "_model_module": "@jupyter-widgets/controls"
          }
        },
        "7717c96fd26c43ba83d9ff3e8acdae5b": {
          "model_module": "@jupyter-widgets/base",
          "model_name": "LayoutModel",
          "state": {
            "_view_name": "LayoutView",
            "grid_template_rows": null,
            "right": null,
            "justify_content": null,
            "_view_module": "@jupyter-widgets/base",
            "overflow": null,
            "_model_module_version": "1.2.0",
            "_view_count": null,
            "flex_flow": null,
            "width": null,
            "min_width": null,
            "border": null,
            "align_items": null,
            "bottom": null,
            "_model_module": "@jupyter-widgets/base",
            "top": null,
            "grid_column": null,
            "overflow_y": null,
            "overflow_x": null,
            "grid_auto_flow": null,
            "grid_area": null,
            "grid_template_columns": null,
            "flex": null,
            "_model_name": "LayoutModel",
            "justify_items": null,
            "grid_row": null,
            "max_height": null,
            "align_content": null,
            "visibility": null,
            "align_self": null,
            "height": null,
            "min_height": null,
            "padding": null,
            "grid_auto_rows": null,
            "grid_gap": null,
            "max_width": null,
            "order": null,
            "_view_module_version": "1.2.0",
            "grid_template_areas": null,
            "object_position": null,
            "object_fit": null,
            "grid_auto_columns": null,
            "margin": null,
            "display": null,
            "left": null
          }
        },
        "adcffa29718041b3b7027e6ec6497372": {
          "model_module": "@jupyter-widgets/controls",
          "model_name": "DescriptionStyleModel",
          "state": {
            "_view_name": "StyleView",
            "_model_name": "DescriptionStyleModel",
            "description_width": "",
            "_view_module": "@jupyter-widgets/base",
            "_model_module_version": "1.5.0",
            "_view_count": null,
            "_view_module_version": "1.2.0",
            "_model_module": "@jupyter-widgets/controls"
          }
        },
        "57505b92177445f89c7b8be359b73211": {
          "model_module": "@jupyter-widgets/base",
          "model_name": "LayoutModel",
          "state": {
            "_view_name": "LayoutView",
            "grid_template_rows": null,
            "right": null,
            "justify_content": null,
            "_view_module": "@jupyter-widgets/base",
            "overflow": null,
            "_model_module_version": "1.2.0",
            "_view_count": null,
            "flex_flow": null,
            "width": null,
            "min_width": null,
            "border": null,
            "align_items": null,
            "bottom": null,
            "_model_module": "@jupyter-widgets/base",
            "top": null,
            "grid_column": null,
            "overflow_y": null,
            "overflow_x": null,
            "grid_auto_flow": null,
            "grid_area": null,
            "grid_template_columns": null,
            "flex": null,
            "_model_name": "LayoutModel",
            "justify_items": null,
            "grid_row": null,
            "max_height": null,
            "align_content": null,
            "visibility": null,
            "align_self": null,
            "height": null,
            "min_height": null,
            "padding": null,
            "grid_auto_rows": null,
            "grid_gap": null,
            "max_width": null,
            "order": null,
            "_view_module_version": "1.2.0",
            "grid_template_areas": null,
            "object_position": null,
            "object_fit": null,
            "grid_auto_columns": null,
            "margin": null,
            "display": null,
            "left": null
          }
        }
      }
    }
  },
  "cells": [
    {
      "cell_type": "markdown",
      "metadata": {
        "id": "view-in-github",
        "colab_type": "text"
      },
      "source": [
        "<a href=\"https://colab.research.google.com/github/gmrammohan15/EVA4/blob/master/S12-Assignment/S12_PartA.ipynb\" target=\"_parent\"><img src=\"https://colab.research.google.com/assets/colab-badge.svg\" alt=\"Open In Colab\"/></a>"
      ]
    },
    {
      "cell_type": "code",
      "metadata": {
        "id": "gUVH9L08djyI",
        "colab_type": "code",
        "outputId": "3cec0b88-03af-4cae-d6d0-5aa9e39385c2",
        "colab": {
          "base_uri": "https://localhost:8080/",
          "height": 122
        }
      },
      "source": [
        "from google.colab import drive\n",
        "drive.mount('/content/gdrive')\n"
      ],
      "execution_count": 0,
      "outputs": [
        {
          "output_type": "stream",
          "text": [
            "Go to this URL in a browser: https://accounts.google.com/o/oauth2/auth?client_id=947318989803-6bn6qk8qdgf4n4g3pfee6491hc0brc4i.apps.googleusercontent.com&redirect_uri=urn%3aietf%3awg%3aoauth%3a2.0%3aoob&response_type=code&scope=email%20https%3a%2f%2fwww.googleapis.com%2fauth%2fdocs.test%20https%3a%2f%2fwww.googleapis.com%2fauth%2fdrive%20https%3a%2f%2fwww.googleapis.com%2fauth%2fdrive.photos.readonly%20https%3a%2f%2fwww.googleapis.com%2fauth%2fpeopleapi.readonly\n",
            "\n",
            "Enter your authorization code:\n",
            "··········\n",
            "Mounted at /content/gdrive\n"
          ],
          "name": "stdout"
        }
      ]
    },
    {
      "cell_type": "code",
      "metadata": {
        "id": "5cQr42Nsdw2k",
        "colab_type": "code",
        "colab": {}
      },
      "source": [
        "import sys\n",
        "sys.path.append('/content/gdrive/My Drive/S12-Assignment/')"
      ],
      "execution_count": 0,
      "outputs": []
    },
    {
      "cell_type": "code",
      "metadata": {
        "id": "BH2SR7snd45c",
        "colab_type": "code",
        "outputId": "a3377f9b-46f9-4f49-9e8d-5562f1f27a03",
        "colab": {
          "base_uri": "https://localhost:8080/",
          "height": 34
        }
      },
      "source": [
        "%cd /content/gdrive/My Drive/S12-Assignment/"
      ],
      "execution_count": 0,
      "outputs": [
        {
          "output_type": "stream",
          "text": [
            "/content/gdrive/My Drive/S12-Assignment\n"
          ],
          "name": "stdout"
        }
      ]
    },
    {
      "cell_type": "code",
      "metadata": {
        "id": "Xr6TlWnqVRNc",
        "colab_type": "code",
        "outputId": "64858abf-c594-423f-9717-f4ad6a05bce9",
        "colab": {
          "base_uri": "https://localhost:8080/",
          "height": 34
        }
      },
      "source": [
        "!ls /content/"
      ],
      "execution_count": 0,
      "outputs": [
        {
          "output_type": "stream",
          "text": [
            "data-tinyimage\tgdrive\tsample_data\n"
          ],
          "name": "stdout"
        }
      ]
    },
    {
      "cell_type": "code",
      "metadata": {
        "id": "8JhLJa96Q_jD",
        "colab_type": "code",
        "outputId": "47fe864c-0290-47a2-b410-fb3ba590ad3b",
        "colab": {
          "base_uri": "https://localhost:8080/",
          "height": 51
        }
      },
      "source": [
        "import tinyimageset_preprocessing as preprocess\n",
        "preprocess.download_dataset()"
      ],
      "execution_count": 0,
      "outputs": [
        {
          "output_type": "stream",
          "text": [
            "Beginning dataset download with urllib2\n",
            "Dataset downloaded\n"
          ],
          "name": "stdout"
        }
      ]
    },
    {
      "cell_type": "code",
      "metadata": {
        "id": "bzKloSEeRTOD",
        "colab_type": "code",
        "outputId": "e05dc7c3-c214-42ff-a23c-f508cb0b5f6b",
        "colab": {
          "base_uri": "https://localhost:8080/",
          "height": 51
        }
      },
      "source": [
        "preprocess.unzip_data()"
      ],
      "execution_count": 0,
      "outputs": [
        {
          "output_type": "stream",
          "text": [
            "Extracting zip file: /content/gdrive/My Drive/S12-Assignment/tiny-imagenet-200.zip\n",
            "Extracted at: /content/data-tinyimage\n"
          ],
          "name": "stdout"
        }
      ]
    },
    {
      "cell_type": "code",
      "metadata": {
        "id": "-qONM9Z2dIoh",
        "colab_type": "code",
        "outputId": "e48f3a0f-73e6-475e-bf70-2f99b8e410d3",
        "colab": {
          "base_uri": "https://localhost:8080/",
          "height": 51
        }
      },
      "source": [
        "%cd /content/data-tinyimage\n",
        "!ls"
      ],
      "execution_count": 0,
      "outputs": [
        {
          "output_type": "stream",
          "text": [
            "/content/data-tinyimage\n",
            "tiny-imagenet-200\n"
          ],
          "name": "stdout"
        }
      ]
    },
    {
      "cell_type": "code",
      "metadata": {
        "id": "pW589HaEVzws",
        "colab_type": "code",
        "outputId": "c6ef74c8-919e-4be4-be7b-0bc0e88f1da9",
        "colab": {
          "base_uri": "https://localhost:8080/",
          "height": 68
        }
      },
      "source": [
        "preprocess.format_val()"
      ],
      "execution_count": 0,
      "outputs": [
        {
          "output_type": "stream",
          "text": [
            "Formatting: /content/data-tinyimage/tiny-imagenet-200/val\n",
            "Cleaning up: /content/data-tinyimage/tiny-imagenet-200/val/images\n",
            "Formatting val done\n"
          ],
          "name": "stdout"
        }
      ]
    },
    {
      "cell_type": "code",
      "metadata": {
        "id": "_h93UWAAWPiS",
        "colab_type": "code",
        "colab": {}
      },
      "source": [
        "preprocess.split_train_test()"
      ],
      "execution_count": 0,
      "outputs": []
    },
    {
      "cell_type": "code",
      "metadata": {
        "id": "I7P9FaMsa_fU",
        "colab_type": "code",
        "outputId": "bf4aac7e-0b81-475c-e078-68a2881ca492",
        "colab": {
          "base_uri": "https://localhost:8080/",
          "height": 510
        }
      },
      "source": [
        "\n",
        "!ls /content/data-tinyimage/tiny-imagenet-200/new_test"
      ],
      "execution_count": 0,
      "outputs": [
        {
          "output_type": "stream",
          "text": [
            "n01443537  n02113799  n02509815  n02988304  n03670208  n04146614  n04596742\n",
            "n01629819  n02123045  n02666196  n02999410  n03706229  n04149813  n04597913\n",
            "n01641577  n02123394  n02669723  n03014705  n03733131  n04179913  n06596364\n",
            "n01644900  n02124075  n02699494  n03026506  n03763968  n04251144  n07579787\n",
            "n01698640  n02125311  n02730930  n03042490  n03770439  n04254777  n07583066\n",
            "n01742172  n02129165  n02769748  n03085013  n03796401  n04259630  n07614500\n",
            "n01768244  n02132136  n02788148  n03089624  n03804744  n04265275  n07615774\n",
            "n01770393  n02165456  n02791270  n03100240  n03814639  n04275548  n07695742\n",
            "n01774384  n02190166  n02793495  n03126707  n03837869  n04285008  n07711569\n",
            "n01774750  n02206856  n02795169  n03160309  n03838899  n04311004  n07715103\n",
            "n01784675  n02226429  n02802426  n03179701  n03854065  n04328186  n07720875\n",
            "n01855672  n02231487  n02808440  n03201208  n03891332  n04356056  n07734744\n",
            "n01882714  n02233338  n02814533  n03250847  n03902125  n04366367  n07747607\n",
            "n01910747  n02236044  n02814860  n03255030  n03930313  n04371430  n07749582\n",
            "n01917289  n02268443  n02815834  n03355925  n03937543  n04376876  n07753592\n",
            "n01944390  n02279972  n02823428  n03388043  n03970156  n04398044  n07768694\n",
            "n01945685  n02281406  n02837789  n03393912  n03976657  n04399382  n07871810\n",
            "n01950731  n02321529  n02841315  n03400231  n03977966  n04417672  n07873807\n",
            "n01983481  n02364673  n02843684  n03404251  n03980874  n04456115  n07875152\n",
            "n01984695  n02395406  n02883205  n03424325  n03983396  n04465501  n07920052\n",
            "n02002724  n02403003  n02892201  n03444034  n03992509  n04486054  n09193705\n",
            "n02056570  n02410509  n02906734  n03447447  n04008634  n04487081  n09246464\n",
            "n02058221  n02415577  n02909870  n03544143  n04023962  n04501370  n09256479\n",
            "n02074367  n02423022  n02917067  n03584254  n04067472  n04507155  n09332890\n",
            "n02085620  n02437312  n02927161  n03599486  n04070727  n04532106  n09428293\n",
            "n02094433  n02480495  n02948072  n03617480  n04074963  n04532670  n12267677\n",
            "n02099601  n02481823  n02950826  n03637318  n04099969  n04540053\n",
            "n02099712  n02486410  n02963159  n03649909  n04118538  n04560804\n",
            "n02106662  n02504458  n02977058  n03662601  n04133789  n04562935\n"
          ],
          "name": "stdout"
        }
      ]
    },
    {
      "cell_type": "code",
      "metadata": {
        "id": "N5wts_3OCDej",
        "colab_type": "code",
        "colab": {}
      },
      "source": [
        "import torch\n",
        "import torchvision\n",
        "import torchvision.transforms as transforms\n",
        "from Data_Transforms import cutout\n",
        "from Data_Transforms import transform\n",
        "\n",
        "data = transform.Data()\n",
        "\n",
        "transform_train = transforms.Compose([\n",
        "    transforms.Resize((32, 32)),\n",
        "    #transforms.RandomCrop(64, padding=4),\n",
        "    transforms.RandomHorizontalFlip(),\n",
        "    transforms.ToTensor(),\n",
        "    transforms.Normalize([0.4802, 0.4481, 0.3975], [0.2302, 0.2265, 0.2262]),\n",
        "])\n",
        "transform_train.transforms.append(cutout.Cutout(n_holes=4, length=4))\n",
        "transform_test = transforms.Compose([ \n",
        "                    transforms.Resize((32, 32)),                \n",
        "                    transforms.ToTensor(),\n",
        "                    transforms.Normalize([0.4802, 0.4481, 0.3975], [0.2302, 0.2265, 0.2262])\n",
        "                    ])\n",
        "train_data = torchvision.datasets.ImageFolder(root='/content/data-tinyimage/tiny-imagenet-200/new_train', \n",
        "                                              transform=transform_train)\n",
        "\n",
        "test_data = torchvision.datasets.ImageFolder(root='/content/data-tinyimage/tiny-imagenet-200/new_test', \n",
        "                                              transform=transform_test)\n",
        "\n",
        "trainloader = data.getDataLoader(train_data, 256)\n",
        "testloader = data.getDataLoader(test_data, 256)\n"
      ],
      "execution_count": 0,
      "outputs": []
    },
    {
      "cell_type": "code",
      "metadata": {
        "id": "dYdvx_TAKyiw",
        "colab_type": "code",
        "outputId": "7055474d-648d-4e82-cf29-747f595aec47",
        "colab": {
          "base_uri": "https://localhost:8080/",
          "height": 34
        }
      },
      "source": [
        "!ls tiny-imagenet-200/train_set"
      ],
      "execution_count": 0,
      "outputs": [
        {
          "output_type": "stream",
          "text": [
            "ls: cannot access 'tiny-imagenet-200/train_set': No such file or directory\n"
          ],
          "name": "stdout"
        }
      ]
    },
    {
      "cell_type": "code",
      "metadata": {
        "id": "6OcJDbJgLT1f",
        "colab_type": "code",
        "outputId": "b81f4cfa-3458-49d5-965d-07add1710746",
        "colab": {
          "base_uri": "https://localhost:8080/",
          "height": 1000
        }
      },
      "source": [
        "from Models import resnet\n",
        "\n",
        "import torch\n",
        "\n",
        "import importlib\n",
        "importlib.reload(resnet)\n",
        "from torchsummary import summary\n",
        "\n",
        "model = resnet.ResNet18(num_classes=200)\n",
        "use_cuda = torch.cuda.is_available()\n",
        "model.device = torch.device(\"cuda\" if use_cuda else \"cpu\")\n",
        "print(model.device)\n",
        "model = model.to(model.device)\n",
        "model.summary((3,64,64))\n",
        "\n"
      ],
      "execution_count": 0,
      "outputs": [
        {
          "output_type": "stream",
          "text": [
            "cuda\n",
            "----------------------------------------------------------------\n",
            "        Layer (type)               Output Shape         Param #\n",
            "================================================================\n",
            "            Conv2d-1           [-1, 64, 64, 64]           1,728\n",
            "       BatchNorm2d-2           [-1, 64, 64, 64]             128\n",
            "            Conv2d-3           [-1, 64, 64, 64]          36,864\n",
            "       BatchNorm2d-4           [-1, 64, 64, 64]             128\n",
            "            Conv2d-5           [-1, 64, 64, 64]          36,864\n",
            "       BatchNorm2d-6           [-1, 64, 64, 64]             128\n",
            "        BasicBlock-7           [-1, 64, 64, 64]               0\n",
            "            Conv2d-8           [-1, 64, 64, 64]          36,864\n",
            "       BatchNorm2d-9           [-1, 64, 64, 64]             128\n",
            "           Conv2d-10           [-1, 64, 64, 64]          36,864\n",
            "      BatchNorm2d-11           [-1, 64, 64, 64]             128\n",
            "       BasicBlock-12           [-1, 64, 64, 64]               0\n",
            "           Conv2d-13          [-1, 128, 32, 32]          73,728\n",
            "      BatchNorm2d-14          [-1, 128, 32, 32]             256\n",
            "           Conv2d-15          [-1, 128, 32, 32]         147,456\n",
            "      BatchNorm2d-16          [-1, 128, 32, 32]             256\n",
            "           Conv2d-17          [-1, 128, 32, 32]           8,192\n",
            "      BatchNorm2d-18          [-1, 128, 32, 32]             256\n",
            "       BasicBlock-19          [-1, 128, 32, 32]               0\n",
            "           Conv2d-20          [-1, 128, 32, 32]         147,456\n",
            "      BatchNorm2d-21          [-1, 128, 32, 32]             256\n",
            "           Conv2d-22          [-1, 128, 32, 32]         147,456\n",
            "      BatchNorm2d-23          [-1, 128, 32, 32]             256\n",
            "       BasicBlock-24          [-1, 128, 32, 32]               0\n",
            "           Conv2d-25          [-1, 256, 16, 16]         294,912\n",
            "      BatchNorm2d-26          [-1, 256, 16, 16]             512\n",
            "           Conv2d-27          [-1, 256, 16, 16]         589,824\n",
            "      BatchNorm2d-28          [-1, 256, 16, 16]             512\n",
            "           Conv2d-29          [-1, 256, 16, 16]          32,768\n",
            "      BatchNorm2d-30          [-1, 256, 16, 16]             512\n",
            "       BasicBlock-31          [-1, 256, 16, 16]               0\n",
            "           Conv2d-32          [-1, 256, 16, 16]         589,824\n",
            "      BatchNorm2d-33          [-1, 256, 16, 16]             512\n",
            "           Conv2d-34          [-1, 256, 16, 16]         589,824\n",
            "      BatchNorm2d-35          [-1, 256, 16, 16]             512\n",
            "       BasicBlock-36          [-1, 256, 16, 16]               0\n",
            "           Conv2d-37            [-1, 512, 8, 8]       1,179,648\n",
            "      BatchNorm2d-38            [-1, 512, 8, 8]           1,024\n",
            "           Conv2d-39            [-1, 512, 8, 8]       2,359,296\n",
            "      BatchNorm2d-40            [-1, 512, 8, 8]           1,024\n",
            "           Conv2d-41            [-1, 512, 8, 8]         131,072\n",
            "      BatchNorm2d-42            [-1, 512, 8, 8]           1,024\n",
            "       BasicBlock-43            [-1, 512, 8, 8]               0\n",
            "           Conv2d-44            [-1, 512, 8, 8]       2,359,296\n",
            "      BatchNorm2d-45            [-1, 512, 8, 8]           1,024\n",
            "           Conv2d-46            [-1, 512, 8, 8]       2,359,296\n",
            "      BatchNorm2d-47            [-1, 512, 8, 8]           1,024\n",
            "       BasicBlock-48            [-1, 512, 8, 8]               0\n",
            "AdaptiveAvgPool2d-49            [-1, 512, 1, 1]               0\n",
            "           Linear-50                  [-1, 200]         102,600\n",
            "================================================================\n",
            "Total params: 11,271,432\n",
            "Trainable params: 11,271,432\n",
            "Non-trainable params: 0\n",
            "----------------------------------------------------------------\n",
            "Input size (MB): 0.05\n",
            "Forward/backward pass size (MB): 45.01\n",
            "Params size (MB): 43.00\n",
            "Estimated Total Size (MB): 88.05\n",
            "----------------------------------------------------------------\n"
          ],
          "name": "stdout"
        }
      ]
    },
    {
      "cell_type": "code",
      "metadata": {
        "id": "v5IK6gcFtu5o",
        "colab_type": "code",
        "outputId": "453e548f-6be3-40ac-ff56-37c2a09e23af",
        "colab": {
          "base_uri": "https://localhost:8080/",
          "height": 383,
          "referenced_widgets": [
            "d19a1fea147347b48e70bfb5f0c13610",
            "eab129f86ddc4c3fa33230dbd61ba647",
            "3810d69dc9c842c795f4d0032bafeb86",
            "f70844f8fb6c4808aa07477b57da594f",
            "df3c136da78942b18b74627c26bb898d",
            "7717c96fd26c43ba83d9ff3e8acdae5b",
            "adcffa29718041b3b7027e6ec6497372",
            "57505b92177445f89c7b8be359b73211"
          ]
        }
      },
      "source": [
        "from lr_finder import LRFinder\n",
        "\n",
        "import torch.optim as optim\n",
        "import torch.nn as nn\n",
        "from torch.optim.lr_scheduler import OneCycleLR\n",
        "from torch.optim.lr_scheduler import StepLR\n",
        "\n",
        "\n",
        "EPOCHS = 24\n",
        "l2_loss = 0.0001\n",
        "l1_lambda = 0\n",
        "criterion = nn.CrossEntropyLoss()\n",
        "\n",
        "#Optimizer\n",
        "optimizer = optim.SGD(model.parameters(), lr=1e-7, momentum=0.9, weight_decay=l2_loss)\n",
        "\n",
        "#LR Finder\n",
        "lr_finder = LRFinder(model, optimizer, criterion, device=model.device)\n",
        "lr_finder.range_test(trainloader, end_lr=100, num_iter=100)\n",
        "lr_finder.plot() # to inspect the loss-learning rate graph\n",
        "lr_finder.reset()"
      ],
      "execution_count": 0,
      "outputs": [
        {
          "output_type": "stream",
          "text": [
            "WARNING:lr_finder:To enable mixed precision training, please install `apex`. Or you can re-install this package by the following command:\n",
            "  pip install torch-lr-finder -v --global-option=\"amp\"\n"
          ],
          "name": "stderr"
        },
        {
          "output_type": "display_data",
          "data": {
            "application/vnd.jupyter.widget-view+json": {
              "model_id": "d19a1fea147347b48e70bfb5f0c13610",
              "version_minor": 0,
              "version_major": 2
            },
            "text/plain": [
              "HBox(children=(IntProgress(value=0), HTML(value='')))"
            ]
          },
          "metadata": {
            "tags": []
          }
        },
        {
          "output_type": "stream",
          "text": [
            "\n",
            "Learning rate search finished. See the graph with {finder_name}.plot()\n"
          ],
          "name": "stdout"
        },
        {
          "output_type": "display_data",
          "data": {
            "image/png": "[encoded data removed]",
            "text/plain": [
              "<Figure size 432x288 with 1 Axes>"
            ]
          },
          "metadata": {
            "tags": [],
            "needs_background": "light"
          }
        }
      ]
    },
    {
      "cell_type": "code",
      "metadata": {
        "id": "jyl8iNQ-uS8e",
        "colab_type": "code",
        "outputId": "524e9b97-e8d7-481b-f805-04bab7ba451a",
        "colab": {
          "base_uri": "https://localhost:8080/",
          "height": 68
        }
      },
      "source": [
        "loss = lr_finder.history['loss']\n",
        "lr = lr_finder.history['lr']\n",
        "print(min(loss))\n",
        "print(lr[loss.index(min(loss))])\n",
        "print(int(len(train_data)))"
      ],
      "execution_count": 0,
      "outputs": [
        {
          "output_type": "stream",
          "text": [
            "5.30271266521582\n",
            "0.19952623149688775\n",
            "77000\n"
          ],
          "name": "stdout"
        }
      ]
    },
    {
      "cell_type": "code",
      "metadata": {
        "id": "1PUz6oC5OxHv",
        "colab_type": "code",
        "outputId": "0ede84e1-1ea8-4ba4-c80e-32b76317d740",
        "colab": {
          "base_uri": "https://localhost:8080/",
          "height": 1000
        }
      },
      "source": [
        "\n",
        "\n",
        "import torch.optim as optim\n",
        "import torch.nn as nn\n",
        "from torch.optim.lr_scheduler import OneCycleLR\n",
        "from torch.optim.lr_scheduler import StepLR\n",
        "from eval import ModelTrainer\n",
        "from torch.optim.lr_scheduler import ReduceLROnPlateau\n",
        "\n",
        "EPOCHS = 50\n",
        "l2_loss = 0.0001\n",
        "l1_lambda = 0\n",
        "criterion = nn.CrossEntropyLoss()\n",
        "\n",
        "import one_cycle as OneCycle\n",
        "\n",
        "\n",
        "onecycle = OneCycle.OneCycle(int(len(train_data) * EPOCHS / 256), max_lr=2e-1, momentum_vals=(0.95, 0.8))\n",
        "\n",
        "optimizer = optim.SGD(model.parameters(), lr=1e-4, momentum=0.95, weight_decay=1e-4)\n",
        "\n",
        "schedular = None\n",
        "model.evaluate(optimizer, trainloader, testloader, EPOCHS, criterion, onecycle, schedular, False, l1_lambda)"
      ],
      "execution_count": 0,
      "outputs": [
        {
          "output_type": "stream",
          "text": [
            "Epoch= 0 Loss=4.208703994750977 Batch_id=300 Accuracy=10.50: 100%|██████████| 301/301 [06:07<00:00,  1.22s/it]\n",
            "100%|██████████| 129/129 [00:24<00:00,  5.33it/s]\n",
            "  0%|          | 0/301 [00:00<?, ?it/s]"
          ],
          "name": "stderr"
        },
        {
          "output_type": "stream",
          "text": [
            "Epoch 0, Train Accuracy: 10.5 , Test Accuracy: 9.754545454545454\n"
          ],
          "name": "stdout"
        },
        {
          "output_type": "stream",
          "text": [
            "Epoch= 1 Loss=3.7539074420928955 Batch_id=300 Accuracy=19.00: 100%|██████████| 301/301 [06:07<00:00,  1.22s/it]\n",
            "100%|██████████| 129/129 [00:24<00:00,  5.36it/s]\n",
            "  0%|          | 0/301 [00:00<?, ?it/s]"
          ],
          "name": "stderr"
        },
        {
          "output_type": "stream",
          "text": [
            "Epoch 1, Train Accuracy: 19.0 , Test Accuracy: 16.28181818181818\n"
          ],
          "name": "stdout"
        },
        {
          "output_type": "stream",
          "text": [
            "Epoch= 2 Loss=3.775888442993164 Batch_id=300 Accuracy=20.00: 100%|██████████| 301/301 [06:04<00:00,  1.21s/it]\n",
            "100%|██████████| 129/129 [00:24<00:00,  5.33it/s]\n",
            "  0%|          | 0/301 [00:00<?, ?it/s]"
          ],
          "name": "stderr"
        },
        {
          "output_type": "stream",
          "text": [
            "Epoch 2, Train Accuracy: 20.0 , Test Accuracy: 22.503030303030304\n"
          ],
          "name": "stdout"
        },
        {
          "output_type": "stream",
          "text": [
            "Epoch= 3 Loss=3.201502799987793 Batch_id=300 Accuracy=31.00: 100%|██████████| 301/301 [06:03<00:00,  1.21s/it]\n",
            "100%|██████████| 129/129 [00:24<00:00,  5.33it/s]\n",
            "  0%|          | 0/301 [00:00<?, ?it/s]"
          ],
          "name": "stderr"
        },
        {
          "output_type": "stream",
          "text": [
            "Epoch 3, Train Accuracy: 31.0 , Test Accuracy: 26.545454545454547\n"
          ],
          "name": "stdout"
        },
        {
          "output_type": "stream",
          "text": [
            "Epoch= 4 Loss=2.8884503841400146 Batch_id=300 Accuracy=38.50: 100%|██████████| 301/301 [06:03<00:00,  1.21s/it]\n",
            "100%|██████████| 129/129 [00:24<00:00,  5.35it/s]\n",
            "  0%|          | 0/301 [00:00<?, ?it/s]"
          ],
          "name": "stderr"
        },
        {
          "output_type": "stream",
          "text": [
            "Epoch 4, Train Accuracy: 38.5 , Test Accuracy: 28.306060606060605\n"
          ],
          "name": "stdout"
        },
        {
          "output_type": "stream",
          "text": [
            "Epoch= 5 Loss=2.6185944080352783 Batch_id=300 Accuracy=42.50: 100%|██████████| 301/301 [06:03<00:00,  1.21s/it]\n",
            "100%|██████████| 129/129 [00:24<00:00,  5.34it/s]\n",
            "  0%|          | 0/301 [00:00<?, ?it/s]"
          ],
          "name": "stderr"
        },
        {
          "output_type": "stream",
          "text": [
            "Epoch 5, Train Accuracy: 42.5 , Test Accuracy: 31.23030303030303\n"
          ],
          "name": "stdout"
        },
        {
          "output_type": "stream",
          "text": [
            "Epoch= 6 Loss=2.8251116275787354 Batch_id=300 Accuracy=43.00: 100%|██████████| 301/301 [06:03<00:00,  1.21s/it]\n",
            "100%|██████████| 129/129 [00:24<00:00,  5.33it/s]\n",
            "  0%|          | 0/301 [00:00<?, ?it/s]"
          ],
          "name": "stderr"
        },
        {
          "output_type": "stream",
          "text": [
            "Epoch 6, Train Accuracy: 43.0 , Test Accuracy: 33.666666666666664\n"
          ],
          "name": "stdout"
        },
        {
          "output_type": "stream",
          "text": [
            "Epoch= 7 Loss=2.397684097290039 Batch_id=300 Accuracy=51.00: 100%|██████████| 301/301 [06:05<00:00,  1.21s/it]\n",
            "100%|██████████| 129/129 [00:24<00:00,  5.31it/s]\n",
            "  0%|          | 0/301 [00:00<?, ?it/s]"
          ],
          "name": "stderr"
        },
        {
          "output_type": "stream",
          "text": [
            "Epoch 7, Train Accuracy: 51.0 , Test Accuracy: 34.99090909090909\n"
          ],
          "name": "stdout"
        },
        {
          "output_type": "stream",
          "text": [
            "Epoch= 8 Loss=2.0463786125183105 Batch_id=300 Accuracy=58.50: 100%|██████████| 301/301 [06:05<00:00,  1.22s/it]\n",
            "100%|██████████| 129/129 [00:24<00:00,  5.35it/s]\n",
            "  0%|          | 0/301 [00:00<?, ?it/s]"
          ],
          "name": "stderr"
        },
        {
          "output_type": "stream",
          "text": [
            "Epoch 8, Train Accuracy: 58.5 , Test Accuracy: 36.19090909090909\n"
          ],
          "name": "stdout"
        },
        {
          "output_type": "stream",
          "text": [
            "Epoch= 9 Loss=1.990657925605774 Batch_id=300 Accuracy=60.50: 100%|██████████| 301/301 [06:05<00:00,  1.22s/it]\n",
            "100%|██████████| 129/129 [00:24<00:00,  5.31it/s]\n",
            "  0%|          | 0/301 [00:00<?, ?it/s]"
          ],
          "name": "stderr"
        },
        {
          "output_type": "stream",
          "text": [
            "Epoch 9, Train Accuracy: 60.5 , Test Accuracy: 38.85151515151515\n"
          ],
          "name": "stdout"
        },
        {
          "output_type": "stream",
          "text": [
            "Epoch= 10 Loss=2.107937812805176 Batch_id=300 Accuracy=60.00: 100%|██████████| 301/301 [06:06<00:00,  1.22s/it]\n",
            "100%|██████████| 129/129 [00:24<00:00,  5.34it/s]\n",
            "  0%|          | 0/301 [00:00<?, ?it/s]"
          ],
          "name": "stderr"
        },
        {
          "output_type": "stream",
          "text": [
            "Epoch 10, Train Accuracy: 60.0 , Test Accuracy: 38.25454545454546\n"
          ],
          "name": "stdout"
        },
        {
          "output_type": "stream",
          "text": [
            "Epoch= 11 Loss=2.0164191722869873 Batch_id=300 Accuracy=63.00: 100%|██████████| 301/301 [06:05<00:00,  1.21s/it]\n",
            "100%|██████████| 129/129 [00:24<00:00,  5.33it/s]\n",
            "  0%|          | 0/301 [00:00<?, ?it/s]"
          ],
          "name": "stderr"
        },
        {
          "output_type": "stream",
          "text": [
            "Epoch 11, Train Accuracy: 63.0 , Test Accuracy: 38.903030303030306\n"
          ],
          "name": "stdout"
        },
        {
          "output_type": "stream",
          "text": [
            "Epoch= 12 Loss=1.6069655418395996 Batch_id=300 Accuracy=77.00: 100%|██████████| 301/301 [06:06<00:00,  1.22s/it]\n",
            "100%|██████████| 129/129 [00:24<00:00,  5.32it/s]\n",
            "  0%|          | 0/301 [00:00<?, ?it/s]"
          ],
          "name": "stderr"
        },
        {
          "output_type": "stream",
          "text": [
            "Epoch 12, Train Accuracy: 77.0 , Test Accuracy: 38.36666666666667\n"
          ],
          "name": "stdout"
        },
        {
          "output_type": "stream",
          "text": [
            "Epoch= 13 Loss=1.5910648107528687 Batch_id=300 Accuracy=80.50: 100%|██████████| 301/301 [06:06<00:00,  1.22s/it]\n",
            "100%|██████████| 129/129 [00:24<00:00,  5.36it/s]\n",
            "  0%|          | 0/301 [00:00<?, ?it/s]"
          ],
          "name": "stderr"
        },
        {
          "output_type": "stream",
          "text": [
            "Epoch 13, Train Accuracy: 80.5 , Test Accuracy: 40.04242424242424\n"
          ],
          "name": "stdout"
        },
        {
          "output_type": "stream",
          "text": [
            "Epoch= 14 Loss=1.3385064601898193 Batch_id=300 Accuracy=86.00: 100%|██████████| 301/301 [06:05<00:00,  1.22s/it]\n",
            "100%|██████████| 129/129 [00:24<00:00,  5.34it/s]\n",
            "  0%|          | 0/301 [00:00<?, ?it/s]"
          ],
          "name": "stderr"
        },
        {
          "output_type": "stream",
          "text": [
            "Epoch 14, Train Accuracy: 86.0 , Test Accuracy: 37.660606060606064\n"
          ],
          "name": "stdout"
        },
        {
          "output_type": "stream",
          "text": [
            "Epoch= 15 Loss=1.3107179403305054 Batch_id=300 Accuracy=90.50: 100%|██████████| 301/301 [06:06<00:00,  1.22s/it]\n",
            "100%|██████████| 129/129 [00:24<00:00,  5.33it/s]\n",
            "  0%|          | 0/301 [00:00<?, ?it/s]"
          ],
          "name": "stderr"
        },
        {
          "output_type": "stream",
          "text": [
            "Epoch 15, Train Accuracy: 90.5 , Test Accuracy: 37.275757575757574\n"
          ],
          "name": "stdout"
        },
        {
          "output_type": "stream",
          "text": [
            "Epoch= 16 Loss=1.0414141416549683 Batch_id=300 Accuracy=93.50: 100%|██████████| 301/301 [06:06<00:00,  1.22s/it]\n",
            "100%|██████████| 129/129 [00:24<00:00,  5.30it/s]\n",
            "  0%|          | 0/301 [00:00<?, ?it/s]"
          ],
          "name": "stderr"
        },
        {
          "output_type": "stream",
          "text": [
            "Epoch 16, Train Accuracy: 93.5 , Test Accuracy: 37.64545454545455\n"
          ],
          "name": "stdout"
        },
        {
          "output_type": "stream",
          "text": [
            "Epoch= 17 Loss=0.8753108382225037 Batch_id=300 Accuracy=97.00: 100%|██████████| 301/301 [06:06<00:00,  1.22s/it]\n",
            "100%|██████████| 129/129 [00:24<00:00,  5.31it/s]\n",
            "  0%|          | 0/301 [00:00<?, ?it/s]"
          ],
          "name": "stderr"
        },
        {
          "output_type": "stream",
          "text": [
            "Epoch 17, Train Accuracy: 97.0 , Test Accuracy: 37.836363636363636\n"
          ],
          "name": "stdout"
        },
        {
          "output_type": "stream",
          "text": [
            "Epoch= 18 Loss=1.0442242622375488 Batch_id=300 Accuracy=95.50: 100%|██████████| 301/301 [06:05<00:00,  1.22s/it]\n",
            "100%|██████████| 129/129 [00:24<00:00,  5.35it/s]\n",
            "  0%|          | 0/301 [00:00<?, ?it/s]"
          ],
          "name": "stderr"
        },
        {
          "output_type": "stream",
          "text": [
            "Epoch 18, Train Accuracy: 95.5 , Test Accuracy: 36.88787878787879\n"
          ],
          "name": "stdout"
        },
        {
          "output_type": "stream",
          "text": [
            "Epoch= 19 Loss=0.8786163330078125 Batch_id=300 Accuracy=98.50: 100%|██████████| 301/301 [06:04<00:00,  1.21s/it]\n",
            "100%|██████████| 129/129 [00:24<00:00,  5.33it/s]\n",
            "  0%|          | 0/301 [00:00<?, ?it/s]"
          ],
          "name": "stderr"
        },
        {
          "output_type": "stream",
          "text": [
            "Epoch 19, Train Accuracy: 98.5 , Test Accuracy: 37.236363636363635\n"
          ],
          "name": "stdout"
        },
        {
          "output_type": "stream",
          "text": [
            "Epoch= 20 Loss=0.786658525466919 Batch_id=300 Accuracy=99.00: 100%|██████████| 301/301 [06:05<00:00,  1.21s/it]\n",
            "100%|██████████| 129/129 [00:24<00:00,  5.33it/s]\n",
            "  0%|          | 0/301 [00:00<?, ?it/s]"
          ],
          "name": "stderr"
        },
        {
          "output_type": "stream",
          "text": [
            "Epoch 20, Train Accuracy: 99.0 , Test Accuracy: 37.75151515151515\n"
          ],
          "name": "stdout"
        },
        {
          "output_type": "stream",
          "text": [
            "Epoch= 21 Loss=0.6847179532051086 Batch_id=300 Accuracy=99.50: 100%|██████████| 301/301 [06:05<00:00,  1.21s/it]\n",
            "100%|██████████| 129/129 [00:24<00:00,  5.33it/s]\n",
            "  0%|          | 0/301 [00:00<?, ?it/s]"
          ],
          "name": "stderr"
        },
        {
          "output_type": "stream",
          "text": [
            "Epoch 21, Train Accuracy: 99.5 , Test Accuracy: 38.23939393939394\n"
          ],
          "name": "stdout"
        },
        {
          "output_type": "stream",
          "text": [
            "Epoch= 22 Loss=0.6814115643501282 Batch_id=300 Accuracy=100.00: 100%|██████████| 301/301 [06:06<00:00,  1.22s/it]\n",
            "100%|██████████| 129/129 [00:24<00:00,  5.33it/s]\n",
            "  0%|          | 0/301 [00:00<?, ?it/s]"
          ],
          "name": "stderr"
        },
        {
          "output_type": "stream",
          "text": [
            "Epoch 22, Train Accuracy: 100.0 , Test Accuracy: 36.557575757575755\n"
          ],
          "name": "stdout"
        },
        {
          "output_type": "stream",
          "text": [
            "Epoch= 23 Loss=0.6166083216667175 Batch_id=300 Accuracy=100.00: 100%|██████████| 301/301 [06:06<00:00,  1.22s/it]\n",
            "100%|██████████| 129/129 [00:24<00:00,  5.35it/s]\n",
            "  0%|          | 0/301 [00:00<?, ?it/s]"
          ],
          "name": "stderr"
        },
        {
          "output_type": "stream",
          "text": [
            "Epoch 23, Train Accuracy: 100.0 , Test Accuracy: 37.693939393939395\n"
          ],
          "name": "stdout"
        },
        {
          "output_type": "stream",
          "text": [
            "Epoch= 24 Loss=0.5137684345245361 Batch_id=300 Accuracy=100.00: 100%|██████████| 301/301 [06:06<00:00,  1.22s/it]\n",
            "100%|██████████| 129/129 [00:24<00:00,  5.32it/s]\n",
            "  0%|          | 0/301 [00:00<?, ?it/s]"
          ],
          "name": "stderr"
        },
        {
          "output_type": "stream",
          "text": [
            "Epoch 24, Train Accuracy: 100.0 , Test Accuracy: 37.90909090909091\n"
          ],
          "name": "stdout"
        },
        {
          "output_type": "stream",
          "text": [
            "Epoch= 25 Loss=0.4203120768070221 Batch_id=300 Accuracy=100.00: 100%|██████████| 301/301 [06:06<00:00,  1.22s/it]\n",
            "100%|██████████| 129/129 [00:24<00:00,  5.34it/s]\n",
            "  0%|          | 0/301 [00:00<?, ?it/s]"
          ],
          "name": "stderr"
        },
        {
          "output_type": "stream",
          "text": [
            "Epoch 25, Train Accuracy: 100.0 , Test Accuracy: 37.85151515151515\n"
          ],
          "name": "stdout"
        },
        {
          "output_type": "stream",
          "text": [
            "Epoch= 26 Loss=0.35141316056251526 Batch_id=300 Accuracy=100.00: 100%|██████████| 301/301 [06:06<00:00,  1.22s/it]\n",
            "100%|██████████| 129/129 [00:24<00:00,  5.28it/s]\n",
            "  0%|          | 0/301 [00:00<?, ?it/s]"
          ],
          "name": "stderr"
        },
        {
          "output_type": "stream",
          "text": [
            "Epoch 26, Train Accuracy: 100.0 , Test Accuracy: 38.43030303030303\n"
          ],
          "name": "stdout"
        },
        {
          "output_type": "stream",
          "text": [
            "Epoch= 27 Loss=0.26172077655792236 Batch_id=300 Accuracy=100.00: 100%|██████████| 301/301 [06:06<00:00,  1.22s/it]\n",
            "100%|██████████| 129/129 [00:24<00:00,  5.31it/s]\n",
            "  0%|          | 0/301 [00:00<?, ?it/s]"
          ],
          "name": "stderr"
        },
        {
          "output_type": "stream",
          "text": [
            "Epoch 27, Train Accuracy: 100.0 , Test Accuracy: 38.57272727272727\n"
          ],
          "name": "stdout"
        },
        {
          "output_type": "stream",
          "text": [
            "Epoch= 28 Loss=0.28231480717658997 Batch_id=300 Accuracy=100.00: 100%|██████████| 301/301 [06:06<00:00,  1.22s/it]\n",
            "100%|██████████| 129/129 [00:24<00:00,  5.30it/s]\n",
            "  0%|          | 0/301 [00:00<?, ?it/s]"
          ],
          "name": "stderr"
        },
        {
          "output_type": "stream",
          "text": [
            "Epoch 28, Train Accuracy: 100.0 , Test Accuracy: 37.60606060606061\n"
          ],
          "name": "stdout"
        },
        {
          "output_type": "stream",
          "text": [
            "Epoch= 29 Loss=0.2721003592014313 Batch_id=300 Accuracy=100.00: 100%|██████████| 301/301 [06:06<00:00,  1.22s/it]\n",
            "100%|██████████| 129/129 [00:24<00:00,  5.31it/s]\n",
            "  0%|          | 0/301 [00:00<?, ?it/s]"
          ],
          "name": "stderr"
        },
        {
          "output_type": "stream",
          "text": [
            "Epoch 29, Train Accuracy: 100.0 , Test Accuracy: 39.36060606060606\n"
          ],
          "name": "stdout"
        },
        {
          "output_type": "stream",
          "text": [
            "Epoch= 30 Loss=0.21409156918525696 Batch_id=300 Accuracy=100.00: 100%|██████████| 301/301 [06:06<00:00,  1.22s/it]\n",
            "100%|██████████| 129/129 [00:24<00:00,  5.32it/s]\n",
            "  0%|          | 0/301 [00:00<?, ?it/s]"
          ],
          "name": "stderr"
        },
        {
          "output_type": "stream",
          "text": [
            "Epoch 30, Train Accuracy: 100.0 , Test Accuracy: 39.36363636363637\n"
          ],
          "name": "stdout"
        },
        {
          "output_type": "stream",
          "text": [
            "Epoch= 31 Loss=0.16488885879516602 Batch_id=300 Accuracy=100.00: 100%|██████████| 301/301 [06:06<00:00,  1.22s/it]\n",
            "100%|██████████| 129/129 [00:24<00:00,  5.29it/s]\n",
            "  0%|          | 0/301 [00:00<?, ?it/s]"
          ],
          "name": "stderr"
        },
        {
          "output_type": "stream",
          "text": [
            "Epoch 31, Train Accuracy: 100.0 , Test Accuracy: 39.08181818181818\n"
          ],
          "name": "stdout"
        },
        {
          "output_type": "stream",
          "text": [
            "Epoch= 32 Loss=0.13904058933258057 Batch_id=300 Accuracy=100.00: 100%|██████████| 301/301 [06:06<00:00,  1.22s/it]\n",
            "100%|██████████| 129/129 [00:24<00:00,  5.31it/s]\n",
            "  0%|          | 0/301 [00:00<?, ?it/s]"
          ],
          "name": "stderr"
        },
        {
          "output_type": "stream",
          "text": [
            "Epoch 32, Train Accuracy: 100.0 , Test Accuracy: 40.28484848484848\n"
          ],
          "name": "stdout"
        },
        {
          "output_type": "stream",
          "text": [
            "Epoch= 33 Loss=0.13641884922981262 Batch_id=300 Accuracy=100.00: 100%|██████████| 301/301 [06:06<00:00,  1.22s/it]\n",
            "100%|██████████| 129/129 [00:24<00:00,  5.29it/s]\n",
            "  0%|          | 0/301 [00:00<?, ?it/s]"
          ],
          "name": "stderr"
        },
        {
          "output_type": "stream",
          "text": [
            "Epoch 33, Train Accuracy: 100.0 , Test Accuracy: 40.5\n"
          ],
          "name": "stdout"
        },
        {
          "output_type": "stream",
          "text": [
            "Epoch= 34 Loss=0.11166994273662567 Batch_id=300 Accuracy=100.00: 100%|██████████| 301/301 [06:06<00:00,  1.22s/it]\n",
            "100%|██████████| 129/129 [00:24<00:00,  5.31it/s]\n",
            "  0%|          | 0/301 [00:00<?, ?it/s]"
          ],
          "name": "stderr"
        },
        {
          "output_type": "stream",
          "text": [
            "Epoch 34, Train Accuracy: 100.0 , Test Accuracy: 40.875757575757575\n"
          ],
          "name": "stdout"
        },
        {
          "output_type": "stream",
          "text": [
            "Epoch= 35 Loss=0.03578546643257141 Batch_id=300 Accuracy=100.00: 100%|██████████| 301/301 [06:06<00:00,  1.22s/it]\n",
            "100%|██████████| 129/129 [00:24<00:00,  5.35it/s]\n",
            "  0%|          | 0/301 [00:00<?, ?it/s]"
          ],
          "name": "stderr"
        },
        {
          "output_type": "stream",
          "text": [
            "Epoch 35, Train Accuracy: 100.0 , Test Accuracy: 41.49393939393939\n"
          ],
          "name": "stdout"
        },
        {
          "output_type": "stream",
          "text": [
            "Epoch= 36 Loss=0.08502230048179626 Batch_id=300 Accuracy=100.00: 100%|██████████| 301/301 [06:06<00:00,  1.22s/it]\n",
            "100%|██████████| 129/129 [00:24<00:00,  5.28it/s]\n",
            "  0%|          | 0/301 [00:00<?, ?it/s]"
          ],
          "name": "stderr"
        },
        {
          "output_type": "stream",
          "text": [
            "Epoch 36, Train Accuracy: 100.0 , Test Accuracy: 41.842424242424244\n"
          ],
          "name": "stdout"
        },
        {
          "output_type": "stream",
          "text": [
            "Epoch= 37 Loss=0.023298678919672966 Batch_id=300 Accuracy=100.00: 100%|██████████| 301/301 [06:07<00:00,  1.22s/it]\n",
            "100%|██████████| 129/129 [00:24<00:00,  5.32it/s]\n",
            "  0%|          | 0/301 [00:00<?, ?it/s]"
          ],
          "name": "stderr"
        },
        {
          "output_type": "stream",
          "text": [
            "Epoch 37, Train Accuracy: 100.0 , Test Accuracy: 42.39393939393939\n"
          ],
          "name": "stdout"
        },
        {
          "output_type": "stream",
          "text": [
            "Epoch= 38 Loss=0.04266364499926567 Batch_id=300 Accuracy=100.00: 100%|██████████| 301/301 [06:04<00:00,  1.21s/it]\n",
            "100%|██████████| 129/129 [00:24<00:00,  5.34it/s]\n",
            "  0%|          | 0/301 [00:00<?, ?it/s]"
          ],
          "name": "stderr"
        },
        {
          "output_type": "stream",
          "text": [
            "Epoch 38, Train Accuracy: 100.0 , Test Accuracy: 43.096969696969694\n"
          ],
          "name": "stdout"
        },
        {
          "output_type": "stream",
          "text": [
            "Epoch= 39 Loss=0.01899811439216137 Batch_id=300 Accuracy=100.00: 100%|██████████| 301/301 [06:04<00:00,  1.21s/it]\n",
            "100%|██████████| 129/129 [00:24<00:00,  5.32it/s]\n",
            "  0%|          | 0/301 [00:00<?, ?it/s]"
          ],
          "name": "stderr"
        },
        {
          "output_type": "stream",
          "text": [
            "Epoch 39, Train Accuracy: 100.0 , Test Accuracy: 43.415151515151514\n"
          ],
          "name": "stdout"
        },
        {
          "output_type": "stream",
          "text": [
            "Epoch= 40 Loss=0.013919468969106674 Batch_id=300 Accuracy=100.00: 100%|██████████| 301/301 [06:04<00:00,  1.21s/it]\n",
            "100%|██████████| 129/129 [00:24<00:00,  5.32it/s]\n",
            "  0%|          | 0/301 [00:00<?, ?it/s]"
          ],
          "name": "stderr"
        },
        {
          "output_type": "stream",
          "text": [
            "Epoch 40, Train Accuracy: 100.0 , Test Accuracy: 43.6030303030303\n"
          ],
          "name": "stdout"
        },
        {
          "output_type": "stream",
          "text": [
            "Epoch= 41 Loss=0.050027113407850266 Batch_id=300 Accuracy=99.00: 100%|██████████| 301/301 [06:03<00:00,  1.21s/it]\n",
            "100%|██████████| 129/129 [00:24<00:00,  5.33it/s]\n",
            "  0%|          | 0/301 [00:00<?, ?it/s]"
          ],
          "name": "stderr"
        },
        {
          "output_type": "stream",
          "text": [
            "Epoch 41, Train Accuracy: 99.0 , Test Accuracy: 44.14242424242424\n"
          ],
          "name": "stdout"
        },
        {
          "output_type": "stream",
          "text": [
            "Epoch= 42 Loss=0.0042365496046841145 Batch_id=300 Accuracy=100.00: 100%|██████████| 301/301 [06:04<00:00,  1.21s/it]\n",
            "100%|██████████| 129/129 [00:24<00:00,  5.32it/s]\n",
            "  0%|          | 0/301 [00:00<?, ?it/s]"
          ],
          "name": "stderr"
        },
        {
          "output_type": "stream",
          "text": [
            "Epoch 42, Train Accuracy: 100.0 , Test Accuracy: 44.32727272727273\n"
          ],
          "name": "stdout"
        },
        {
          "output_type": "stream",
          "text": [
            "Epoch= 43 Loss=0.020160436630249023 Batch_id=300 Accuracy=99.50: 100%|██████████| 301/301 [06:04<00:00,  1.21s/it]\n",
            "100%|██████████| 129/129 [00:24<00:00,  5.33it/s]\n",
            "  0%|          | 0/301 [00:00<?, ?it/s]"
          ],
          "name": "stderr"
        },
        {
          "output_type": "stream",
          "text": [
            "Epoch 43, Train Accuracy: 99.5 , Test Accuracy: 44.22727272727273\n"
          ],
          "name": "stdout"
        },
        {
          "output_type": "stream",
          "text": [
            "Epoch= 44 Loss=0.004508156795054674 Batch_id=300 Accuracy=100.00: 100%|██████████| 301/301 [06:04<00:00,  1.21s/it]\n",
            "100%|██████████| 129/129 [00:24<00:00,  5.31it/s]\n",
            "  0%|          | 0/301 [00:00<?, ?it/s]"
          ],
          "name": "stderr"
        },
        {
          "output_type": "stream",
          "text": [
            "Epoch 44, Train Accuracy: 100.0 , Test Accuracy: 44.345454545454544\n"
          ],
          "name": "stdout"
        },
        {
          "output_type": "stream",
          "text": [
            "Epoch= 45 Loss=0.004391193389892578 Batch_id=300 Accuracy=100.00: 100%|██████████| 301/301 [06:04<00:00,  1.21s/it]\n",
            "100%|██████████| 129/129 [00:24<00:00,  5.37it/s]\n",
            "  0%|          | 0/301 [00:00<?, ?it/s]"
          ],
          "name": "stderr"
        },
        {
          "output_type": "stream",
          "text": [
            "Epoch 45, Train Accuracy: 100.0 , Test Accuracy: 44.29090909090909\n"
          ],
          "name": "stdout"
        },
        {
          "output_type": "stream",
          "text": [
            "Epoch= 46 Loss=0.005034600384533405 Batch_id=300 Accuracy=100.00: 100%|██████████| 301/301 [06:03<00:00,  1.21s/it]\n",
            "100%|██████████| 129/129 [00:24<00:00,  5.32it/s]\n",
            "  0%|          | 0/301 [00:00<?, ?it/s]"
          ],
          "name": "stderr"
        },
        {
          "output_type": "stream",
          "text": [
            "Epoch 46, Train Accuracy: 100.0 , Test Accuracy: 44.53030303030303\n"
          ],
          "name": "stdout"
        },
        {
          "output_type": "stream",
          "text": [
            "Epoch= 47 Loss=0.004899476654827595 Batch_id=300 Accuracy=100.00: 100%|██████████| 301/301 [06:04<00:00,  1.21s/it]\n",
            "100%|██████████| 129/129 [00:24<00:00,  5.32it/s]\n",
            "  0%|          | 0/301 [00:00<?, ?it/s]"
          ],
          "name": "stderr"
        },
        {
          "output_type": "stream",
          "text": [
            "Epoch 47, Train Accuracy: 100.0 , Test Accuracy: 44.54545454545455\n"
          ],
          "name": "stdout"
        },
        {
          "output_type": "stream",
          "text": [
            "Epoch= 48 Loss=0.005264171399176121 Batch_id=300 Accuracy=100.00: 100%|██████████| 301/301 [06:06<00:00,  1.22s/it]\n",
            "100%|██████████| 129/129 [00:24<00:00,  5.35it/s]\n",
            "  0%|          | 0/301 [00:00<?, ?it/s]"
          ],
          "name": "stderr"
        },
        {
          "output_type": "stream",
          "text": [
            "Epoch 48, Train Accuracy: 100.0 , Test Accuracy: 44.53030303030303\n"
          ],
          "name": "stdout"
        },
        {
          "output_type": "stream",
          "text": [
            "Epoch= 49 Loss=0.00418853759765625 Batch_id=300 Accuracy=100.00: 100%|██████████| 301/301 [06:06<00:00,  1.22s/it]\n",
            " 80%|███████▉  | 103/129 [00:19<00:04,  5.34it/s]"
          ],
          "name": "stderr"
        }
      ]
    }
  ]
}