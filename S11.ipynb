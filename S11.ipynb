{
  "nbformat": 4,
  "nbformat_minor": 0,
  "metadata": {
    "colab": {
      "name": "S11.ipynb",
      "provenance": [],
      "collapsed_sections": [],
      "authorship_tag": "ABX9TyNzgZqH3IV55I/AyP2J+lin",
      "include_colab_link": true
    },
    "kernelspec": {
      "name": "python3",
      "display_name": "Python 3"
    },
    "accelerator": "GPU"
  },
  "cells": [
    {
      "cell_type": "markdown",
      "metadata": {
        "id": "view-in-github",
        "colab_type": "text"
      },
      "source": [
        "<a href=\"https://colab.research.google.com/github/gmrammohan15/EVA4/blob/master/S11.ipynb\" target=\"_parent\"><img src=\"https://colab.research.google.com/assets/colab-badge.svg\" alt=\"Open In Colab\"/></a>"
      ]
    },
    {
      "cell_type": "code",
      "metadata": {
        "id": "eu8wev5O8kmj",
        "colab_type": "code",
        "colab": {
          "base_uri": "https://localhost:8080/",
          "height": 122
        },
        "outputId": "578cb644-c25e-4510-ea97-6dba2118cb36"
      },
      "source": [
        "\n",
        "from google.colab import drive\n",
        "drive.mount('/content/gdrive')"
      ],
      "execution_count": 1,
      "outputs": [
        {
          "output_type": "stream",
          "text": [
            "Go to this URL in a browser: https://accounts.google.com/o/oauth2/auth?client_id=947318989803-6bn6qk8qdgf4n4g3pfee6491hc0brc4i.apps.googleusercontent.com&redirect_uri=urn%3aietf%3awg%3aoauth%3a2.0%3aoob&response_type=code&scope=email%20https%3a%2f%2fwww.googleapis.com%2fauth%2fdocs.test%20https%3a%2f%2fwww.googleapis.com%2fauth%2fdrive%20https%3a%2f%2fwww.googleapis.com%2fauth%2fdrive.photos.readonly%20https%3a%2f%2fwww.googleapis.com%2fauth%2fpeopleapi.readonly\n",
            "\n",
            "Enter your authorization code:\n",
            "··········\n",
            "Mounted at /content/gdrive\n"
          ],
          "name": "stdout"
        }
      ]
    },
    {
      "cell_type": "code",
      "metadata": {
        "id": "6U9EQgGU83VH",
        "colab_type": "code",
        "colab": {
          "base_uri": "https://localhost:8080/",
          "height": 85
        },
        "outputId": "f42925b7-2aee-4afe-e954-fe346566728e"
      },
      "source": [
        "import sys\n",
        "sys.path.append('/content/gdrive/My Drive/S10-Assignment/')\n",
        "!ls /content/gdrive/My\\ Drive/S10-Assignment"
      ],
      "execution_count": 2,
      "outputs": [
        {
          "output_type": "stream",
          "text": [
            "data\t\t    grad_cam.py       Models\t\t\t utils.py\n",
            "dataloader.py\t    __init__.py       __pycache__\n",
            "data_transforms.py  lr_finder.py      README.md\n",
            "eval.py\t\t    misclassified.py  Transforms_Albumentations\n"
          ],
          "name": "stdout"
        }
      ]
    },
    {
      "cell_type": "code",
      "metadata": {
        "id": "2UvqTqZX86Qb",
        "colab_type": "code",
        "colab": {
          "base_uri": "https://localhost:8080/",
          "height": 34
        },
        "outputId": "3d07f8df-84bf-4f33-c2f9-872e0f9411d0"
      },
      "source": [
        "%cd /content/gdrive/My Drive/S10-Assignment/"
      ],
      "execution_count": 3,
      "outputs": [
        {
          "output_type": "stream",
          "text": [
            "/content/gdrive/My Drive/S10-Assignment\n"
          ],
          "name": "stdout"
        }
      ]
    },
    {
      "cell_type": "code",
      "metadata": {
        "id": "0ciVGJ-G89vm",
        "colab_type": "code",
        "colab": {
          "base_uri": "https://localhost:8080/",
          "height": 530
        },
        "outputId": "f5c18f3d-2bce-4a47-e7c7-6fa64590943a"
      },
      "source": [
        "import torch\n",
        "import torchvision\n",
        "import torchvision.transforms as transforms\n",
        "import matplotlib.pyplot as plt\n",
        "import numpy as np\n",
        "!pip install albumentations"
      ],
      "execution_count": 4,
      "outputs": [
        {
          "output_type": "stream",
          "text": [
            "Requirement already satisfied: albumentations in /usr/local/lib/python3.6/dist-packages (0.1.12)\n",
            "Requirement already satisfied: numpy>=1.11.1 in /usr/local/lib/python3.6/dist-packages (from albumentations) (1.18.2)\n",
            "Collecting imgaug<0.2.7,>=0.2.5\n",
            "\u001b[?25l  Downloading https://files.pythonhosted.org/packages/ad/2e/748dbb7bb52ec8667098bae9b585f448569ae520031932687761165419a2/imgaug-0.2.6.tar.gz (631kB)\n",
            "\r\u001b[K     |▌                               | 10kB 23.0MB/s eta 0:00:01\r\u001b[K     |█                               | 20kB 6.0MB/s eta 0:00:01\r\u001b[K     |█▋                              | 30kB 8.4MB/s eta 0:00:01\r\u001b[K     |██                              | 40kB 5.6MB/s eta 0:00:01\r\u001b[K     |██▋                             | 51kB 6.8MB/s eta 0:00:01\r\u001b[K     |███▏                            | 61kB 8.0MB/s eta 0:00:01\r\u001b[K     |███▋                            | 71kB 9.1MB/s eta 0:00:01\r\u001b[K     |████▏                           | 81kB 7.3MB/s eta 0:00:01\r\u001b[K     |████▊                           | 92kB 8.0MB/s eta 0:00:01\r\u001b[K     |█████▏                          | 102kB 8.8MB/s eta 0:00:01\r\u001b[K     |█████▊                          | 112kB 8.8MB/s eta 0:00:01\r\u001b[K     |██████▎                         | 122kB 8.8MB/s eta 0:00:01\r\u001b[K     |██████▊                         | 133kB 8.8MB/s eta 0:00:01\r\u001b[K     |███████▎                        | 143kB 8.8MB/s eta 0:00:01\r\u001b[K     |███████▉                        | 153kB 8.8MB/s eta 0:00:01\r\u001b[K     |████████▎                       | 163kB 8.8MB/s eta 0:00:01\r\u001b[K     |████████▉                       | 174kB 8.8MB/s eta 0:00:01\r\u001b[K     |█████████▍                      | 184kB 8.8MB/s eta 0:00:01\r\u001b[K     |█████████▉                      | 194kB 8.8MB/s eta 0:00:01\r\u001b[K     |██████████▍                     | 204kB 8.8MB/s eta 0:00:01\r\u001b[K     |███████████                     | 215kB 8.8MB/s eta 0:00:01\r\u001b[K     |███████████▍                    | 225kB 8.8MB/s eta 0:00:01\r\u001b[K     |████████████                    | 235kB 8.8MB/s eta 0:00:01\r\u001b[K     |████████████▌                   | 245kB 8.8MB/s eta 0:00:01\r\u001b[K     |█████████████                   | 256kB 8.8MB/s eta 0:00:01\r\u001b[K     |█████████████▌                  | 266kB 8.8MB/s eta 0:00:01\r\u001b[K     |██████████████                  | 276kB 8.8MB/s eta 0:00:01\r\u001b[K     |██████████████▌                 | 286kB 8.8MB/s eta 0:00:01\r\u001b[K     |███████████████                 | 296kB 8.8MB/s eta 0:00:01\r\u001b[K     |███████████████▋                | 307kB 8.8MB/s eta 0:00:01\r\u001b[K     |████████████████                | 317kB 8.8MB/s eta 0:00:01\r\u001b[K     |████████████████▋               | 327kB 8.8MB/s eta 0:00:01\r\u001b[K     |█████████████████▏              | 337kB 8.8MB/s eta 0:00:01\r\u001b[K     |█████████████████▋              | 348kB 8.8MB/s eta 0:00:01\r\u001b[K     |██████████████████▏             | 358kB 8.8MB/s eta 0:00:01\r\u001b[K     |██████████████████▊             | 368kB 8.8MB/s eta 0:00:01\r\u001b[K     |███████████████████▏            | 378kB 8.8MB/s eta 0:00:01\r\u001b[K     |███████████████████▊            | 389kB 8.8MB/s eta 0:00:01\r\u001b[K     |████████████████████▎           | 399kB 8.8MB/s eta 0:00:01\r\u001b[K     |████████████████████▊           | 409kB 8.8MB/s eta 0:00:01\r\u001b[K     |█████████████████████▎          | 419kB 8.8MB/s eta 0:00:01\r\u001b[K     |█████████████████████▉          | 430kB 8.8MB/s eta 0:00:01\r\u001b[K     |██████████████████████▎         | 440kB 8.8MB/s eta 0:00:01\r\u001b[K     |██████████████████████▉         | 450kB 8.8MB/s eta 0:00:01\r\u001b[K     |███████████████████████▍        | 460kB 8.8MB/s eta 0:00:01\r\u001b[K     |███████████████████████▉        | 471kB 8.8MB/s eta 0:00:01\r\u001b[K     |████████████████████████▍       | 481kB 8.8MB/s eta 0:00:01\r\u001b[K     |█████████████████████████       | 491kB 8.8MB/s eta 0:00:01\r\u001b[K     |█████████████████████████▍      | 501kB 8.8MB/s eta 0:00:01\r\u001b[K     |██████████████████████████      | 512kB 8.8MB/s eta 0:00:01\r\u001b[K     |██████████████████████████▌     | 522kB 8.8MB/s eta 0:00:01\r\u001b[K     |███████████████████████████     | 532kB 8.8MB/s eta 0:00:01\r\u001b[K     |███████████████████████████▌    | 542kB 8.8MB/s eta 0:00:01\r\u001b[K     |████████████████████████████    | 552kB 8.8MB/s eta 0:00:01\r\u001b[K     |████████████████████████████▌   | 563kB 8.8MB/s eta 0:00:01\r\u001b[K     |█████████████████████████████   | 573kB 8.8MB/s eta 0:00:01\r\u001b[K     |█████████████████████████████▋  | 583kB 8.8MB/s eta 0:00:01\r\u001b[K     |██████████████████████████████  | 593kB 8.8MB/s eta 0:00:01\r\u001b[K     |██████████████████████████████▋ | 604kB 8.8MB/s eta 0:00:01\r\u001b[K     |███████████████████████████████▏| 614kB 8.8MB/s eta 0:00:01\r\u001b[K     |███████████████████████████████▋| 624kB 8.8MB/s eta 0:00:01\r\u001b[K     |████████████████████████████████| 634kB 8.8MB/s \n",
            "\u001b[?25hRequirement already satisfied: opencv-python in /usr/local/lib/python3.6/dist-packages (from albumentations) (4.1.2.30)\n",
            "Requirement already satisfied: scipy in /usr/local/lib/python3.6/dist-packages (from albumentations) (1.4.1)\n",
            "Requirement already satisfied: scikit-image>=0.11.0 in /usr/local/lib/python3.6/dist-packages (from imgaug<0.2.7,>=0.2.5->albumentations) (0.16.2)\n",
            "Requirement already satisfied: six in /usr/local/lib/python3.6/dist-packages (from imgaug<0.2.7,>=0.2.5->albumentations) (1.12.0)\n",
            "Requirement already satisfied: imageio>=2.3.0 in /usr/local/lib/python3.6/dist-packages (from scikit-image>=0.11.0->imgaug<0.2.7,>=0.2.5->albumentations) (2.4.1)\n",
            "Requirement already satisfied: matplotlib!=3.0.0,>=2.0.0 in /usr/local/lib/python3.6/dist-packages (from scikit-image>=0.11.0->imgaug<0.2.7,>=0.2.5->albumentations) (3.2.1)\n",
            "Requirement already satisfied: networkx>=2.0 in /usr/local/lib/python3.6/dist-packages (from scikit-image>=0.11.0->imgaug<0.2.7,>=0.2.5->albumentations) (2.4)\n",
            "Requirement already satisfied: pillow>=4.3.0 in /usr/local/lib/python3.6/dist-packages (from scikit-image>=0.11.0->imgaug<0.2.7,>=0.2.5->albumentations) (7.0.0)\n",
            "Requirement already satisfied: PyWavelets>=0.4.0 in /usr/local/lib/python3.6/dist-packages (from scikit-image>=0.11.0->imgaug<0.2.7,>=0.2.5->albumentations) (1.1.1)\n",
            "Requirement already satisfied: cycler>=0.10 in /usr/local/lib/python3.6/dist-packages (from matplotlib!=3.0.0,>=2.0.0->scikit-image>=0.11.0->imgaug<0.2.7,>=0.2.5->albumentations) (0.10.0)\n",
            "Requirement already satisfied: pyparsing!=2.0.4,!=2.1.2,!=2.1.6,>=2.0.1 in /usr/local/lib/python3.6/dist-packages (from matplotlib!=3.0.0,>=2.0.0->scikit-image>=0.11.0->imgaug<0.2.7,>=0.2.5->albumentations) (2.4.6)\n",
            "Requirement already satisfied: kiwisolver>=1.0.1 in /usr/local/lib/python3.6/dist-packages (from matplotlib!=3.0.0,>=2.0.0->scikit-image>=0.11.0->imgaug<0.2.7,>=0.2.5->albumentations) (1.2.0)\n",
            "Requirement already satisfied: python-dateutil>=2.1 in /usr/local/lib/python3.6/dist-packages (from matplotlib!=3.0.0,>=2.0.0->scikit-image>=0.11.0->imgaug<0.2.7,>=0.2.5->albumentations) (2.8.1)\n",
            "Requirement already satisfied: decorator>=4.3.0 in /usr/local/lib/python3.6/dist-packages (from networkx>=2.0->scikit-image>=0.11.0->imgaug<0.2.7,>=0.2.5->albumentations) (4.4.2)\n",
            "Building wheels for collected packages: imgaug\n",
            "  Building wheel for imgaug (setup.py) ... \u001b[?25l\u001b[?25hdone\n",
            "  Created wheel for imgaug: filename=imgaug-0.2.6-cp36-none-any.whl size=654020 sha256=f0dfefb006c58972546ac11e68734683a905ea3ef4bce7dba0a091f08b5be83a\n",
            "  Stored in directory: /root/.cache/pip/wheels/97/ec/48/0d25896c417b715af6236dbcef8f0bed136a1a5e52972fc6d0\n",
            "Successfully built imgaug\n",
            "Installing collected packages: imgaug\n",
            "  Found existing installation: imgaug 0.2.9\n",
            "    Uninstalling imgaug-0.2.9:\n",
            "      Successfully uninstalled imgaug-0.2.9\n",
            "Successfully installed imgaug-0.2.6\n"
          ],
          "name": "stdout"
        }
      ]
    },
    {
      "cell_type": "code",
      "metadata": {
        "id": "4xW6sK1S9BCP",
        "colab_type": "code",
        "colab": {
          "base_uri": "https://localhost:8080/",
          "height": 51
        },
        "outputId": "9f8a23fd-122c-416d-f951-40909dec8424"
      },
      "source": [
        "from Transforms_Albumentations import transform\n",
        "\n",
        "import importlib\n",
        "importlib.reload(transform)\n",
        "\n",
        "#from transform  import Data\n",
        "data = transform.Data()\n",
        "\n",
        "trainset = data.getTrainDataSet(train=True)\n",
        "testset =  data.getTrainDataSet(train=False)\n",
        "trainloader = data.getDataLoader(trainset, 128)\n",
        "show_trainloader = data.getDataLoader(trainset, 4)\n",
        "testloader = data.getDataLoader(testset, 128)\n",
        "show_testloader = data.getDataLoader(testset, 4)\n",
        "\n",
        "classes = ('plane', 'car', 'bird', 'cat',\n",
        "           'deer', 'dog', 'frog', 'horse', 'ship', 'truck')"
      ],
      "execution_count": 5,
      "outputs": [
        {
          "output_type": "stream",
          "text": [
            "Files already downloaded and verified\n",
            "Files already downloaded and verified\n"
          ],
          "name": "stdout"
        }
      ]
    },
    {
      "cell_type": "code",
      "metadata": {
        "id": "niV2Qq_H9Ljq",
        "colab_type": "code",
        "colab": {}
      },
      "source": [
        "import torch.nn as nn\n",
        "import torch.nn.functional as F\n",
        "\n",
        "def conv3x3(in_planes, out_planes, stride=1, groups=1, dilation=1):\n",
        "    \"\"\"3x3 convolution with padding\"\"\"\n",
        "    return nn.Conv2d(in_planes, out_planes, kernel_size=3, stride=1,\n",
        "                     padding=1)\n",
        "    \n",
        "def conv1x1(in_planes, out_planes, stride=1):\n",
        "    \"\"\"1x1 convolution\"\"\"\n",
        "    return nn.Conv2d(in_planes, out_planes, kernel_size=1, stride=stride, bias=False)\n",
        "\n",
        "\n",
        "class BasicBlock(nn.Module):\n",
        "    expansion = 1\n",
        "\n",
        "    def __init__(self, inplanes, planes, stride=1, downsample=None):\n",
        "        super(BasicBlock, self).__init__()\n",
        "        self.conv1 = conv3x3(inplanes, planes, stride)\n",
        "        self.bn1 = nn.BatchNorm2d(planes)\n",
        "        self.conv2 = conv3x3(planes, planes)\n",
        "        self.bn2 = nn.BatchNorm2d(planes)\n",
        "        self.relu = nn.ReLU(inplace=True)\n",
        "\n",
        "        self.downsample = downsample\n",
        "        self.stride = stride\n",
        "\n",
        "    def forward(self, x):\n",
        "        residual = x\n",
        "        if self.downsample is not None:\n",
        "            residual = self.downsample(x)\n",
        "\n",
        "        out = self.conv1(residual)\n",
        "        out = self.bn1(out)\n",
        "        out = self.relu(out)\n",
        "\n",
        "        out = self.conv2(out)\n",
        "        out = self.bn2(out)\n",
        "\n",
        "        out += residual\n",
        "        out = self.relu(out)\n",
        "\n",
        "        return out\n",
        "\n",
        "class CustomResNet(nn.Module):\n",
        "    def __init__(self):\n",
        "        super(CustomResNet, self).__init__()\n",
        "\n",
        "        block = BasicBlock\n",
        "        self.inplanes = 64\n",
        "        self.conv1 = nn.Conv2d(3, self.inplanes, kernel_size=3, stride=1, padding=1, bias=False)\n",
        "\n",
        "\n",
        "        # self.convy = nn.Conv2d(64, self.inplanes, kernel_size=3, stride=1, padding=1, bias=False)\n",
        "        # self.bny = nn.BatchNorm2d(self.inplanes)\n",
        "        # self.maxpooly = nn.MaxPool2d(2,2)\n",
        "        # self.reluy = nn.ReLU(inplace=True)\n",
        "\n",
        "        self.convx = nn.Conv2d(128, 256, kernel_size=3, stride=1, padding=1, bias=False)\n",
        "        self.bnx = nn.BatchNorm2d(256)\n",
        "        self.maxpoolx = nn.MaxPool2d(2,2)\n",
        "        self.relux = nn.ReLU(inplace=True)\n",
        "\n",
        "        self.bn1 = nn.BatchNorm2d(self.inplanes)\n",
        "        self.relu = nn.ReLU(inplace=True)\n",
        "        self.maxpool = nn.MaxPool2d(kernel_size=3, stride=2, padding=0)\n",
        "        self.layer1 = self._make_layer(block, 128, 1)\n",
        "        self.layer2 = self._make_layer(block, 512, 1, inplanes=256)\n",
        "\n",
        "        self.maxpool4 = nn.MaxPool2d(kernel_size=4, stride=1, padding=0)\n",
        "\n",
        "        self.avgpool = nn.AvgPool2d(8)\n",
        "        self.fc = nn.Linear(512 , 10)\n",
        "\n",
        "\n",
        "    def _make_layer(self, block, planes, blocks, stride=1, inplanes=64):\n",
        "        downsample = None\n",
        "        self.inplanes = inplanes\n",
        "        downsample = nn.Sequential(\n",
        "            nn.Conv2d(self.inplanes, planes ,\n",
        "                      kernel_size=3, padding=1, stride=stride, bias=False),\n",
        "            nn.MaxPool2d(2,2),\n",
        "            nn.BatchNorm2d(planes),\n",
        "            nn.ReLU()\n",
        "        )\n",
        "\n",
        "        layers = []\n",
        "\n",
        "        \n",
        "        self.inplanes = planes\n",
        "\n",
        "        layers.append(block(self.inplanes, planes, stride, downsample))\n",
        "        \n",
        "        # for i in range(1, blocks):\n",
        "        #     layers.append(block(self.inplanes, planes))\n",
        "\n",
        "        return nn.Sequential(*layers)\n",
        "\n",
        "    def forward(self, x):\n",
        "\n",
        "      x = self.conv1(x)\n",
        "      x = self.bn1(x)\n",
        "      x = self.relu(x)\n",
        "      \n",
        "\n",
        "      # self.inplanes = 128\n",
        "\n",
        "      # x = self.convy(x)\n",
        "      # x = self.maxpooly(x)\n",
        "      # x = self.bny(x)\n",
        "      # x = self.reluy(x)\n",
        "\n",
        "      x = self.layer1(x)\n",
        "\n",
        "      self.inplanes = 256\n",
        "\n",
        "      x = self.convx(x)\n",
        "      x = self.maxpoolx(x)\n",
        "      x = self.bnx(x)\n",
        "      x = self.relux(x)\n",
        "\n",
        "      self.inplanes = 256\n",
        "      x = self.layer2(x)\n",
        "\n",
        "      # x = self.maxpool4(x)\n",
        "\n",
        "      # x = self.fc(x)\n",
        "\n",
        "      # return F.log_softmax(x, dim=-1)\n"
      ],
      "execution_count": 0,
      "outputs": []
    },
    {
      "cell_type": "code",
      "metadata": {
        "id": "N0tXBeqPGlID",
        "colab_type": "code",
        "colab": {
          "base_uri": "https://localhost:8080/",
          "height": 748
        },
        "outputId": "957e3cd5-ea34-47dd-b2cf-95437c549bf6"
      },
      "source": [
        "\n",
        "import torch\n",
        "!pip install torchsummary\n",
        "from torchsummary import summary\n",
        "\n",
        "model = CustomResNet()\n",
        "use_cuda = torch.cuda.is_available()\n",
        "device = torch.device(\"cuda\" if use_cuda else \"cpu\")\n",
        "model = CustomResNet().to(device)\n",
        "summary(model, input_size=(3, 32, 32))"
      ],
      "execution_count": 68,
      "outputs": [
        {
          "output_type": "stream",
          "text": [
            "Requirement already satisfied: torchsummary in /usr/local/lib/python3.6/dist-packages (1.5.1)\n",
            "----------------------------------------------------------------\n",
            "        Layer (type)               Output Shape         Param #\n",
            "================================================================\n",
            "            Conv2d-1           [-1, 64, 32, 32]           1,728\n",
            "       BatchNorm2d-2           [-1, 64, 32, 32]             128\n",
            "              ReLU-3           [-1, 64, 32, 32]               0\n",
            "            Conv2d-4          [-1, 128, 32, 32]          73,728\n",
            "         MaxPool2d-5          [-1, 128, 16, 16]               0\n",
            "       BatchNorm2d-6          [-1, 128, 16, 16]             256\n",
            "              ReLU-7          [-1, 128, 16, 16]               0\n",
            "            Conv2d-8          [-1, 128, 16, 16]         147,584\n",
            "       BatchNorm2d-9          [-1, 128, 16, 16]             256\n",
            "             ReLU-10          [-1, 128, 16, 16]               0\n",
            "           Conv2d-11          [-1, 128, 16, 16]         147,584\n",
            "      BatchNorm2d-12          [-1, 128, 16, 16]             256\n",
            "             ReLU-13          [-1, 128, 16, 16]               0\n",
            "       BasicBlock-14          [-1, 128, 16, 16]               0\n",
            "           Conv2d-15          [-1, 256, 16, 16]         294,912\n",
            "        MaxPool2d-16            [-1, 256, 8, 8]               0\n",
            "      BatchNorm2d-17            [-1, 256, 8, 8]             512\n",
            "             ReLU-18            [-1, 256, 8, 8]               0\n",
            "           Conv2d-19            [-1, 512, 8, 8]       1,179,648\n",
            "        MaxPool2d-20            [-1, 512, 4, 4]               0\n",
            "      BatchNorm2d-21            [-1, 512, 4, 4]           1,024\n",
            "             ReLU-22            [-1, 512, 4, 4]               0\n",
            "           Conv2d-23            [-1, 512, 4, 4]       2,359,808\n",
            "      BatchNorm2d-24            [-1, 512, 4, 4]           1,024\n",
            "             ReLU-25            [-1, 512, 4, 4]               0\n",
            "           Conv2d-26            [-1, 512, 4, 4]       2,359,808\n",
            "      BatchNorm2d-27            [-1, 512, 4, 4]           1,024\n",
            "             ReLU-28            [-1, 512, 4, 4]               0\n",
            "       BasicBlock-29            [-1, 512, 4, 4]               0\n",
            "================================================================\n",
            "Total params: 6,569,280\n",
            "Trainable params: 6,569,280\n",
            "Non-trainable params: 0\n",
            "----------------------------------------------------------------\n",
            "Input size (MB): 0.01\n",
            "Forward/backward pass size (MB): 6.75\n",
            "Params size (MB): 25.06\n",
            "Estimated Total Size (MB): 31.82\n",
            "----------------------------------------------------------------\n"
          ],
          "name": "stdout"
        }
      ]
    }
  ]
}