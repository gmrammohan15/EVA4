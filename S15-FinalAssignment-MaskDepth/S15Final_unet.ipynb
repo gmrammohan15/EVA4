{
  "nbformat": 4,
  "nbformat_minor": 0,
  "metadata": {
    "colab": {
      "name": "S15Final_unet.ipynb",
      "provenance": [],
      "collapsed_sections": [],
      "authorship_tag": "ABX9TyM8mP519ZFTkmOTp9a34rQ2",
      "include_colab_link": true
    },
    "kernelspec": {
      "name": "python3",
      "display_name": "Python 3"
    },
    "accelerator": "GPU"
  },
  "cells": [
    {
      "cell_type": "markdown",
      "metadata": {
        "id": "view-in-github",
        "colab_type": "text"
      },
      "source": [
        "<a href=\"https://colab.research.google.com/github/gmrammohan15/EVA4/blob/master/S15-FinalAssignment-MaskDepth/S15Final_unet.ipynb\" target=\"_parent\"><img src=\"https://colab.research.google.com/assets/colab-badge.svg\" alt=\"Open In Colab\"/></a>"
      ]
    },
    {
      "cell_type": "code",
      "metadata": {
        "id": "jRJhtH7P5tnx",
        "colab_type": "code",
        "outputId": "d348e374-c136-4017-e987-139b299ac655",
        "colab": {
          "base_uri": "https://localhost:8080/",
          "height": 122
        }
      },
      "source": [
        "from google.colab import drive\n",
        "drive.mount('/content/gdrive')"
      ],
      "execution_count": 0,
      "outputs": [
        {
          "output_type": "stream",
          "text": [
            "Go to this URL in a browser: https://accounts.google.com/o/oauth2/auth?client_id=947318989803-6bn6qk8qdgf4n4g3pfee6491hc0brc4i.apps.googleusercontent.com&redirect_uri=urn%3aietf%3awg%3aoauth%3a2.0%3aoob&response_type=code&scope=email%20https%3a%2f%2fwww.googleapis.com%2fauth%2fdocs.test%20https%3a%2f%2fwww.googleapis.com%2fauth%2fdrive%20https%3a%2f%2fwww.googleapis.com%2fauth%2fdrive.photos.readonly%20https%3a%2f%2fwww.googleapis.com%2fauth%2fpeopleapi.readonly\n",
            "\n",
            "Enter your authorization code:\n",
            "··········\n",
            "Mounted at /content/gdrive\n"
          ],
          "name": "stdout"
        }
      ]
    },
    {
      "cell_type": "code",
      "metadata": {
        "id": "YLPC4qo0zQ3q",
        "colab_type": "code",
        "outputId": "dbb73c3c-c303-4615-fab0-6eb5e7479005",
        "colab": {
          "base_uri": "https://localhost:8080/",
          "height": 34
        }
      },
      "source": [
        "%cd /content/gdrive/My\\ Drive/DenseDepth_DataSet"
      ],
      "execution_count": 0,
      "outputs": [
        {
          "output_type": "stream",
          "text": [
            "/content/gdrive/My Drive/DenseDepth_DataSet\n"
          ],
          "name": "stdout"
        }
      ]
    },
    {
      "cell_type": "code",
      "metadata": {
        "id": "HGT6D_2d4j4h",
        "colab_type": "code",
        "outputId": "aad3819b-d9d4-4d85-b41a-b0bf5e8c5dfc",
        "colab": {
          "base_uri": "https://localhost:8080/",
          "height": 34
        }
      },
      "source": [
        "!pwd"
      ],
      "execution_count": 0,
      "outputs": [
        {
          "output_type": "stream",
          "text": [
            "/content/gdrive/My Drive/DenseDepth_DataSet\n"
          ],
          "name": "stdout"
        }
      ]
    },
    {
      "cell_type": "code",
      "metadata": {
        "id": "LIM0sRQkE06F",
        "colab_type": "code",
        "colab": {}
      },
      "source": [
        "import argparse\n",
        "import logging\n",
        "import os\n",
        "import sys\n",
        "import numpy as np\n",
        "import torch\n",
        "import torch.nn as nn\n",
        "from torch import optim\n",
        "from tqdm import tqdm\n",
        "from torchvision import transforms\n",
        "\n",
        "\n",
        "from torch.utils.tensorboard import SummaryWriter\n",
        "\n",
        "from torch.utils.data import DataLoader, random_split"
      ],
      "execution_count": 0,
      "outputs": []
    },
    {
      "cell_type": "code",
      "metadata": {
        "id": "d4MN4cqOE6Lz",
        "colab_type": "code",
        "outputId": "ecee4470-9bdd-4c3d-d21c-bd856c4fa60c",
        "colab": {
          "base_uri": "https://localhost:8080/",
          "height": 34
        }
      },
      "source": [
        "train_transforms = transforms.Compose([\n",
        "    transforms.ToTensor(),\n",
        "    transforms.Normalize(mean = [0.468, 0.412, 0.252],std = [0.211, 0.211, 0.216])\n",
        "])\n",
        "dataset = DenseDataSet(transform=train_transforms, scale=1)\n",
        "batch_size = 128\n",
        "val_percent = 0.1\n",
        "n_val = int(len(dataset) * val_percent)\n",
        "n_train = len(dataset) - n_val\n",
        "train, val = random_split(dataset, [n_train, n_val])\n",
        "\n",
        "\n",
        "train_loader = DataLoader(train, batch_size=batch_size, shuffle=True, num_workers=4, pin_memory=True)\n",
        "val_loader = DataLoader(val, batch_size=batch_size, shuffle=False, num_workers=4, pin_memory=True, drop_last=True)\n"
      ],
      "execution_count": 0,
      "outputs": [
        {
          "output_type": "stream",
          "text": [
            "Creating dataset with 100 examples\n"
          ],
          "name": "stdout"
        }
      ]
    },
    {
      "cell_type": "code",
      "metadata": {
        "id": "aNDfL3rlG6zc",
        "colab_type": "code",
        "colab": {}
      },
      "source": [
        "import matplotlib.pyplot as plt\n",
        "\n",
        "\n",
        "def plot_img_and_mask(img, mask):\n",
        "    classes = mask.shape[2] if len(mask.shape) > 2 else 1\n",
        "    fig, ax = plt.subplots(1, classes + 1)\n",
        "    ax[0].set_title('Input image')\n",
        "    ax[0].imshow(img)\n",
        "    if classes > 1:\n",
        "        for i in range(classes):\n",
        "            ax[i+1].set_title(f'Output mask (class {i+1})')\n",
        "            ax[i+1].imshow(mask[:, :, i])\n",
        "    else:\n",
        "        ax[1].set_title(f'Output mask')\n",
        "        ax[1].imshow(mask)\n",
        "    plt.xticks([]), plt.yticks([])\n",
        "    plt.show()\n",
        "\n",
        "images = next(iter(train_loader))\n",
        "val_images = next(iter(val_loader))\n",
        "fg_bg_image = images['fgbg_image']\n",
        "mask_image = images['mask']\n",
        "\n",
        "#plot_img_and_mask(fg_bg_image, mask_image)"
      ],
      "execution_count": 0,
      "outputs": []
    },
    {
      "cell_type": "code",
      "metadata": {
        "id": "5-kA_0JSjl-R",
        "colab_type": "code",
        "colab": {}
      },
      "source": [
        ""
      ],
      "execution_count": 0,
      "outputs": []
    },
    {
      "cell_type": "code",
      "metadata": {
        "id": "ggDW90OH3lBy",
        "colab_type": "code",
        "outputId": "91407083-73fd-4b8c-e162-35e3c00129b3",
        "colab": {
          "base_uri": "https://localhost:8080/",
          "height": 274
        }
      },
      "source": [
        "fg_bg_image.shape\n",
        "fig = plt.figure(figsize=(200, 200))\n",
        "num_imgs = fg_bg_image.shape[0]\n",
        "for i in range(10):\n",
        "    fig.add_subplot(1, num_imgs, i + 1)\n",
        "\n",
        "    # render image tensor\n",
        "    \n",
        "    img = fg_bg_image[i]\n",
        "\n",
        "    npimg = img.numpy()\n",
        "    npimg = np.transpose(npimg, (1, 2, 0))\n",
        "\n",
        "    plt.imshow(npimg)\n",
        "    plt.axis('off')"
      ],
      "execution_count": 0,
      "outputs": [
        {
          "output_type": "stream",
          "text": [
            "WARNING:matplotlib.image:Clipping input data to the valid range for imshow with RGB data ([0..1] for floats or [0..255] for integers).\n",
            "WARNING:matplotlib.image:Clipping input data to the valid range for imshow with RGB data ([0..1] for floats or [0..255] for integers).\n",
            "WARNING:matplotlib.image:Clipping input data to the valid range for imshow with RGB data ([0..1] for floats or [0..255] for integers).\n",
            "WARNING:matplotlib.image:Clipping input data to the valid range for imshow with RGB data ([0..1] for floats or [0..255] for integers).\n",
            "WARNING:matplotlib.image:Clipping input data to the valid range for imshow with RGB data ([0..1] for floats or [0..255] for integers).\n",
            "WARNING:matplotlib.image:Clipping input data to the valid range for imshow with RGB data ([0..1] for floats or [0..255] for integers).\n",
            "WARNING:matplotlib.image:Clipping input data to the valid range for imshow with RGB data ([0..1] for floats or [0..255] for integers).\n",
            "WARNING:matplotlib.image:Clipping input data to the valid range for imshow with RGB data ([0..1] for floats or [0..255] for integers).\n",
            "WARNING:matplotlib.image:Clipping input data to the valid range for imshow with RGB data ([0..1] for floats or [0..255] for integers).\n",
            "WARNING:matplotlib.image:Clipping input data to the valid range for imshow with RGB data ([0..1] for floats or [0..255] for integers).\n"
          ],
          "name": "stderr"
        },
        {
          "output_type": "display_data",
          "data": {
            "image/png": "[encoded data removed]",
            "text/plain": [
              "<Figure size 14400x14400 with 10 Axes>"
            ]
          },
          "metadata": {
            "tags": [],
            "needs_background": "light"
          }
        }
      ]
    },
    {
      "cell_type": "code",
      "metadata": {
        "id": "eJIHlghq813Z",
        "colab_type": "code",
        "outputId": "2b954d41-a6ef-438f-c13a-3dbefbd9866f",
        "colab": {
          "base_uri": "https://localhost:8080/",
          "height": 34
        }
      },
      "source": [
        "fg_bg_image.shape"
      ],
      "execution_count": 0,
      "outputs": [
        {
          "output_type": "execute_result",
          "data": {
            "text/plain": [
              "torch.Size([64, 3, 224, 224])"
            ]
          },
          "metadata": {
            "tags": []
          },
          "execution_count": 61
        }
      ]
    },
    {
      "cell_type": "code",
      "metadata": {
        "id": "pfkPSGO984Kd",
        "colab_type": "code",
        "outputId": "1b265abc-5550-430e-98dd-36a53d454001",
        "colab": {
          "base_uri": "https://localhost:8080/",
          "height": 34
        }
      },
      "source": [
        "mask_image.shape"
      ],
      "execution_count": 0,
      "outputs": [
        {
          "output_type": "execute_result",
          "data": {
            "text/plain": [
              "torch.Size([64, 1, 224, 224])"
            ]
          },
          "metadata": {
            "tags": []
          },
          "execution_count": 62
        }
      ]
    },
    {
      "cell_type": "code",
      "metadata": {
        "id": "8AG-45HL8hrH",
        "colab_type": "code",
        "outputId": "15aab087-ddaf-4d0e-c386-a834ac013a0a",
        "colab": {
          "base_uri": "https://localhost:8080/",
          "height": 104
        }
      },
      "source": [
        "\n",
        "fig = plt.figure(figsize=(200, 200))\n",
        "num_imgs = mask_image.shape[0]\n",
        "for i in range(10):\n",
        "    fig.add_subplot(1, num_imgs, i + 1)\n",
        "\n",
        "    # render image tensor\n",
        "    \n",
        "    img = mask_image[i]\n",
        "    mask = img[:, :, :]\n",
        "\n",
        "    npimg = img.numpy()\n",
        "    npimg = np.transpose(npimg, (1, 2, 0))\n",
        "\n",
        "    plt.imshow(npimg[:, :, 0])\n",
        "    plt.axis('off')"
      ],
      "execution_count": 0,
      "outputs": [
        {
          "output_type": "display_data",
          "data": {
            "image/png": "[encoded data removed]",
            "text/plain": [
              "<Figure size 14400x14400 with 10 Axes>"
            ]
          },
          "metadata": {
            "tags": [],
            "needs_background": "light"
          }
        }
      ]
    },
    {
      "cell_type": "code",
      "metadata": {
        "id": "FB6FUMa6dXNc",
        "colab_type": "code",
        "outputId": "3e27a657-3657-447a-b65c-dfd005b7cc9d",
        "colab": {
          "base_uri": "https://localhost:8080/",
          "height": 1000
        }
      },
      "source": [
        "device = torch.device('cuda' if torch.cuda.is_available() else 'cpu')\n",
        "net = UNet(n_channels=6, n_classes=1, bilinear=True)\n",
        "net.to(device=device)\n",
        "from torchsummary import summary\n",
        "summary(net, (6 , 128, 128))"
      ],
      "execution_count": 0,
      "outputs": [
        {
          "output_type": "stream",
          "text": [
            "----------------------------------------------------------------\n",
            "        Layer (type)               Output Shape         Param #\n",
            "================================================================\n",
            "            Conv2d-1         [-1, 64, 128, 128]           3,520\n",
            "       BatchNorm2d-2         [-1, 64, 128, 128]             128\n",
            "              ReLU-3         [-1, 64, 128, 128]               0\n",
            "            Conv2d-4         [-1, 64, 128, 128]          36,928\n",
            "       BatchNorm2d-5         [-1, 64, 128, 128]             128\n",
            "              ReLU-6         [-1, 64, 128, 128]               0\n",
            "        DoubleConv-7         [-1, 64, 128, 128]               0\n",
            "         MaxPool2d-8           [-1, 64, 64, 64]               0\n",
            "            Conv2d-9          [-1, 128, 64, 64]          73,856\n",
            "      BatchNorm2d-10          [-1, 128, 64, 64]             256\n",
            "             ReLU-11          [-1, 128, 64, 64]               0\n",
            "           Conv2d-12          [-1, 128, 64, 64]         147,584\n",
            "      BatchNorm2d-13          [-1, 128, 64, 64]             256\n",
            "             ReLU-14          [-1, 128, 64, 64]               0\n",
            "       DoubleConv-15          [-1, 128, 64, 64]               0\n",
            "             Down-16          [-1, 128, 64, 64]               0\n",
            "        MaxPool2d-17          [-1, 128, 32, 32]               0\n",
            "           Conv2d-18          [-1, 256, 32, 32]         295,168\n",
            "      BatchNorm2d-19          [-1, 256, 32, 32]             512\n",
            "             ReLU-20          [-1, 256, 32, 32]               0\n",
            "           Conv2d-21          [-1, 256, 32, 32]         590,080\n",
            "      BatchNorm2d-22          [-1, 256, 32, 32]             512\n",
            "             ReLU-23          [-1, 256, 32, 32]               0\n",
            "       DoubleConv-24          [-1, 256, 32, 32]               0\n",
            "             Down-25          [-1, 256, 32, 32]               0\n",
            "        MaxPool2d-26          [-1, 256, 16, 16]               0\n",
            "           Conv2d-27          [-1, 512, 16, 16]       1,180,160\n",
            "      BatchNorm2d-28          [-1, 512, 16, 16]           1,024\n",
            "             ReLU-29          [-1, 512, 16, 16]               0\n",
            "           Conv2d-30          [-1, 512, 16, 16]       2,359,808\n",
            "      BatchNorm2d-31          [-1, 512, 16, 16]           1,024\n",
            "             ReLU-32          [-1, 512, 16, 16]               0\n",
            "       DoubleConv-33          [-1, 512, 16, 16]               0\n",
            "             Down-34          [-1, 512, 16, 16]               0\n",
            "        MaxPool2d-35            [-1, 512, 8, 8]               0\n",
            "           Conv2d-36            [-1, 512, 8, 8]       2,359,808\n",
            "      BatchNorm2d-37            [-1, 512, 8, 8]           1,024\n",
            "             ReLU-38            [-1, 512, 8, 8]               0\n",
            "           Conv2d-39            [-1, 512, 8, 8]       2,359,808\n",
            "      BatchNorm2d-40            [-1, 512, 8, 8]           1,024\n",
            "             ReLU-41            [-1, 512, 8, 8]               0\n",
            "       DoubleConv-42            [-1, 512, 8, 8]               0\n",
            "             Down-43            [-1, 512, 8, 8]               0\n",
            "         Upsample-44          [-1, 512, 16, 16]               0\n",
            "           Conv2d-45          [-1, 512, 16, 16]       4,719,104\n",
            "      BatchNorm2d-46          [-1, 512, 16, 16]           1,024\n",
            "             ReLU-47          [-1, 512, 16, 16]               0\n",
            "           Conv2d-48          [-1, 256, 16, 16]       1,179,904\n",
            "      BatchNorm2d-49          [-1, 256, 16, 16]             512\n",
            "             ReLU-50          [-1, 256, 16, 16]               0\n",
            "       DoubleConv-51          [-1, 256, 16, 16]               0\n",
            "               Up-52          [-1, 256, 16, 16]               0\n",
            "         Upsample-53          [-1, 256, 32, 32]               0\n",
            "           Conv2d-54          [-1, 256, 32, 32]       1,179,904\n",
            "      BatchNorm2d-55          [-1, 256, 32, 32]             512\n",
            "             ReLU-56          [-1, 256, 32, 32]               0\n",
            "           Conv2d-57          [-1, 128, 32, 32]         295,040\n",
            "      BatchNorm2d-58          [-1, 128, 32, 32]             256\n",
            "             ReLU-59          [-1, 128, 32, 32]               0\n",
            "       DoubleConv-60          [-1, 128, 32, 32]               0\n",
            "               Up-61          [-1, 128, 32, 32]               0\n",
            "         Upsample-62          [-1, 128, 64, 64]               0\n",
            "           Conv2d-63          [-1, 128, 64, 64]         295,040\n",
            "      BatchNorm2d-64          [-1, 128, 64, 64]             256\n",
            "             ReLU-65          [-1, 128, 64, 64]               0\n",
            "           Conv2d-66           [-1, 64, 64, 64]          73,792\n",
            "      BatchNorm2d-67           [-1, 64, 64, 64]             128\n",
            "             ReLU-68           [-1, 64, 64, 64]               0\n",
            "       DoubleConv-69           [-1, 64, 64, 64]               0\n",
            "               Up-70           [-1, 64, 64, 64]               0\n",
            "         Upsample-71         [-1, 64, 128, 128]               0\n",
            "           Conv2d-72         [-1, 64, 128, 128]          73,792\n",
            "      BatchNorm2d-73         [-1, 64, 128, 128]             128\n",
            "             ReLU-74         [-1, 64, 128, 128]               0\n",
            "           Conv2d-75         [-1, 64, 128, 128]          36,928\n",
            "      BatchNorm2d-76         [-1, 64, 128, 128]             128\n",
            "             ReLU-77         [-1, 64, 128, 128]               0\n",
            "       DoubleConv-78         [-1, 64, 128, 128]               0\n",
            "               Up-79         [-1, 64, 128, 128]               0\n",
            "           Conv2d-80          [-1, 1, 128, 128]              65\n",
            "          OutConv-81          [-1, 1, 128, 128]               0\n",
            "================================================================\n",
            "Total params: 17,269,121\n",
            "Trainable params: 17,269,121\n",
            "Non-trainable params: 0\n",
            "----------------------------------------------------------------\n",
            "Input size (MB): 0.38\n",
            "Forward/backward pass size (MB): 235.50\n",
            "Params size (MB): 65.88\n",
            "Estimated Total Size (MB): 301.75\n",
            "----------------------------------------------------------------\n"
          ],
          "name": "stdout"
        }
      ]
    },
    {
      "cell_type": "code",
      "metadata": {
        "id": "xTN3D1sic-q-",
        "colab_type": "code",
        "colab": {}
      },
      "source": [
        "import torch.nn as nn\n",
        "img_scale=0.5\n",
        "lr=0.01\n",
        "epochs=20\n",
        "save_cp=True\n",
        "\n",
        "def adjust_learning_rate(opt, epoch):\n",
        "    if epoch >= 5:\n",
        "        lr = 0.01 * 0.1\n",
        "        for param_group in opt.param_groups:\n",
        "            param_group['lr'] = lr\n",
        "net.load_state_dict(\n",
        "    torch.load(\"checkpoints/CP_epoch10.pth\", map_location=device)\n",
        ")\n",
        "writer = SummaryWriter(comment=f'LR_{lr}_BS_{batch_size}_SCALE_{img_scale}')\n",
        "global_step = 0\n",
        "\n",
        "logging.info(f'''Starting training:\n",
        "    Epochs:          {epochs}\n",
        "    Batch size:      {batch_size}\n",
        "    Learning rate:   {lr}\n",
        "    Training size:   {n_train}\n",
        "    Validation size: {n_val}\n",
        "    Checkpoints:     {save_cp}\n",
        "    Device:          {device.type}\n",
        "''')\n",
        "\n",
        "\n",
        "optimizer = optim.SGD(net.parameters(), lr=lr, weight_decay=1e-8, momentum=0.9)\n",
        "scheduler = optim.lr_scheduler.ReduceLROnPlateau(optimizer,  patience=2)\n",
        "criterion = nn.BCEWithLogitsLoss()\n",
        "train_net(net, device, epochs=epochs, batch_size=batch_size, optimzer, schedular, criterion, writer, save_cp=True)"
      ],
      "execution_count": 0,
      "outputs": []
    },
    {
      "cell_type": "code",
      "metadata": {
        "id": "30sTeDNZfSly",
        "colab_type": "code",
        "colab": {}
      },
      "source": [
        ""
      ],
      "execution_count": 0,
      "outputs": []
    }
  ]
}