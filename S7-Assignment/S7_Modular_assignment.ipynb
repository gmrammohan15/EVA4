{
  "nbformat": 4,
  "nbformat_minor": 0,
  "metadata": {
    "colab": {
      "name": "S7-Modular-assignment.ipynb",
      "provenance": [],
      "collapsed_sections": [],
      "authorship_tag": "ABX9TyMxthJBEjSyOOxLdHqP4lt2",
      "include_colab_link": true
    },
    "kernelspec": {
      "name": "python3",
      "display_name": "Python 3"
    }
  },
  "cells": [
    {
      "cell_type": "markdown",
      "metadata": {
        "id": "view-in-github",
        "colab_type": "text"
      },
      "source": [
        "<a href=\"https://colab.research.google.com/github/gmrammohan15/EVA4/blob/master/S7-Assignment/S7_Modular_assignment.ipynb\" target=\"_parent\"><img src=\"https://colab.research.google.com/assets/colab-badge.svg\" alt=\"Open In Colab\"/></a>"
      ]
    },
    {
      "cell_type": "code",
      "metadata": {
        "id": "NEExhjZYZN2d",
        "colab_type": "code",
        "colab": {
          "base_uri": "https://localhost:8080/",
          "height": 34
        },
        "outputId": "446ca98c-a038-4d1a-86e9-b7445bc17aeb"
      },
      "source": [
        "from google.colab import drive\n",
        "drive.mount('/content/gdrive')"
      ],
      "execution_count": 61,
      "outputs": [
        {
          "output_type": "stream",
          "text": [
            "Drive already mounted at /content/gdrive; to attempt to forcibly remount, call drive.mount(\"/content/gdrive\", force_remount=True).\n"
          ],
          "name": "stdout"
        }
      ]
    },
    {
      "cell_type": "code",
      "metadata": {
        "id": "gyZTwtdbZkZm",
        "colab_type": "code",
        "colab": {}
      },
      "source": [
        "import sys\n",
        "sys.path.append('/content/gdrive/My Drive/S7-Assignment/')\n",
        "!ls /content/gdrive/My\\ Drive/S7-Assignment"
      ],
      "execution_count": 0,
      "outputs": []
    },
    {
      "cell_type": "code",
      "metadata": {
        "id": "1ni-BzZRbNQu",
        "colab_type": "code",
        "colab": {}
      },
      "source": [
        "from __future__ import print_function\n",
        "import torch\n",
        "import torch.nn as nn\n",
        "import torch.nn.functional as F\n",
        "import torch.optim as optim\n",
        "from torchvision import datasets, transforms"
      ],
      "execution_count": 0,
      "outputs": []
    },
    {
      "cell_type": "code",
      "metadata": {
        "id": "M-qbUQXHbVIw",
        "colab_type": "code",
        "colab": {
          "base_uri": "https://localhost:8080/",
          "height": 51
        },
        "outputId": "1b011420-f9ac-4406-9618-65f8216f40be"
      },
      "source": [
        "import network as net\n",
        "import mnist_model as mnist\n",
        "import eval\n",
        "\n",
        "import importlib\n",
        "importlib.reload(net)\n",
        "importlib.reload(mnist)\n",
        "importlib.reload(eval)\n",
        "\n",
        "use_cuda = torch.cuda.is_available()\n",
        "device = torch.device(\"cuda\" if use_cuda else \"cpu\")\n",
        "print(device)\n",
        "model = net.Net().to(device)\n",
        " \n",
        "SEED = 1\n",
        "# CUDA?\n",
        "print(\"CUDA Available?\", use_cuda)\n",
        "\n",
        "# For reproducibility\n",
        "torch.manual_seed(SEED)\n",
        "\n",
        "if use_cuda:\n",
        "    torch.cuda.manual_seed(SEED)\n",
        "\n",
        "# dataloader arguments - something you'll fetch these from cmdprmt\n",
        "dataloader_args = dict(shuffle=True, batch_size=128, num_workers=4, pin_memory=True) if use_cuda else dict(shuffle=True, batch_size=64)\n",
        "\n",
        "mnist_model = mnist.MnistModel(model,dataloader_args)\n"
      ],
      "execution_count": 67,
      "outputs": [
        {
          "output_type": "stream",
          "text": [
            "cpu\n",
            "CUDA Available? False\n"
          ],
          "name": "stdout"
        }
      ]
    },
    {
      "cell_type": "code",
      "metadata": {
        "id": "4R2NsheljyLp",
        "colab_type": "code",
        "colab": {
          "base_uri": "https://localhost:8080/",
          "height": 697
        },
        "outputId": "7613c527-dd62-4279-f6a7-c9e730dd5762"
      },
      "source": [
        "eval.show_summary(mnist_model)"
      ],
      "execution_count": 69,
      "outputs": [
        {
          "output_type": "stream",
          "text": [
            "----------------------------------------------------------------\n",
            "        Layer (type)               Output Shape         Param #\n",
            "================================================================\n",
            "            Conv2d-1           [-1, 10, 28, 28]              90\n",
            "              ReLU-2           [-1, 10, 28, 28]               0\n",
            "       BatchNorm2d-3           [-1, 10, 28, 28]              20\n",
            "            Conv2d-4           [-1, 20, 28, 28]           1,800\n",
            "              ReLU-5           [-1, 20, 28, 28]               0\n",
            "       BatchNorm2d-6           [-1, 20, 28, 28]              40\n",
            "           Dropout-7           [-1, 20, 28, 28]               0\n",
            "         MaxPool2d-8           [-1, 20, 14, 14]               0\n",
            "            Conv2d-9           [-1, 10, 16, 16]             200\n",
            "           Conv2d-10           [-1, 20, 16, 16]           1,800\n",
            "             ReLU-11           [-1, 20, 16, 16]               0\n",
            "      BatchNorm2d-12           [-1, 20, 16, 16]              40\n",
            "          Dropout-13           [-1, 20, 16, 16]               0\n",
            "        MaxPool2d-14             [-1, 20, 8, 8]               0\n",
            "           Conv2d-15             [-1, 20, 8, 8]           3,600\n",
            "             ReLU-16             [-1, 20, 8, 8]               0\n",
            "      BatchNorm2d-17             [-1, 20, 8, 8]              40\n",
            "           Conv2d-18           [-1, 10, 10, 10]             200\n",
            "             ReLU-19           [-1, 10, 10, 10]               0\n",
            "      BatchNorm2d-20           [-1, 10, 10, 10]              20\n",
            "          Dropout-21           [-1, 10, 10, 10]               0\n",
            "           Conv2d-22             [-1, 16, 8, 8]           1,440\n",
            "             ReLU-23             [-1, 16, 8, 8]               0\n",
            "      BatchNorm2d-24             [-1, 16, 8, 8]              32\n",
            "          Dropout-25             [-1, 16, 8, 8]               0\n",
            "        AvgPool2d-26             [-1, 16, 1, 1]               0\n",
            "           Conv2d-27             [-1, 10, 1, 1]             160\n",
            "================================================================\n",
            "Total params: 9,482\n",
            "Trainable params: 9,482\n",
            "Non-trainable params: 0\n",
            "----------------------------------------------------------------\n",
            "Input size (MB): 0.00\n",
            "Forward/backward pass size (MB): 0.96\n",
            "Params size (MB): 0.04\n",
            "Estimated Total Size (MB): 1.00\n",
            "----------------------------------------------------------------\n"
          ],
          "name": "stdout"
        }
      ]
    },
    {
      "cell_type": "code",
      "metadata": {
        "id": "TEgN6qTKkQ4m",
        "colab_type": "code",
        "colab": {
          "base_uri": "https://localhost:8080/",
          "height": 1000
        },
        "outputId": "6641f48b-e00d-4b2a-95ea-1294aa97dcc5"
      },
      "source": [
        "eval.run_model(mnist_model,device)"
      ],
      "execution_count": 70,
      "outputs": [
        {
          "output_type": "stream",
          "text": [
            "\r  0%|          | 0/938 [00:00<?, ?it/s]"
          ],
          "name": "stderr"
        },
        {
          "output_type": "stream",
          "text": [
            "EPOCH: 0\n"
          ],
          "name": "stdout"
        },
        {
          "output_type": "stream",
          "text": [
            "Loss=0.10419248789548874 Batch_id=937 Accuracy=89.71: 100%|██████████| 938/938 [02:12<00:00,  7.08it/s]\n",
            "Loss=0.2034156322479248 Batch_id=0 Accuracy=98.44:   0%|          | 1/938 [00:00<02:14,  6.99it/s]"
          ],
          "name": "stderr"
        },
        {
          "output_type": "stream",
          "text": [
            "\n",
            "Test set: Average loss: 0.0918, Accuracy: 9726/10000 (97.26%)\n",
            "\n",
            "EPOCH: 1\n"
          ],
          "name": "stdout"
        },
        {
          "output_type": "stream",
          "text": [
            "Loss=0.10165084898471832 Batch_id=937 Accuracy=97.17: 100%|██████████| 938/938 [02:02<00:00,  7.65it/s]\n",
            "Loss=0.10655608028173447 Batch_id=0 Accuracy=100.00:   0%|          | 1/938 [00:00<02:04,  7.52it/s]"
          ],
          "name": "stderr"
        },
        {
          "output_type": "stream",
          "text": [
            "\n",
            "Test set: Average loss: 0.0564, Accuracy: 9833/10000 (98.33%)\n",
            "\n",
            "EPOCH: 2\n"
          ],
          "name": "stdout"
        },
        {
          "output_type": "stream",
          "text": [
            "Loss=0.10736018419265747 Batch_id=937 Accuracy=97.79: 100%|██████████| 938/938 [02:01<00:00,  7.70it/s]\n",
            "Loss=0.09328971803188324 Batch_id=0 Accuracy=100.00:   0%|          | 1/938 [00:00<01:59,  7.87it/s]"
          ],
          "name": "stderr"
        },
        {
          "output_type": "stream",
          "text": [
            "\n",
            "Test set: Average loss: 0.0440, Accuracy: 9866/10000 (98.66%)\n",
            "\n",
            "EPOCH: 3\n"
          ],
          "name": "stdout"
        },
        {
          "output_type": "stream",
          "text": [
            "Loss=0.1683129072189331 Batch_id=937 Accuracy=97.98: 100%|██████████| 938/938 [02:00<00:00,  7.77it/s]\n",
            "Loss=0.1578773856163025 Batch_id=0 Accuracy=96.88:   0%|          | 1/938 [00:00<02:00,  7.76it/s]"
          ],
          "name": "stderr"
        },
        {
          "output_type": "stream",
          "text": [
            "\n",
            "Test set: Average loss: 0.0448, Accuracy: 9857/10000 (98.57%)\n",
            "\n",
            "EPOCH: 4\n"
          ],
          "name": "stdout"
        },
        {
          "output_type": "stream",
          "text": [
            "Loss=0.09733825922012329 Batch_id=937 Accuracy=98.08: 100%|██████████| 938/938 [01:58<00:00,  7.89it/s]\n",
            "Loss=0.09399698674678802 Batch_id=0 Accuracy=100.00:   0%|          | 1/938 [00:00<01:53,  8.24it/s]"
          ],
          "name": "stderr"
        },
        {
          "output_type": "stream",
          "text": [
            "\n",
            "Test set: Average loss: 0.0396, Accuracy: 9871/10000 (98.71%)\n",
            "\n",
            "EPOCH: 5\n"
          ],
          "name": "stdout"
        },
        {
          "output_type": "stream",
          "text": [
            "Loss=0.4014444351196289 Batch_id=937 Accuracy=98.29: 100%|██████████| 938/938 [02:01<00:00,  7.72it/s]\n",
            "Loss=0.11316706240177155 Batch_id=0 Accuracy=98.44:   0%|          | 1/938 [00:00<02:00,  7.76it/s]"
          ],
          "name": "stderr"
        },
        {
          "output_type": "stream",
          "text": [
            "\n",
            "Test set: Average loss: 0.0273, Accuracy: 9910/10000 (99.10%)\n",
            "\n",
            "EPOCH: 6\n"
          ],
          "name": "stdout"
        },
        {
          "output_type": "stream",
          "text": [
            "Loss=0.12933698296546936 Batch_id=937 Accuracy=98.39: 100%|██████████| 938/938 [02:02<00:00,  7.63it/s]\n",
            "Loss=0.11431777477264404 Batch_id=0 Accuracy=98.44:   0%|          | 1/938 [00:00<02:01,  7.71it/s]"
          ],
          "name": "stderr"
        },
        {
          "output_type": "stream",
          "text": [
            "\n",
            "Test set: Average loss: 0.0338, Accuracy: 9895/10000 (98.95%)\n",
            "\n",
            "EPOCH: 7\n"
          ],
          "name": "stdout"
        },
        {
          "output_type": "stream",
          "text": [
            "Loss=0.07376924902200699 Batch_id=937 Accuracy=98.43: 100%|██████████| 938/938 [02:02<00:00,  7.67it/s]\n",
            "Loss=0.08326035737991333 Batch_id=0 Accuracy=100.00:   0%|          | 1/938 [00:00<02:02,  7.65it/s]"
          ],
          "name": "stderr"
        },
        {
          "output_type": "stream",
          "text": [
            "\n",
            "Test set: Average loss: 0.0289, Accuracy: 9913/10000 (99.13%)\n",
            "\n",
            "EPOCH: 8\n"
          ],
          "name": "stdout"
        },
        {
          "output_type": "stream",
          "text": [
            "Loss=0.07117859274148941 Batch_id=937 Accuracy=98.37: 100%|██████████| 938/938 [01:58<00:00,  7.90it/s]\n",
            "Loss=0.0849919319152832 Batch_id=0 Accuracy=100.00:   0%|          | 1/938 [00:00<01:53,  8.27it/s]"
          ],
          "name": "stderr"
        },
        {
          "output_type": "stream",
          "text": [
            "\n",
            "Test set: Average loss: 0.0329, Accuracy: 9897/10000 (98.97%)\n",
            "\n",
            "EPOCH: 9\n"
          ],
          "name": "stdout"
        },
        {
          "output_type": "stream",
          "text": [
            "Loss=0.10197077691555023 Batch_id=937 Accuracy=98.47: 100%|██████████| 938/938 [01:59<00:00,  7.86it/s]\n",
            "Loss=0.07227706164121628 Batch_id=0 Accuracy=100.00:   0%|          | 1/938 [00:00<02:04,  7.51it/s]"
          ],
          "name": "stderr"
        },
        {
          "output_type": "stream",
          "text": [
            "\n",
            "Test set: Average loss: 0.0285, Accuracy: 9912/10000 (99.12%)\n",
            "\n",
            "EPOCH: 10\n"
          ],
          "name": "stdout"
        },
        {
          "output_type": "stream",
          "text": [
            "Loss=0.20381972193717957 Batch_id=937 Accuracy=98.54: 100%|██████████| 938/938 [01:59<00:00,  7.88it/s]\n",
            "Loss=0.14129768311977386 Batch_id=0 Accuracy=95.31:   0%|          | 1/938 [00:00<02:02,  7.66it/s]"
          ],
          "name": "stderr"
        },
        {
          "output_type": "stream",
          "text": [
            "\n",
            "Test set: Average loss: 0.0249, Accuracy: 9916/10000 (99.16%)\n",
            "\n",
            "EPOCH: 11\n"
          ],
          "name": "stdout"
        },
        {
          "output_type": "stream",
          "text": [
            "Loss=0.07814120501279831 Batch_id=937 Accuracy=98.55: 100%|██████████| 938/938 [01:57<00:00,  7.99it/s]\n",
            "Loss=0.1354382485151291 Batch_id=0 Accuracy=98.44:   0%|          | 1/938 [00:00<01:57,  8.00it/s]"
          ],
          "name": "stderr"
        },
        {
          "output_type": "stream",
          "text": [
            "\n",
            "Test set: Average loss: 0.0292, Accuracy: 9909/10000 (99.09%)\n",
            "\n",
            "EPOCH: 12\n"
          ],
          "name": "stdout"
        },
        {
          "output_type": "stream",
          "text": [
            "Loss=0.08627974987030029 Batch_id=937 Accuracy=98.52: 100%|██████████| 938/938 [01:57<00:00,  7.98it/s]\n",
            "Loss=0.18476852774620056 Batch_id=0 Accuracy=98.44:   0%|          | 1/938 [00:00<01:53,  8.27it/s]"
          ],
          "name": "stderr"
        },
        {
          "output_type": "stream",
          "text": [
            "\n",
            "Test set: Average loss: 0.0259, Accuracy: 9924/10000 (99.24%)\n",
            "\n",
            "EPOCH: 13\n"
          ],
          "name": "stdout"
        },
        {
          "output_type": "stream",
          "text": [
            "Loss=0.07390298694372177 Batch_id=937 Accuracy=98.57: 100%|██████████| 938/938 [01:59<00:00,  7.87it/s]\n",
            "Loss=0.0785907506942749 Batch_id=0 Accuracy=100.00:   0%|          | 1/938 [00:00<02:15,  6.92it/s]"
          ],
          "name": "stderr"
        },
        {
          "output_type": "stream",
          "text": [
            "\n",
            "Test set: Average loss: 0.0272, Accuracy: 9910/10000 (99.10%)\n",
            "\n",
            "EPOCH: 14\n"
          ],
          "name": "stdout"
        },
        {
          "output_type": "stream",
          "text": [
            "Loss=0.3011334538459778 Batch_id=937 Accuracy=98.56: 100%|██████████| 938/938 [02:00<00:00,  7.78it/s]\n",
            "Loss=0.1367529332637787 Batch_id=0 Accuracy=98.44:   0%|          | 1/938 [00:00<02:15,  6.93it/s]"
          ],
          "name": "stderr"
        },
        {
          "output_type": "stream",
          "text": [
            "\n",
            "Test set: Average loss: 0.0288, Accuracy: 9919/10000 (99.19%)\n",
            "\n",
            "EPOCH: 15\n"
          ],
          "name": "stdout"
        },
        {
          "output_type": "stream",
          "text": [
            "Loss=0.26973864436149597 Batch_id=937 Accuracy=98.59: 100%|██████████| 938/938 [01:58<00:00,  7.92it/s]\n",
            "Loss=0.14258486032485962 Batch_id=0 Accuracy=98.44:   0%|          | 1/938 [00:00<01:58,  7.92it/s]"
          ],
          "name": "stderr"
        },
        {
          "output_type": "stream",
          "text": [
            "\n",
            "Test set: Average loss: 0.0332, Accuracy: 9898/10000 (98.98%)\n",
            "\n",
            "EPOCH: 16\n"
          ],
          "name": "stdout"
        },
        {
          "output_type": "stream",
          "text": [
            "Loss=0.1336052417755127 Batch_id=937 Accuracy=98.56: 100%|██████████| 938/938 [01:59<00:00,  7.86it/s]\n",
            "Loss=0.12301000952720642 Batch_id=0 Accuracy=98.44:   0%|          | 1/938 [00:00<01:51,  8.39it/s]"
          ],
          "name": "stderr"
        },
        {
          "output_type": "stream",
          "text": [
            "\n",
            "Test set: Average loss: 0.0259, Accuracy: 9918/10000 (99.18%)\n",
            "\n",
            "EPOCH: 17\n"
          ],
          "name": "stdout"
        },
        {
          "output_type": "stream",
          "text": [
            "Loss=0.07217768579721451 Batch_id=937 Accuracy=98.72: 100%|██████████| 938/938 [02:00<00:00,  7.81it/s]\n",
            "Loss=0.07607487589120865 Batch_id=0 Accuracy=100.00:   0%|          | 1/938 [00:00<01:55,  8.12it/s]"
          ],
          "name": "stderr"
        },
        {
          "output_type": "stream",
          "text": [
            "\n",
            "Test set: Average loss: 0.0271, Accuracy: 9911/10000 (99.11%)\n",
            "\n",
            "EPOCH: 18\n"
          ],
          "name": "stdout"
        },
        {
          "output_type": "stream",
          "text": [
            "Loss=0.38399091362953186 Batch_id=937 Accuracy=98.64: 100%|██████████| 938/938 [01:58<00:00,  7.95it/s]\n",
            "Loss=0.08683285117149353 Batch_id=0 Accuracy=100.00:   0%|          | 1/938 [00:00<02:12,  7.08it/s]"
          ],
          "name": "stderr"
        },
        {
          "output_type": "stream",
          "text": [
            "\n",
            "Test set: Average loss: 0.0247, Accuracy: 9926/10000 (99.26%)\n",
            "\n",
            "EPOCH: 19\n"
          ],
          "name": "stdout"
        },
        {
          "output_type": "stream",
          "text": [
            "Loss=0.15905459225177765 Batch_id=937 Accuracy=98.61: 100%|██████████| 938/938 [02:06<00:00,  7.41it/s]\n",
            "Loss=0.0754290521144867 Batch_id=0 Accuracy=100.00:   0%|          | 1/938 [00:00<02:07,  7.32it/s]"
          ],
          "name": "stderr"
        },
        {
          "output_type": "stream",
          "text": [
            "\n",
            "Test set: Average loss: 0.0278, Accuracy: 9901/10000 (99.01%)\n",
            "\n",
            "EPOCH: 20\n"
          ],
          "name": "stdout"
        },
        {
          "output_type": "stream",
          "text": [
            "Loss=0.1012706309556961 Batch_id=937 Accuracy=98.64: 100%|██████████| 938/938 [02:05<00:00,  7.49it/s]\n",
            "Loss=0.12061930447816849 Batch_id=0 Accuracy=98.44:   0%|          | 1/938 [00:00<01:57,  7.95it/s]"
          ],
          "name": "stderr"
        },
        {
          "output_type": "stream",
          "text": [
            "\n",
            "Test set: Average loss: 0.0209, Accuracy: 9938/10000 (99.38%)\n",
            "\n",
            "EPOCH: 21\n"
          ],
          "name": "stdout"
        },
        {
          "output_type": "stream",
          "text": [
            "Loss=0.07897873222827911 Batch_id=937 Accuracy=98.70: 100%|██████████| 938/938 [02:04<00:00,  7.52it/s]\n",
            "Loss=0.07127297669649124 Batch_id=0 Accuracy=100.00:   0%|          | 1/938 [00:00<02:03,  7.56it/s]"
          ],
          "name": "stderr"
        },
        {
          "output_type": "stream",
          "text": [
            "\n",
            "Test set: Average loss: 0.0241, Accuracy: 9918/10000 (99.18%)\n",
            "\n",
            "EPOCH: 22\n"
          ],
          "name": "stdout"
        },
        {
          "output_type": "stream",
          "text": [
            "Loss=0.07434084266424179 Batch_id=937 Accuracy=98.68: 100%|██████████| 938/938 [02:03<00:00,  7.59it/s]\n",
            "Loss=0.08416468650102615 Batch_id=0 Accuracy=98.44:   0%|          | 1/938 [00:00<02:06,  7.42it/s]"
          ],
          "name": "stderr"
        },
        {
          "output_type": "stream",
          "text": [
            "\n",
            "Test set: Average loss: 0.0254, Accuracy: 9916/10000 (99.16%)\n",
            "\n",
            "EPOCH: 23\n"
          ],
          "name": "stdout"
        },
        {
          "output_type": "stream",
          "text": [
            "Loss=0.07456139475107193 Batch_id=937 Accuracy=98.66: 100%|██████████| 938/938 [02:02<00:00,  7.66it/s]\n",
            "Loss=0.11442997306585312 Batch_id=0 Accuracy=96.88:   0%|          | 1/938 [00:00<02:01,  7.68it/s]"
          ],
          "name": "stderr"
        },
        {
          "output_type": "stream",
          "text": [
            "\n",
            "Test set: Average loss: 0.0259, Accuracy: 9908/10000 (99.08%)\n",
            "\n",
            "EPOCH: 24\n"
          ],
          "name": "stdout"
        },
        {
          "output_type": "stream",
          "text": [
            "Loss=0.14497336745262146 Batch_id=937 Accuracy=98.69: 100%|██████████| 938/938 [02:03<00:00,  7.61it/s]\n",
            "Loss=0.09129708260297775 Batch_id=0 Accuracy=98.44:   0%|          | 1/938 [00:00<02:09,  7.21it/s]"
          ],
          "name": "stderr"
        },
        {
          "output_type": "stream",
          "text": [
            "\n",
            "Test set: Average loss: 0.0238, Accuracy: 9917/10000 (99.17%)\n",
            "\n",
            "EPOCH: 25\n"
          ],
          "name": "stdout"
        },
        {
          "output_type": "stream",
          "text": [
            "Loss=0.06893350183963776 Batch_id=937 Accuracy=98.66: 100%|██████████| 938/938 [02:02<00:00,  7.64it/s]\n",
            "Loss=0.126175656914711 Batch_id=0 Accuracy=96.88:   0%|          | 1/938 [00:00<02:07,  7.33it/s]"
          ],
          "name": "stderr"
        },
        {
          "output_type": "stream",
          "text": [
            "\n",
            "Test set: Average loss: 0.0233, Accuracy: 9926/10000 (99.26%)\n",
            "\n",
            "EPOCH: 26\n"
          ],
          "name": "stdout"
        },
        {
          "output_type": "stream",
          "text": [
            "Loss=0.0721961259841919 Batch_id=937 Accuracy=98.72: 100%|██████████| 938/938 [02:02<00:00,  7.63it/s]\n",
            "Loss=0.08788371086120605 Batch_id=0 Accuracy=100.00:   0%|          | 1/938 [00:00<02:05,  7.49it/s]"
          ],
          "name": "stderr"
        },
        {
          "output_type": "stream",
          "text": [
            "\n",
            "Test set: Average loss: 0.0283, Accuracy: 9918/10000 (99.18%)\n",
            "\n",
            "EPOCH: 27\n"
          ],
          "name": "stdout"
        },
        {
          "output_type": "stream",
          "text": [
            "Loss=0.08397103101015091 Batch_id=937 Accuracy=98.68: 100%|██████████| 938/938 [02:03<00:00,  7.62it/s]\n",
            "Loss=0.09359263628721237 Batch_id=0 Accuracy=100.00:   0%|          | 1/938 [00:00<02:05,  7.45it/s]"
          ],
          "name": "stderr"
        },
        {
          "output_type": "stream",
          "text": [
            "\n",
            "Test set: Average loss: 0.0225, Accuracy: 9938/10000 (99.38%)\n",
            "\n",
            "EPOCH: 28\n"
          ],
          "name": "stdout"
        },
        {
          "output_type": "stream",
          "text": [
            "Loss=0.09093288332223892 Batch_id=937 Accuracy=98.69: 100%|██████████| 938/938 [02:01<00:00,  7.75it/s]\n",
            "Loss=0.15825526416301727 Batch_id=0 Accuracy=98.44:   0%|          | 1/938 [00:00<01:57,  7.94it/s]"
          ],
          "name": "stderr"
        },
        {
          "output_type": "stream",
          "text": [
            "\n",
            "Test set: Average loss: 0.0254, Accuracy: 9914/10000 (99.14%)\n",
            "\n",
            "EPOCH: 29\n"
          ],
          "name": "stdout"
        },
        {
          "output_type": "stream",
          "text": [
            "Loss=0.13723108172416687 Batch_id=937 Accuracy=98.74: 100%|██████████| 938/938 [01:58<00:00,  7.88it/s]\n",
            "Loss=0.14894890785217285 Batch_id=0 Accuracy=98.44:   0%|          | 1/938 [00:00<02:05,  7.49it/s]"
          ],
          "name": "stderr"
        },
        {
          "output_type": "stream",
          "text": [
            "\n",
            "Test set: Average loss: 0.0289, Accuracy: 9905/10000 (99.05%)\n",
            "\n",
            "EPOCH: 30\n"
          ],
          "name": "stdout"
        },
        {
          "output_type": "stream",
          "text": [
            "Loss=0.07760177552700043 Batch_id=937 Accuracy=98.66: 100%|██████████| 938/938 [01:59<00:00,  7.84it/s]\n",
            "Loss=0.08144839107990265 Batch_id=0 Accuracy=98.44:   0%|          | 1/938 [00:00<02:01,  7.72it/s]"
          ],
          "name": "stderr"
        },
        {
          "output_type": "stream",
          "text": [
            "\n",
            "Test set: Average loss: 0.0247, Accuracy: 9923/10000 (99.23%)\n",
            "\n",
            "EPOCH: 31\n"
          ],
          "name": "stdout"
        },
        {
          "output_type": "stream",
          "text": [
            "Loss=0.08048766851425171 Batch_id=937 Accuracy=98.82: 100%|██████████| 938/938 [01:59<00:00,  7.86it/s]\n",
            "Loss=0.1721935272216797 Batch_id=0 Accuracy=96.88:   0%|          | 1/938 [00:00<02:06,  7.43it/s]"
          ],
          "name": "stderr"
        },
        {
          "output_type": "stream",
          "text": [
            "\n",
            "Test set: Average loss: 0.0302, Accuracy: 9914/10000 (99.14%)\n",
            "\n",
            "EPOCH: 32\n"
          ],
          "name": "stdout"
        },
        {
          "output_type": "stream",
          "text": [
            "Loss=0.08706079423427582 Batch_id=937 Accuracy=98.85: 100%|██████████| 938/938 [02:00<00:00,  7.80it/s]\n",
            "Loss=0.08204718679189682 Batch_id=0 Accuracy=100.00:   0%|          | 1/938 [00:00<02:03,  7.57it/s]"
          ],
          "name": "stderr"
        },
        {
          "output_type": "stream",
          "text": [
            "\n",
            "Test set: Average loss: 0.0234, Accuracy: 9935/10000 (99.35%)\n",
            "\n",
            "EPOCH: 33\n"
          ],
          "name": "stdout"
        },
        {
          "output_type": "stream",
          "text": [
            "Loss=0.08759461343288422 Batch_id=937 Accuracy=98.72: 100%|██████████| 938/938 [02:00<00:00,  7.79it/s]\n",
            "Loss=0.19064202904701233 Batch_id=0 Accuracy=93.75:   0%|          | 1/938 [00:00<02:11,  7.11it/s]"
          ],
          "name": "stderr"
        },
        {
          "output_type": "stream",
          "text": [
            "\n",
            "Test set: Average loss: 0.0284, Accuracy: 9911/10000 (99.11%)\n",
            "\n",
            "EPOCH: 34\n"
          ],
          "name": "stdout"
        },
        {
          "output_type": "stream",
          "text": [
            "Loss=0.07192647457122803 Batch_id=937 Accuracy=98.77: 100%|██████████| 938/938 [01:59<00:00,  7.87it/s]\n",
            "Loss=0.08734690397977829 Batch_id=0 Accuracy=100.00:   0%|          | 1/938 [00:00<02:00,  7.75it/s]"
          ],
          "name": "stderr"
        },
        {
          "output_type": "stream",
          "text": [
            "\n",
            "Test set: Average loss: 0.0212, Accuracy: 9929/10000 (99.29%)\n",
            "\n",
            "EPOCH: 35\n"
          ],
          "name": "stdout"
        },
        {
          "output_type": "stream",
          "text": [
            "Loss=0.07253281772136688 Batch_id=937 Accuracy=98.67: 100%|██████████| 938/938 [02:00<00:00,  7.81it/s]\n",
            "Loss=0.07183218002319336 Batch_id=0 Accuracy=100.00:   0%|          | 1/938 [00:00<02:11,  7.11it/s]"
          ],
          "name": "stderr"
        },
        {
          "output_type": "stream",
          "text": [
            "\n",
            "Test set: Average loss: 0.0228, Accuracy: 9929/10000 (99.29%)\n",
            "\n",
            "EPOCH: 36\n"
          ],
          "name": "stdout"
        },
        {
          "output_type": "stream",
          "text": [
            "Loss=0.09034267067909241 Batch_id=937 Accuracy=98.67: 100%|██████████| 938/938 [01:59<00:00,  7.85it/s]\n",
            "Loss=0.06930315494537354 Batch_id=0 Accuracy=100.00:   0%|          | 1/938 [00:00<02:02,  7.66it/s]"
          ],
          "name": "stderr"
        },
        {
          "output_type": "stream",
          "text": [
            "\n",
            "Test set: Average loss: 0.0268, Accuracy: 9905/10000 (99.05%)\n",
            "\n",
            "EPOCH: 37\n"
          ],
          "name": "stdout"
        },
        {
          "output_type": "stream",
          "text": [
            "Loss=0.0956728383898735 Batch_id=937 Accuracy=98.77: 100%|██████████| 938/938 [02:00<00:00,  7.80it/s]\n",
            "Loss=0.08735696226358414 Batch_id=0 Accuracy=100.00:   0%|          | 1/938 [00:00<01:58,  7.90it/s]"
          ],
          "name": "stderr"
        },
        {
          "output_type": "stream",
          "text": [
            "\n",
            "Test set: Average loss: 0.0313, Accuracy: 9899/10000 (98.99%)\n",
            "\n",
            "EPOCH: 38\n"
          ],
          "name": "stdout"
        },
        {
          "output_type": "stream",
          "text": [
            "Loss=0.08858537673950195 Batch_id=937 Accuracy=98.70: 100%|██████████| 938/938 [02:01<00:00,  7.75it/s]\n",
            "Loss=0.10016252100467682 Batch_id=0 Accuracy=98.44:   0%|          | 1/938 [00:00<02:06,  7.41it/s]"
          ],
          "name": "stderr"
        },
        {
          "output_type": "stream",
          "text": [
            "\n",
            "Test set: Average loss: 0.0188, Accuracy: 9938/10000 (99.38%)\n",
            "\n",
            "EPOCH: 39\n"
          ],
          "name": "stdout"
        },
        {
          "output_type": "stream",
          "text": [
            "Loss=0.06601429730653763 Batch_id=937 Accuracy=98.68: 100%|██████████| 938/938 [02:00<00:00,  7.76it/s]\n"
          ],
          "name": "stderr"
        },
        {
          "output_type": "stream",
          "text": [
            "\n",
            "Test set: Average loss: 0.0270, Accuracy: 9913/10000 (99.13%)\n",
            "\n"
          ],
          "name": "stdout"
        }
      ]
    },
    {
      "cell_type": "code",
      "metadata": {
        "id": "KMOr9U9j30sA",
        "colab_type": "code",
        "colab": {}
      },
      "source": [
        "def find_actual_pred_map(model, num=25):\n",
        "  images=[]\n",
        "  target_list=[]\n",
        "  pred_list=[]\n",
        "  count=0\n",
        "  use_cuda = torch.cuda.is_available()\n",
        "  device = torch.device(\"cuda\" if use_cuda else \"cpu\")\n",
        "  with torch.no_grad():\n",
        "    for data, target in mnist_model.m_test_loader:\n",
        "      data, target = data.to(device), target.to(device)\n",
        "      output = mnist_model.m_model(data)\n",
        "      pred = output.argmax(dim=1, keepdim=True).view_as(target)\n",
        "      for d , t , p in zip(data, target, pred):\n",
        "        if t!=p:\n",
        "          d = d.cpu().numpy()\n",
        "          t = t.cpu().numpy()\n",
        "          p = p.cpu().numpy()\n",
        "          d = (d*0.3081)+0.1307\n",
        "          images.append(d)\n",
        "          target_list.append(t)\n",
        "          pred_list.append(p)\n",
        "          count+=1\n",
        "        if count == num:\n",
        "          return images, target_list, pred_list"
      ],
      "execution_count": 0,
      "outputs": []
    },
    {
      "cell_type": "code",
      "metadata": {
        "id": "dHIDqI1u4LJL",
        "colab_type": "code",
        "colab": {
          "base_uri": "https://localhost:8080/",
          "height": 1000
        },
        "outputId": "b735c563-8760-4642-e3c4-955350b1bc02"
      },
      "source": [
        "%matplotlib inline\n",
        "import matplotlib.pyplot as plt\n",
        "import numpy as np\n",
        "images, targ, pred  = find_actual_pred_map(mnist_model)\n",
        "\n",
        "fig, axs = plt.subplots(2,2,figsize=(15,10))\n",
        "axs[0, 0].plot(mnist_model.m_train_losses)\n",
        "axs[0, 0].set_title(\"Training Loss\")\n",
        "axs[1, 0].plot(mnist_model.m_train_acc[4000:])\n",
        "axs[1, 0].set_title(\"Training Accuracy\")\n",
        "axs[0, 1].plot(mnist_model.m_test_losses)\n",
        "axs[0, 1].set_title(\"Test Loss\")\n",
        "axs[1, 1].plot(mnist_model.m_test_acc)\n",
        "axs[1, 1].set_title(\"Test Accuracy\")\n",
        "\n",
        "fig = plt.figure(figsize=(15, ((25//5)+1)*3))\n",
        "\n",
        "for i in range(0, 25):\n",
        "  ax=fig.add_subplot((25//5)+1, 5, i+1)\n",
        "  ax.imshow(np.rollaxis(images[i], 0, 3).squeeze(), cmap='gray')\n",
        "  ax.axis('off')\n",
        "  ax.set_title(\"Actual:\"+str(targ[i])+\" Predicted: \"+str(pred[i]))\n",
        "\n",
        "\n",
        "plt.show()\n"
      ],
      "execution_count": 80,
      "outputs": [
        {
          "output_type": "display_data",
          "data": {
            "image/png": "[encoded data removed]",
            "text/plain": [
              "<Figure size 1080x720 with 4 Axes>"
            ]
          },
          "metadata": {
            "tags": []
          }
        },
        {
          "output_type": "display_data",
          "data": {
            "image/png": "[encoded data removed]",
            "text/plain": [
              "<Figure size 1080x1296 with 25 Axes>"
            ]
          },
          "metadata": {
            "tags": []
          }
        }
      ]
    }
  ]
}