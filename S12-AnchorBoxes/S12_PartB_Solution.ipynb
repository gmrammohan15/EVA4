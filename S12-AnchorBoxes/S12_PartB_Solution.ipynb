{
  "nbformat": 4,
  "nbformat_minor": 0,
  "metadata": {
    "colab": {
      "name": "S12-PartB-Solution.ipynb",
      "provenance": [],
      "collapsed_sections": [],
      "authorship_tag": "ABX9TyMN4otRbfrvkuayf4Zbs78K",
      "include_colab_link": true
    },
    "kernelspec": {
      "name": "python3",
      "display_name": "Python 3"
    }
  },
  "cells": [
    {
      "cell_type": "markdown",
      "metadata": {
        "id": "view-in-github",
        "colab_type": "text"
      },
      "source": [
        "<a href=\"https://colab.research.google.com/github/gmrammohan15/EVA4/blob/master/S12_PartB_Solution.ipynb\" target=\"_parent\"><img src=\"https://colab.research.google.com/assets/colab-badge.svg\" alt=\"Open In Colab\"/></a>"
      ]
    },
    {
      "cell_type": "code",
      "metadata": {
        "id": "aPgxAU3qou_B",
        "colab_type": "code",
        "colab": {
          "base_uri": "https://localhost:8080/",
          "height": 122
        },
        "outputId": "b8ed2b8e-fd6c-4096-caa1-ba1783fbac28"
      },
      "source": [
        "from google.colab import drive\n",
        "drive.mount('/content/gdrive')"
      ],
      "execution_count": 1,
      "outputs": [
        {
          "output_type": "stream",
          "text": [
            "Go to this URL in a browser: https://accounts.google.com/o/oauth2/auth?client_id=947318989803-6bn6qk8qdgf4n4g3pfee6491hc0brc4i.apps.googleusercontent.com&redirect_uri=urn%3aietf%3awg%3aoauth%3a2.0%3aoob&response_type=code&scope=email%20https%3a%2f%2fwww.googleapis.com%2fauth%2fdocs.test%20https%3a%2f%2fwww.googleapis.com%2fauth%2fdrive%20https%3a%2f%2fwww.googleapis.com%2fauth%2fdrive.photos.readonly%20https%3a%2f%2fwww.googleapis.com%2fauth%2fpeopleapi.readonly\n",
            "\n",
            "Enter your authorization code:\n",
            "··········\n",
            "Mounted at /content/gdrive\n"
          ],
          "name": "stdout"
        }
      ]
    },
    {
      "cell_type": "code",
      "metadata": {
        "id": "hDjTU1xFp-nu",
        "colab_type": "code",
        "colab": {}
      },
      "source": [
        "import sys\n",
        "sys.path.append('/content/gdrive/My Drive/S12-AnchorBoxes/')"
      ],
      "execution_count": 0,
      "outputs": []
    },
    {
      "cell_type": "code",
      "metadata": {
        "id": "EvaWCTDyqGOs",
        "colab_type": "code",
        "colab": {
          "base_uri": "https://localhost:8080/",
          "height": 51
        },
        "outputId": "8433eb33-5581-4b33-8f52-4f65ef20ba27"
      },
      "source": [
        "%cd /content/gdrive/My Drive/S12-AnchorBoxes\n",
        "!ls"
      ],
      "execution_count": 3,
      "outputs": [
        {
          "output_type": "stream",
          "text": [
            "/content/gdrive/My Drive/S12-AnchorBoxes\n",
            "Annotations_bounded.json  Images\n"
          ],
          "name": "stdout"
        }
      ]
    },
    {
      "cell_type": "code",
      "metadata": {
        "id": "HwpMGYzryPbQ",
        "colab_type": "code",
        "colab": {}
      },
      "source": [
        ""
      ],
      "execution_count": 0,
      "outputs": []
    },
    {
      "cell_type": "markdown",
      "metadata": {
        "id": "vhGobFzAqUMw",
        "colab_type": "text"
      },
      "source": [
        "# Load the downloaded json file (coco format) "
      ]
    },
    {
      "cell_type": "code",
      "metadata": {
        "id": "-H6UghUtqS_M",
        "colab_type": "code",
        "colab": {
          "base_uri": "https://localhost:8080/",
          "height": 323
        },
        "outputId": "12051439-9372-4128-a914-0e28ad3e36ec"
      },
      "source": [
        "import numpy as np\n",
        "import json\n",
        "import pprint\n",
        "\n",
        "json_path = \"./Annotations_bounded.json\"\n",
        "with open(json_path, 'r') as f:\n",
        "\t\t\trobots_annotations = json.load(f)\n",
        "print(robots_annotations.keys(), \"\\n\")\n",
        "pprint.pprint(robots_annotations[\"images\"][0])\n",
        "print()\n",
        "pprint.pprint(robots_annotations[\"annotations\"][0])\n",
        "print()\n",
        "pprint.pprint(robots_annotations[\"categories\"][0])"
      ],
      "execution_count": 5,
      "outputs": [
        {
          "output_type": "stream",
          "text": [
            "dict_keys(['info', 'images', 'annotations', 'licenses', 'categories']) \n",
            "\n",
            "{'date_captured': '',\n",
            " 'file_name': 'n02085782_2.jpg',\n",
            " 'height': 298,\n",
            " 'id': 0,\n",
            " 'license': 1,\n",
            " 'width': 414}\n",
            "\n",
            "{'area': 71416,\n",
            " 'bbox': [47, 35, 316, 226],\n",
            " 'category_id': 1,\n",
            " 'id': 0,\n",
            " 'image_id': '0',\n",
            " 'iscrowd': 0,\n",
            " 'segmentation': [47, 35, 363, 35, 363, 261, 47, 261]}\n",
            "\n",
            "{'id': 1, 'name': 'dog', 'supercategory': 'class'}\n"
          ],
          "name": "stdout"
        }
      ]
    },
    {
      "cell_type": "markdown",
      "metadata": {
        "id": "v35jInv5rGUP",
        "colab_type": "text"
      },
      "source": [
        "# Description of Json fields\n",
        "\n",
        "# Images Key\n",
        "**images.file_name** => name of image that is loaded for annotation\\\n",
        "**images.id** => unique id assigned by the tool \\\n",
        "**images.height** => Represents the height of the image file \\\n",
        "**images.width** => Represents total width of the image file \\\n",
        "\n",
        "# annotations key\n",
        "**annotations.bbox **=> Array having X-Coord, Y-Coord, Width , Height of the bounding Box \\\n",
        "**annotations.image_id** => Image Id to which this bbox belongs to \\\n",
        "**annotations.area** => Total area of the bounding box \\"
      ]
    },
    {
      "cell_type": "code",
      "metadata": {
        "id": "PXY7V5bpreUv",
        "colab_type": "code",
        "colab": {}
      },
      "source": [
        "#Parse and store the data in dict\n",
        "import pandas\n",
        "\n",
        "data = {}\n",
        "for val in robots_annotations[\"images\"]:\n",
        "  data[val[\"id\"]] = {\n",
        "    'name': val[\"file_name\"],\n",
        "    'height': val[\"height\"], \n",
        "    'width': val[\"width\"],\n",
        "  }\n",
        "  \n",
        "classes = {}\n",
        "for val in robots_annotations[\"categories\"]:\n",
        "  classes[val[\"id\"]] = val[\"name\"]\n",
        "\n",
        "for val in robots_annotations[\"annotations\"]:\n",
        "  data[int(val[\"image_id\"])][\"class\"] = classes[val[\"category_id\"]]\n",
        "  data[int(val[\"image_id\"])][\"bbox\"] = val[\"bbox\"]\n",
        "\n",
        "\n",
        "\n",
        "df_data = {\n",
        "  \"img_name\": [],\n",
        "  \"class\": [],\n",
        "  \"img_h\": [],\n",
        "  \"img_w\": [],\n",
        "  \"bbox_x\": [],\n",
        "  \"bbox_y\": [],\n",
        "  \"bbox_h\": [],\n",
        "  \"bbox_w\": [],\n",
        "  \"bbox_norm_x\": [],\n",
        "  \"bbox_norm_y\": [],\n",
        "  \"bbox_norm_w\": [],\n",
        "  \"bbox_norm_h\": [],\n",
        "}\n",
        "norm_bbox = []\n",
        "for val in data.values():\n",
        "  df_data[\"img_name\"].append(val[\"name\"])\n",
        "  df_data[\"class\"].append(val[\"class\"])\n",
        "  df_data[\"img_h\"].append(val[\"height\"])\n",
        "  df_data[\"img_w\"].append(val[\"width\"])\n",
        "  df_data[\"bbox_x\"].append(val[\"bbox\"][0])\n",
        "  df_data[\"bbox_y\"].append(val[\"bbox\"][1])\n",
        "  df_data[\"bbox_h\"].append(val[\"bbox\"][2])\n",
        "  df_data[\"bbox_w\"].append(val[\"bbox\"][3])\n",
        "  df_data[\"bbox_norm_x\"].append(val[\"bbox\"][0]/val[\"width\"])\n",
        "  df_data[\"bbox_norm_y\"].append(val[\"bbox\"][1]/val[\"height\"])\n",
        "  df_data[\"bbox_norm_w\"].append(val[\"bbox\"][2]/val[\"width\"])\n",
        "  df_data[\"bbox_norm_h\"].append(val[\"bbox\"][3]/val[\"height\"])\n",
        "  norm_bbox.append((df_data[\"bbox_norm_w\"][-1],\n",
        "        df_data[\"bbox_norm_h\"][-1]))\n",
        "\n",
        "df = pandas.DataFrame(df_data)\n",
        "df.to_csv('./bounded_annotations.csv')\n",
        "\n",
        "\n",
        "\n",
        "norm_bbox = np.array(norm_bbox)\n",
        "log_bboxes = norm_bbox.copy()\n",
        "log_bboxes = np.log(log_bboxes)\n",
        "\n",
        "\n"
      ],
      "execution_count": 0,
      "outputs": []
    },
    {
      "cell_type": "code",
      "metadata": {
        "id": "dtjKyb9UwpXQ",
        "colab_type": "code",
        "colab": {
          "base_uri": "https://localhost:8080/",
          "height": 153
        },
        "outputId": "ad113d98-0b27-4281-c3fb-2b8bda8b2a6e"
      },
      "source": [
        "print(df.head())"
      ],
      "execution_count": 14,
      "outputs": [
        {
          "output_type": "stream",
          "text": [
            "           img_name class  img_h  ...  bbox_norm_y  bbox_norm_w  bbox_norm_h\n",
            "0   n02085782_2.jpg   dog    298  ...     0.117450     0.763285     0.758389\n",
            "1  n02085782_17.jpg   dog    425  ...     0.268235     0.819338     0.578824\n",
            "2  n02085782_23.jpg   dog    379  ...     0.026385     0.625000     0.635884\n",
            "3  n02085782_28.jpg   dog    283  ...     0.024735     0.709333     0.897527\n",
            "4  n02085782_38.jpg   dog    379  ...     0.023747     0.506250     0.503958\n",
            "\n",
            "[5 rows x 12 columns]\n"
          ],
          "name": "stdout"
        }
      ]
    },
    {
      "cell_type": "markdown",
      "metadata": {
        "id": "DFDqV35owdXj",
        "colab_type": "text"
      },
      "source": [
        "**Apply K Means to the normalized width and height calculated**"
      ]
    },
    {
      "cell_type": "code",
      "metadata": {
        "id": "1U3xDOUHwf5E",
        "colab_type": "code",
        "colab": {
          "base_uri": "https://localhost:8080/",
          "height": 281
        },
        "outputId": "7a5493d9-d405-4a97-fafc-e6f45bad80a5"
      },
      "source": [
        "from matplotlib import pyplot as plt\n",
        "from sklearn.cluster import KMeans\n",
        "\n",
        "k = 5\n",
        "\n",
        "X = log_bboxes\n",
        "kmeans = KMeans(n_clusters=k, init='k-means++', max_iter=300,\n",
        "        n_init=10, random_state=0)\n",
        "pred_y = kmeans.fit_predict(X)\n",
        "centroids = kmeans.cluster_centers_\n",
        "plt.scatter(X[:,0], X[:,1])\n",
        "plt.scatter(kmeans.cluster_centers_[:, 0], kmeans.cluster_centers_[:, 1],\n",
        "      s=300, c='red')\n",
        "plt.title(\"K=%s Clustered Bboxes\" % k)\n",
        "plt.savefig(\"k%s_clustered_bboxes.png\" % k)\n",
        "plt.show()\n",
        "\n"
      ],
      "execution_count": 17,
      "outputs": [
        {
          "output_type": "display_data",
          "data": {
            "image/png": "[encoded data removed]",
            "text/plain": [
              "<Figure size 432x288 with 1 Axes>"
            ]
          },
          "metadata": {
            "tags": [],
            "needs_background": "light"
          }
        }
      ]
    },
    {
      "cell_type": "markdown",
      "metadata": {
        "id": "UEt91MyXyD-o",
        "colab_type": "text"
      },
      "source": [
        "**WCSS and Elbow Method for K Means**"
      ]
    },
    {
      "cell_type": "code",
      "metadata": {
        "id": "Kr40iOGKxRi1",
        "colab_type": "code",
        "colab": {
          "base_uri": "https://localhost:8080/",
          "height": 295
        },
        "outputId": "ea10b552-4f3a-4f84-a14b-dde626705fc3"
      },
      "source": [
        "X = log_bboxes\n",
        "wcss = []\n",
        "for i in range(1, 10):\n",
        "  kmeans = KMeans(n_clusters=i, init='k-means++', max_iter=300,\n",
        "          n_init=10, random_state=0)\n",
        "  kmeans.fit(X)\n",
        "  wcss.append(kmeans.inertia_)\n",
        "plt.plot(range(1, 10), wcss)\n",
        "plt.title('Elbow Method')\n",
        "plt.xlabel('Number of clusters')\n",
        "plt.ylabel('WCSS')\n",
        "plt.show()"
      ],
      "execution_count": 19,
      "outputs": [
        {
          "output_type": "display_data",
          "data": {
            "image/png": "[encoded data removed]",
            "text/plain": [
              "<Figure size 432x288 with 1 Axes>"
            ]
          },
          "metadata": {
            "tags": [],
            "needs_background": "light"
          }
        }
      ]
    }
  ]
}